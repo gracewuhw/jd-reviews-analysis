{
 "cells": [
  {
   "cell_type": "code",
   "execution_count": 1,
   "metadata": {},
   "outputs": [
    {
     "name": "stderr",
     "output_type": "stream",
     "text": [
      "Warning message:\n",
      "\"Missing column names filled in: 'X1' [1]\"Parsed with column specification:\n",
      "cols(\n",
      "  .default = col_character(),\n",
      "  X1 = col_integer(),\n",
      "  `Unnamed: 0` = col_integer(),\n",
      "  days = col_integer(),\n",
      "  score = col_integer(),\n",
      "  referenceId = col_double(),\n",
      "  imageCount = col_integer(),\n",
      "  usefulVoteCount = col_integer(),\n",
      "  predictScore = col_double(),\n",
      "  predictFlag = col_integer(),\n",
      "  actualFlag = col_integer()\n",
      ")\n",
      "See spec(...) for full column specifications.\n"
     ]
    },
    {
     "data": {
      "text/html": [
       "<table>\n",
       "<caption>A tibble: 6 × 11</caption>\n",
       "<thead>\n",
       "\t<tr><th scope=col>membershipLevel</th><th scope=col>commentContent</th><th scope=col>commentTime</th><th scope=col>source</th><th scope=col>productName</th><th scope=col>imageCount</th><th scope=col>containVideo</th><th scope=col>usefulVoteCount</th><th scope=col>device</th><th scope=col>predictScore</th><th scope=col>actualFlag</th></tr>\n",
       "\t<tr><th scope=col>&lt;chr&gt;</th><th scope=col>&lt;chr&gt;</th><th scope=col>&lt;chr&gt;</th><th scope=col>&lt;chr&gt;</th><th scope=col>&lt;chr&gt;</th><th scope=col>&lt;int&gt;</th><th scope=col>&lt;chr&gt;</th><th scope=col>&lt;int&gt;</th><th scope=col>&lt;chr&gt;</th><th scope=col>&lt;dbl&gt;</th><th scope=col>&lt;int&gt;</th></tr>\n",
       "</thead>\n",
       "<tbody>\n",
       "\t<tr><td>Plus    </td><td>这下够穿了，真的挺实惠的，颜色也很喜欢，看看能穿住了吧  </td><td>2019/5/8 8:45  </td><td>Android</td><td>俞兆林10双袜子男短袜秋季65%纯棉船袜夏季隐形浅口潮袜运动篮球棉袜男 10双装Beer男短袜 均码                   </td><td>3</td><td>False</td><td>0</td><td>Mobile Phone</td><td>0.9971100</td><td> 1</td></tr>\n",
       "\t<tr><td>4-Gold  </td><td>老品牌值得信赖好用，物流相当快，好评，下次还买。        </td><td>2019/6/13 17:50</td><td>Android</td><td>维达(Vinda) 抽纸 超韧3层130抽软抽*24包纸巾(小规格) 整箱销售（新旧产品随机发货）                           </td><td>0</td><td>True </td><td>0</td><td>Mobile Phone</td><td>1.0000000</td><td> 1</td></tr>\n",
       "\t<tr><td>Plus    </td><td>一直在用  还会继续回购  什么时候有赠品                  </td><td>2019/9/1 7:11  </td><td>Android</td><td>云南白药 牙膏 180g （留兰香型）新老包装随机发货                                                           </td><td>0</td><td>False</td><td>0</td><td>Mobile Phone</td><td>0.9945464</td><td> 1</td></tr>\n",
       "\t<tr><td>Plus    </td><td>快用完了 但效果不知道怎么样 因为是室外游泳              </td><td>2019/6/19 13:17</td><td>iPhone </td><td>曼秀雷敦新碧进口双重保湿防晒露防晒霜乳男女 SPF50+ 80g 长效持久 隔离紫外线 耐水耐汗小金帽 学生党           </td><td>0</td><td>True </td><td>0</td><td>Mobile Phone</td><td>0.8612527</td><td> 1</td></tr>\n",
       "\t<tr><td>3-Silver</td><td>第一次用，气泡就把小零件吹起来了！                      </td><td>2019/9/24 20:20</td><td>Android</td><td>南极人（NANJIREN）全自动足浴盆电动高深桶加热洗脚盆 自助按摩脚泡脚机器足疗盆 （秒杀活动）十组合式自助数码屏</td><td>1</td><td>False</td><td>0</td><td>Mobile Phone</td><td>0.6981536</td><td>-1</td></tr>\n",
       "\t<tr><td>Plus    </td><td>质量非常好的椰子粉，大品牌，味道很不错。下回再来继续购买</td><td>2019/8/16 2:46 </td><td>iPhone </td><td>海南特产 南国 营养早餐速溶饮料 咖啡伴侣 纯椰子粉320g/袋                                                   </td><td>0</td><td>False</td><td>1</td><td>Mobile Phone</td><td>0.9999970</td><td> 1</td></tr>\n",
       "</tbody>\n",
       "</table>\n"
      ],
      "text/latex": [
       "A tibble: 6 × 11\n",
       "\\begin{tabular}{r|lllllllllll}\n",
       " membershipLevel & commentContent & commentTime & source & productName & imageCount & containVideo & usefulVoteCount & device & predictScore & actualFlag\\\\\n",
       " <chr> & <chr> & <chr> & <chr> & <chr> & <int> & <chr> & <int> & <chr> & <dbl> & <int>\\\\\n",
       "\\hline\n",
       "\t Plus     & 这下够穿了，真的挺实惠的，颜色也很喜欢，看看能穿住了吧   & 2019/5/8 8:45   & Android & 俞兆林10双袜子男短袜秋季65\\%纯棉船袜夏季隐形浅口潮袜运动篮球棉袜男 10双装Beer男短袜 均码                    & 3 & False & 0 & Mobile Phone & 0.9971100 &  1\\\\\n",
       "\t 4-Gold   & 老品牌值得信赖好用，物流相当快，好评，下次还买。         & 2019/6/13 17:50 & Android & 维达(Vinda) 抽纸 超韧3层130抽软抽*24包纸巾(小规格) 整箱销售（新旧产品随机发货）                            & 0 & True  & 0 & Mobile Phone & 1.0000000 &  1\\\\\n",
       "\t Plus     & 一直在用  还会继续回购  什么时候有赠品                   & 2019/9/1 7:11   & Android & 云南白药 牙膏 180g （留兰香型）新老包装随机发货                                                            & 0 & False & 0 & Mobile Phone & 0.9945464 &  1\\\\\n",
       "\t Plus     & 快用完了 但效果不知道怎么样 因为是室外游泳               & 2019/6/19 13:17 & iPhone  & 曼秀雷敦新碧进口双重保湿防晒露防晒霜乳男女 SPF50+ 80g 长效持久 隔离紫外线 耐水耐汗小金帽 学生党            & 0 & True  & 0 & Mobile Phone & 0.8612527 &  1\\\\\n",
       "\t 3-Silver & 第一次用，气泡就把小零件吹起来了！                       & 2019/9/24 20:20 & Android & 南极人（NANJIREN）全自动足浴盆电动高深桶加热洗脚盆 自助按摩脚泡脚机器足疗盆 （秒杀活动）十组合式自助数码屏 & 1 & False & 0 & Mobile Phone & 0.6981536 & -1\\\\\n",
       "\t Plus     & 质量非常好的椰子粉，大品牌，味道很不错。下回再来继续购买 & 2019/8/16 2:46  & iPhone  & 海南特产 南国 营养早餐速溶饮料 咖啡伴侣 纯椰子粉320g/袋                                                    & 0 & False & 1 & Mobile Phone & 0.9999970 &  1\\\\\n",
       "\\end{tabular}\n"
      ],
      "text/markdown": [
       "\n",
       "A tibble: 6 × 11\n",
       "\n",
       "| membershipLevel &lt;chr&gt; | commentContent &lt;chr&gt; | commentTime &lt;chr&gt; | source &lt;chr&gt; | productName &lt;chr&gt; | imageCount &lt;int&gt; | containVideo &lt;chr&gt; | usefulVoteCount &lt;int&gt; | device &lt;chr&gt; | predictScore &lt;dbl&gt; | actualFlag &lt;int&gt; |\n",
       "|---|---|---|---|---|---|---|---|---|---|---|\n",
       "| Plus     | 这下够穿了，真的挺实惠的，颜色也很喜欢，看看能穿住了吧   | 2019/5/8 8:45   | Android | 俞兆林10双袜子男短袜秋季65%纯棉船袜夏季隐形浅口潮袜运动篮球棉袜男 10双装Beer男短袜 均码                    | 3 | False | 0 | Mobile Phone | 0.9971100 |  1 |\n",
       "| 4-Gold   | 老品牌值得信赖好用，物流相当快，好评，下次还买。         | 2019/6/13 17:50 | Android | 维达(Vinda) 抽纸 超韧3层130抽软抽*24包纸巾(小规格) 整箱销售（新旧产品随机发货）                            | 0 | True  | 0 | Mobile Phone | 1.0000000 |  1 |\n",
       "| Plus     | 一直在用  还会继续回购  什么时候有赠品                   | 2019/9/1 7:11   | Android | 云南白药 牙膏 180g （留兰香型）新老包装随机发货                                                            | 0 | False | 0 | Mobile Phone | 0.9945464 |  1 |\n",
       "| Plus     | 快用完了 但效果不知道怎么样 因为是室外游泳               | 2019/6/19 13:17 | iPhone  | 曼秀雷敦新碧进口双重保湿防晒露防晒霜乳男女 SPF50+ 80g 长效持久 隔离紫外线 耐水耐汗小金帽 学生党            | 0 | True  | 0 | Mobile Phone | 0.8612527 |  1 |\n",
       "| 3-Silver | 第一次用，气泡就把小零件吹起来了！                       | 2019/9/24 20:20 | Android | 南极人（NANJIREN）全自动足浴盆电动高深桶加热洗脚盆 自助按摩脚泡脚机器足疗盆 （秒杀活动）十组合式自助数码屏 | 1 | False | 0 | Mobile Phone | 0.6981536 | -1 |\n",
       "| Plus     | 质量非常好的椰子粉，大品牌，味道很不错。下回再来继续购买 | 2019/8/16 2:46  | iPhone  | 海南特产 南国 营养早餐速溶饮料 咖啡伴侣 纯椰子粉320g/袋                                                    | 0 | False | 1 | Mobile Phone | 0.9999970 |  1 |\n",
       "\n"
      ],
      "text/plain": [
       "  membershipLevel commentContent                                          \n",
       "1 Plus            这下够穿了，真的挺实惠的，颜色也很喜欢，看看能穿住了吧  \n",
       "2 4-Gold          老品牌值得信赖好用，物流相当快，好评，下次还买。        \n",
       "3 Plus            一直在用  还会继续回购  什么时候有赠品                  \n",
       "4 Plus            快用完了 但效果不知道怎么样 因为是室外游泳              \n",
       "5 3-Silver        第一次用，气泡就把小零件吹起来了！                      \n",
       "6 Plus            质量非常好的椰子粉，大品牌，味道很不错。下回再来继续购买\n",
       "  commentTime     source \n",
       "1 2019/5/8 8:45   Android\n",
       "2 2019/6/13 17:50 Android\n",
       "3 2019/9/1 7:11   Android\n",
       "4 2019/6/19 13:17 iPhone \n",
       "5 2019/9/24 20:20 Android\n",
       "6 2019/8/16 2:46  iPhone \n",
       "  productName                                                                                               \n",
       "1 俞兆林10双袜子男短袜秋季65%纯棉船袜夏季隐形浅口潮袜运动篮球棉袜男 10双装Beer男短袜 均码                   \n",
       "2 维达(Vinda) 抽纸 超韧3层130抽软抽*24包纸巾(小规格) 整箱销售（新旧产品随机发货）                           \n",
       "3 云南白药 牙膏 180g （留兰香型）新老包装随机发货                                                           \n",
       "4 曼秀雷敦新碧进口双重保湿防晒露防晒霜乳男女 SPF50+ 80g 长效持久 隔离紫外线 耐水耐汗小金帽 学生党           \n",
       "5 南极人（NANJIREN）全自动足浴盆电动高深桶加热洗脚盆 自助按摩脚泡脚机器足疗盆 （秒杀活动）十组合式自助数码屏\n",
       "6 海南特产 南国 营养早餐速溶饮料 咖啡伴侣 纯椰子粉320g/袋                                                   \n",
       "  imageCount containVideo usefulVoteCount device       predictScore actualFlag\n",
       "1 3          False        0               Mobile Phone 0.9971100     1        \n",
       "2 0          True         0               Mobile Phone 1.0000000     1        \n",
       "3 0          False        0               Mobile Phone 0.9945464     1        \n",
       "4 0          True         0               Mobile Phone 0.8612527     1        \n",
       "5 1          False        0               Mobile Phone 0.6981536    -1        \n",
       "6 0          False        1               Mobile Phone 0.9999970     1        "
      ]
     },
     "metadata": {},
     "output_type": "display_data"
    }
   ],
   "source": [
    "library(readr)\n",
    "df <- read_csv(\"D://JD crawler//snownlp_train3//reviews_test_predict2.csv\")\n",
    "drops <- c(\"X1\",\"userName\",\"Unnamed: 0\",\"userId\",\"days\",\"score\",\"referenceId\",\"productUrl\",\"predictFlag\")\n",
    "df <- df[ , !(names(df) %in% drops)]\n",
    "head(df)"
   ]
  },
  {
   "cell_type": "code",
   "execution_count": 2,
   "metadata": {},
   "outputs": [
    {
     "name": "stdout",
     "output_type": "stream",
     "text": [
      "Classes 'tbl_df', 'tbl' and 'data.frame':\t114872 obs. of  11 variables:\n",
      " $ membershipLevel: chr  \"Plus\" \"4-Gold\" \"Plus\" \"Plus\" ...\n",
      " $ commentContent : chr  \"这下够穿了，真的挺实惠的，颜色也很喜欢，看看能穿住了吧\" \"老品牌值得信赖好用，物流相当快，好评，下次还买。\" \"一直在用  还会继续回购  什么时候有赠品\" \"快用完了 但效果不知道怎么样 因为是室外游泳\" ...\n",
      " $ commentTime    : chr  \"2019/5/8 8:45\" \"2019/6/13 17:50\" \"2019/9/1 7:11\" \"2019/6/19 13:17\" ...\n",
      " $ source         : chr  \"Android\" \"Android\" \"Android\" \"iPhone\" ...\n",
      " $ productName    : chr  \"俞兆林10双袜子男短袜秋季65%纯棉船袜夏季隐形浅口潮袜运动篮球棉袜男 10双装Beer男短袜 均码\" \"维达(Vinda) 抽纸 超韧3层130抽软抽*24包纸巾(小规格) 整箱销售（新旧产品随机发货）\" \"云南白药 牙膏 180g （留兰香型）新老包装随机发货\" \"曼秀雷敦新碧进口双重保湿防晒露防晒霜乳男女 SPF50+ 80g 长效持久 隔离紫外线 耐水耐汗小金帽 学生党\" ...\n",
      " $ imageCount     : int  3 0 0 0 1 0 0 0 0 0 ...\n",
      " $ containVideo   : chr  \"False\" \"True\" \"False\" \"True\" ...\n",
      " $ usefulVoteCount: int  0 0 0 0 0 1 0 0 0 0 ...\n",
      " $ device         : chr  \"Mobile Phone\" \"Mobile Phone\" \"Mobile Phone\" \"Mobile Phone\" ...\n",
      " $ predictScore   : num  0.997 1 0.995 0.861 0.698 ...\n",
      " $ actualFlag     : int  1 1 1 1 -1 1 1 1 1 1 ...\n",
      " - attr(*, \"spec\")=List of 2\n",
      "  ..$ cols   :List of 20\n",
      "  .. ..$ X1             : list()\n",
      "  .. .. ..- attr(*, \"class\")= chr  \"collector_integer\" \"collector\"\n",
      "  .. ..$ Unnamed: 0     : list()\n",
      "  .. .. ..- attr(*, \"class\")= chr  \"collector_integer\" \"collector\"\n",
      "  .. ..$ userId         : list()\n",
      "  .. .. ..- attr(*, \"class\")= chr  \"collector_character\" \"collector\"\n",
      "  .. ..$ userName       : list()\n",
      "  .. .. ..- attr(*, \"class\")= chr  \"collector_character\" \"collector\"\n",
      "  .. ..$ membershipLevel: list()\n",
      "  .. .. ..- attr(*, \"class\")= chr  \"collector_character\" \"collector\"\n",
      "  .. ..$ commentContent : list()\n",
      "  .. .. ..- attr(*, \"class\")= chr  \"collector_character\" \"collector\"\n",
      "  .. ..$ commentTime    : list()\n",
      "  .. .. ..- attr(*, \"class\")= chr  \"collector_character\" \"collector\"\n",
      "  .. ..$ days           : list()\n",
      "  .. .. ..- attr(*, \"class\")= chr  \"collector_integer\" \"collector\"\n",
      "  .. ..$ score          : list()\n",
      "  .. .. ..- attr(*, \"class\")= chr  \"collector_integer\" \"collector\"\n",
      "  .. ..$ source         : list()\n",
      "  .. .. ..- attr(*, \"class\")= chr  \"collector_character\" \"collector\"\n",
      "  .. ..$ productName    : list()\n",
      "  .. .. ..- attr(*, \"class\")= chr  \"collector_character\" \"collector\"\n",
      "  .. ..$ referenceId    : list()\n",
      "  .. .. ..- attr(*, \"class\")= chr  \"collector_double\" \"collector\"\n",
      "  .. ..$ productUrl     : list()\n",
      "  .. .. ..- attr(*, \"class\")= chr  \"collector_character\" \"collector\"\n",
      "  .. ..$ imageCount     : list()\n",
      "  .. .. ..- attr(*, \"class\")= chr  \"collector_integer\" \"collector\"\n",
      "  .. ..$ containVideo   : list()\n",
      "  .. .. ..- attr(*, \"class\")= chr  \"collector_character\" \"collector\"\n",
      "  .. ..$ usefulVoteCount: list()\n",
      "  .. .. ..- attr(*, \"class\")= chr  \"collector_integer\" \"collector\"\n",
      "  .. ..$ device         : list()\n",
      "  .. .. ..- attr(*, \"class\")= chr  \"collector_character\" \"collector\"\n",
      "  .. ..$ predictScore   : list()\n",
      "  .. .. ..- attr(*, \"class\")= chr  \"collector_double\" \"collector\"\n",
      "  .. ..$ predictFlag    : list()\n",
      "  .. .. ..- attr(*, \"class\")= chr  \"collector_integer\" \"collector\"\n",
      "  .. ..$ actualFlag     : list()\n",
      "  .. .. ..- attr(*, \"class\")= chr  \"collector_integer\" \"collector\"\n",
      "  ..$ default: list()\n",
      "  .. ..- attr(*, \"class\")= chr  \"collector_guess\" \"collector\"\n",
      "  ..- attr(*, \"class\")= chr \"col_spec\"\n"
     ]
    }
   ],
   "source": [
    "str(df)"
   ]
  },
  {
   "cell_type": "code",
   "execution_count": 3,
   "metadata": {},
   "outputs": [
    {
     "data": {
      "text/html": [
       "<dl class=dl-horizontal>\n",
       "\t<dt>membershipLevel</dt>\n",
       "\t\t<dd>0</dd>\n",
       "\t<dt>commentContent</dt>\n",
       "\t\t<dd>0</dd>\n",
       "\t<dt>commentTime</dt>\n",
       "\t\t<dd>577</dd>\n",
       "\t<dt>source</dt>\n",
       "\t\t<dd>0</dd>\n",
       "\t<dt>productName</dt>\n",
       "\t\t<dd>0</dd>\n",
       "\t<dt>imageCount</dt>\n",
       "\t\t<dd>0</dd>\n",
       "\t<dt>containVideo</dt>\n",
       "\t\t<dd>0</dd>\n",
       "\t<dt>usefulVoteCount</dt>\n",
       "\t\t<dd>0</dd>\n",
       "\t<dt>device</dt>\n",
       "\t\t<dd>0</dd>\n",
       "\t<dt>predictScore</dt>\n",
       "\t\t<dd>0</dd>\n",
       "\t<dt>actualFlag</dt>\n",
       "\t\t<dd>0</dd>\n",
       "</dl>\n"
      ],
      "text/latex": [
       "\\begin{description*}\n",
       "\\item[membershipLevel] 0\n",
       "\\item[commentContent] 0\n",
       "\\item[commentTime] 577\n",
       "\\item[source] 0\n",
       "\\item[productName] 0\n",
       "\\item[imageCount] 0\n",
       "\\item[containVideo] 0\n",
       "\\item[usefulVoteCount] 0\n",
       "\\item[device] 0\n",
       "\\item[predictScore] 0\n",
       "\\item[actualFlag] 0\n",
       "\\end{description*}\n"
      ],
      "text/markdown": [
       "membershipLevel\n",
       ":   0commentContent\n",
       ":   0commentTime\n",
       ":   577source\n",
       ":   0productName\n",
       ":   0imageCount\n",
       ":   0containVideo\n",
       ":   0usefulVoteCount\n",
       ":   0device\n",
       ":   0predictScore\n",
       ":   0actualFlag\n",
       ":   0\n",
       "\n"
      ],
      "text/plain": [
       "membershipLevel  commentContent     commentTime          source     productName \n",
       "              0               0             577               0               0 \n",
       "     imageCount    containVideo usefulVoteCount          device    predictScore \n",
       "              0               0               0               0               0 \n",
       "     actualFlag \n",
       "              0 "
      ]
     },
     "metadata": {},
     "output_type": "display_data"
    }
   ],
   "source": [
    "# check if there are any missing values\n",
    "sapply(df, function(x) sum(is.na(x)))"
   ]
  },
  {
   "cell_type": "code",
   "execution_count": 4,
   "metadata": {},
   "outputs": [
    {
     "data": {
      "text/plain": [
       "\n",
       "Mobile Phone           PC \n",
       "      109295         5577 "
      ]
     },
     "metadata": {},
     "output_type": "display_data"
    },
    {
     "data": {
      "text/plain": [
       "\n",
       "        Android            iPad          iPhone              PC     QQ shopping \n",
       "          68150              24           38938            5577              67 \n",
       "Wechat shopping \n",
       "           2116 "
      ]
     },
     "metadata": {},
     "output_type": "display_data"
    },
    {
     "name": "stderr",
     "output_type": "stream",
     "text": [
      "Warning message:\n",
      "\"Unknown or uninitialised column: 'score'.\""
     ]
    },
    {
     "data": {
      "text/plain": [
       "< table of extent 0 >"
      ]
     },
     "metadata": {},
     "output_type": "display_data"
    },
    {
     "data": {
      "text/plain": [
       "\n",
       "   1-Normal    2-Bronze    3-Silver      4-Gold   5-Diamond  Enterprise \n",
       "       9494        8835       13136       12768       11139         429 \n",
       "       Plus Plus(trial) \n",
       "      58391         680 "
      ]
     },
     "metadata": {},
     "output_type": "display_data"
    }
   ],
   "source": [
    "table(df$device)\n",
    "table(df$source)\n",
    "table(df$score)\n",
    "table(df$membershipLevel)"
   ]
  },
  {
   "cell_type": "code",
   "execution_count": 5,
   "metadata": {},
   "outputs": [
    {
     "name": "stdout",
     "output_type": "stream",
     "text": [
      "Classes 'tbl_df', 'tbl' and 'data.frame':\t114872 obs. of  12 variables:\n",
      " $ membershipLevel: Factor w/ 8 levels \"1-Normal\",\"2-Bronze\",..: 7 4 7 7 3 7 7 5 2 7 ...\n",
      " $ commentContent : chr  \"这下够穿了，真的挺实惠的，颜色也很喜欢，看看能穿住了吧\" \"老品牌值得信赖好用，物流相当快，好评，下次还买。\" \"一直在用  还会继续回购  什么时候有赠品\" \"快用完了 但效果不知道怎么样 因为是室外游泳\" ...\n",
      " $ commentTime    : POSIXct, format: \"2019-05-08 08:45:00\" \"2019-06-13 17:50:00\" ...\n",
      " $ source         : Factor w/ 6 levels \"Android\",\"iPad\",..: 1 1 1 3 1 3 3 1 6 3 ...\n",
      " $ productName    : chr  \"俞兆林10双袜子男短袜秋季65%纯棉船袜夏季隐形浅口潮袜运动篮球棉袜男 10双装Beer男短袜 均码\" \"维达(Vinda) 抽纸 超韧3层130抽软抽*24包纸巾(小规格) 整箱销售（新旧产品随机发货）\" \"云南白药 牙膏 180g （留兰香型）新老包装随机发货\" \"曼秀雷敦新碧进口双重保湿防晒露防晒霜乳男女 SPF50+ 80g 长效持久 隔离紫外线 耐水耐汗小金帽 学生党\" ...\n",
      " $ imageCount     : int  3 0 0 0 1 0 0 0 0 0 ...\n",
      " $ containVideo   : chr  \"False\" \"True\" \"False\" \"True\" ...\n",
      " $ usefulVoteCount: int  0 0 0 0 0 1 0 0 0 0 ...\n",
      " $ device         : Factor w/ 2 levels \"Mobile Phone\",..: 1 1 1 1 1 1 1 1 1 1 ...\n",
      " $ predictScore   : num  0.997 1 0.995 0.861 0.698 ...\n",
      " $ actualFlag     : int  1 1 1 1 -1 1 1 1 1 1 ...\n",
      " $ commentHour    : int  8 17 7 13 20 2 23 10 23 17 ...\n",
      " - attr(*, \"spec\")=List of 2\n",
      "  ..$ cols   :List of 20\n",
      "  .. ..$ X1             : list()\n",
      "  .. .. ..- attr(*, \"class\")= chr  \"collector_integer\" \"collector\"\n",
      "  .. ..$ Unnamed: 0     : list()\n",
      "  .. .. ..- attr(*, \"class\")= chr  \"collector_integer\" \"collector\"\n",
      "  .. ..$ userId         : list()\n",
      "  .. .. ..- attr(*, \"class\")= chr  \"collector_character\" \"collector\"\n",
      "  .. ..$ userName       : list()\n",
      "  .. .. ..- attr(*, \"class\")= chr  \"collector_character\" \"collector\"\n",
      "  .. ..$ membershipLevel: list()\n",
      "  .. .. ..- attr(*, \"class\")= chr  \"collector_character\" \"collector\"\n",
      "  .. ..$ commentContent : list()\n",
      "  .. .. ..- attr(*, \"class\")= chr  \"collector_character\" \"collector\"\n",
      "  .. ..$ commentTime    : list()\n",
      "  .. .. ..- attr(*, \"class\")= chr  \"collector_character\" \"collector\"\n",
      "  .. ..$ days           : list()\n",
      "  .. .. ..- attr(*, \"class\")= chr  \"collector_integer\" \"collector\"\n",
      "  .. ..$ score          : list()\n",
      "  .. .. ..- attr(*, \"class\")= chr  \"collector_integer\" \"collector\"\n",
      "  .. ..$ source         : list()\n",
      "  .. .. ..- attr(*, \"class\")= chr  \"collector_character\" \"collector\"\n",
      "  .. ..$ productName    : list()\n",
      "  .. .. ..- attr(*, \"class\")= chr  \"collector_character\" \"collector\"\n",
      "  .. ..$ referenceId    : list()\n",
      "  .. .. ..- attr(*, \"class\")= chr  \"collector_double\" \"collector\"\n",
      "  .. ..$ productUrl     : list()\n",
      "  .. .. ..- attr(*, \"class\")= chr  \"collector_character\" \"collector\"\n",
      "  .. ..$ imageCount     : list()\n",
      "  .. .. ..- attr(*, \"class\")= chr  \"collector_integer\" \"collector\"\n",
      "  .. ..$ containVideo   : list()\n",
      "  .. .. ..- attr(*, \"class\")= chr  \"collector_character\" \"collector\"\n",
      "  .. ..$ usefulVoteCount: list()\n",
      "  .. .. ..- attr(*, \"class\")= chr  \"collector_integer\" \"collector\"\n",
      "  .. ..$ device         : list()\n",
      "  .. .. ..- attr(*, \"class\")= chr  \"collector_character\" \"collector\"\n",
      "  .. ..$ predictScore   : list()\n",
      "  .. .. ..- attr(*, \"class\")= chr  \"collector_double\" \"collector\"\n",
      "  .. ..$ predictFlag    : list()\n",
      "  .. .. ..- attr(*, \"class\")= chr  \"collector_integer\" \"collector\"\n",
      "  .. ..$ actualFlag     : list()\n",
      "  .. .. ..- attr(*, \"class\")= chr  \"collector_integer\" \"collector\"\n",
      "  ..$ default: list()\n",
      "  .. ..- attr(*, \"class\")= chr  \"collector_guess\" \"collector\"\n",
      "  ..- attr(*, \"class\")= chr \"col_spec\"\n"
     ]
    }
   ],
   "source": [
    "# format data\n",
    "df$membershipLevel <- as.factor(df$membershipLevel)\n",
    "df$device <- as.factor(df$device)\n",
    "# df$score <- as.factor(df$score)\n",
    "df$source <- as.factor(df$source)\n",
    "# df$predictFlag <- as.factor(df$predictFlag)\n",
    "# df$actualFlag <- as.factor(df$actualFlag)\n",
    "df$commentTime <- as.POSIXct(df$commentTime,format=\"%Y/%m/%d %H:%M\")\n",
    "df[,\"commentHour\"] <- as.POSIXlt(df$commentTime)$hour\n",
    "str(df)"
   ]
  },
  {
   "cell_type": "code",
   "execution_count": 6,
   "metadata": {},
   "outputs": [
    {
     "name": "stderr",
     "output_type": "stream",
     "text": [
      "Warning message:\n",
      "\"package 'dplyr' was built under R version 3.5.3\"\n",
      "Attaching package: 'dplyr'\n",
      "\n",
      "The following objects are masked from 'package:stats':\n",
      "\n",
      "    filter, lag\n",
      "\n",
      "The following objects are masked from 'package:base':\n",
      "\n",
      "    intersect, setdiff, setequal, union\n",
      "\n"
     ]
    },
    {
     "data": {
      "text/html": [
       "<table>\n",
       "<caption>A tibble: 2 × 3</caption>\n",
       "<thead>\n",
       "\t<tr><th scope=col>device</th><th scope=col>mean_sentiScore</th><th scope=col>count</th></tr>\n",
       "\t<tr><th scope=col>&lt;fct&gt;</th><th scope=col>&lt;dbl&gt;</th><th scope=col>&lt;int&gt;</th></tr>\n",
       "</thead>\n",
       "<tbody>\n",
       "\t<tr><td>Mobile Phone</td><td>0.8893339</td><td>109295</td></tr>\n",
       "\t<tr><td>PC          </td><td>0.8651195</td><td>  5577</td></tr>\n",
       "</tbody>\n",
       "</table>\n"
      ],
      "text/latex": [
       "A tibble: 2 × 3\n",
       "\\begin{tabular}{r|lll}\n",
       " device & mean\\_sentiScore & count\\\\\n",
       " <fct> & <dbl> & <int>\\\\\n",
       "\\hline\n",
       "\t Mobile Phone & 0.8893339 & 109295\\\\\n",
       "\t PC           & 0.8651195 &   5577\\\\\n",
       "\\end{tabular}\n"
      ],
      "text/markdown": [
       "\n",
       "A tibble: 2 × 3\n",
       "\n",
       "| device &lt;fct&gt; | mean_sentiScore &lt;dbl&gt; | count &lt;int&gt; |\n",
       "|---|---|---|\n",
       "| Mobile Phone | 0.8893339 | 109295 |\n",
       "| PC           | 0.8651195 |   5577 |\n",
       "\n"
      ],
      "text/plain": [
       "  device       mean_sentiScore count \n",
       "1 Mobile Phone 0.8893339       109295\n",
       "2 PC           0.8651195         5577"
      ]
     },
     "metadata": {},
     "output_type": "display_data"
    },
    {
     "data": {
      "text/html": [
       "<table>\n",
       "<caption>A tibble: 6 × 3</caption>\n",
       "<thead>\n",
       "\t<tr><th scope=col>source</th><th scope=col>mean_sentiScore</th><th scope=col>count</th></tr>\n",
       "\t<tr><th scope=col>&lt;fct&gt;</th><th scope=col>&lt;dbl&gt;</th><th scope=col>&lt;int&gt;</th></tr>\n",
       "</thead>\n",
       "<tbody>\n",
       "\t<tr><td>Android        </td><td>0.8927586</td><td>68150</td></tr>\n",
       "\t<tr><td>iPad           </td><td>0.7914724</td><td>   24</td></tr>\n",
       "\t<tr><td>iPhone         </td><td>0.8895737</td><td>38938</td></tr>\n",
       "\t<tr><td>PC             </td><td>0.8651195</td><td> 5577</td></tr>\n",
       "\t<tr><td>QQ shopping    </td><td>0.7811316</td><td>   67</td></tr>\n",
       "\t<tr><td>Wechat shopping</td><td>0.7791588</td><td> 2116</td></tr>\n",
       "</tbody>\n",
       "</table>\n"
      ],
      "text/latex": [
       "A tibble: 6 × 3\n",
       "\\begin{tabular}{r|lll}\n",
       " source & mean\\_sentiScore & count\\\\\n",
       " <fct> & <dbl> & <int>\\\\\n",
       "\\hline\n",
       "\t Android         & 0.8927586 & 68150\\\\\n",
       "\t iPad            & 0.7914724 &    24\\\\\n",
       "\t iPhone          & 0.8895737 & 38938\\\\\n",
       "\t PC              & 0.8651195 &  5577\\\\\n",
       "\t QQ shopping     & 0.7811316 &    67\\\\\n",
       "\t Wechat shopping & 0.7791588 &  2116\\\\\n",
       "\\end{tabular}\n"
      ],
      "text/markdown": [
       "\n",
       "A tibble: 6 × 3\n",
       "\n",
       "| source &lt;fct&gt; | mean_sentiScore &lt;dbl&gt; | count &lt;int&gt; |\n",
       "|---|---|---|\n",
       "| Android         | 0.8927586 | 68150 |\n",
       "| iPad            | 0.7914724 |    24 |\n",
       "| iPhone          | 0.8895737 | 38938 |\n",
       "| PC              | 0.8651195 |  5577 |\n",
       "| QQ shopping     | 0.7811316 |    67 |\n",
       "| Wechat shopping | 0.7791588 |  2116 |\n",
       "\n"
      ],
      "text/plain": [
       "  source          mean_sentiScore count\n",
       "1 Android         0.8927586       68150\n",
       "2 iPad            0.7914724          24\n",
       "3 iPhone          0.8895737       38938\n",
       "4 PC              0.8651195        5577\n",
       "5 QQ shopping     0.7811316          67\n",
       "6 Wechat shopping 0.7791588        2116"
      ]
     },
     "metadata": {},
     "output_type": "display_data"
    },
    {
     "data": {
      "text/html": [
       "<table>\n",
       "<caption>A tibble: 5 × 3</caption>\n",
       "<thead>\n",
       "\t<tr><th scope=col>membershipLevel</th><th scope=col>mean_sentiScore</th><th scope=col>count</th></tr>\n",
       "\t<tr><th scope=col>&lt;fct&gt;</th><th scope=col>&lt;dbl&gt;</th><th scope=col>&lt;int&gt;</th></tr>\n",
       "</thead>\n",
       "<tbody>\n",
       "\t<tr><td>1-Normal </td><td>0.9084082</td><td> 9494</td></tr>\n",
       "\t<tr><td>2-Bronze </td><td>0.8543994</td><td> 8835</td></tr>\n",
       "\t<tr><td>3-Silver </td><td>0.8548754</td><td>13136</td></tr>\n",
       "\t<tr><td>4-Gold   </td><td>0.8630464</td><td>12768</td></tr>\n",
       "\t<tr><td>5-Diamond</td><td>0.8760885</td><td>11139</td></tr>\n",
       "</tbody>\n",
       "</table>\n"
      ],
      "text/latex": [
       "A tibble: 5 × 3\n",
       "\\begin{tabular}{r|lll}\n",
       " membershipLevel & mean\\_sentiScore & count\\\\\n",
       " <fct> & <dbl> & <int>\\\\\n",
       "\\hline\n",
       "\t 1-Normal  & 0.9084082 &  9494\\\\\n",
       "\t 2-Bronze  & 0.8543994 &  8835\\\\\n",
       "\t 3-Silver  & 0.8548754 & 13136\\\\\n",
       "\t 4-Gold    & 0.8630464 & 12768\\\\\n",
       "\t 5-Diamond & 0.8760885 & 11139\\\\\n",
       "\\end{tabular}\n"
      ],
      "text/markdown": [
       "\n",
       "A tibble: 5 × 3\n",
       "\n",
       "| membershipLevel &lt;fct&gt; | mean_sentiScore &lt;dbl&gt; | count &lt;int&gt; |\n",
       "|---|---|---|\n",
       "| 1-Normal  | 0.9084082 |  9494 |\n",
       "| 2-Bronze  | 0.8543994 |  8835 |\n",
       "| 3-Silver  | 0.8548754 | 13136 |\n",
       "| 4-Gold    | 0.8630464 | 12768 |\n",
       "| 5-Diamond | 0.8760885 | 11139 |\n",
       "\n"
      ],
      "text/plain": [
       "  membershipLevel mean_sentiScore count\n",
       "1 1-Normal        0.9084082        9494\n",
       "2 2-Bronze        0.8543994        8835\n",
       "3 3-Silver        0.8548754       13136\n",
       "4 4-Gold          0.8630464       12768\n",
       "5 5-Diamond       0.8760885       11139"
      ]
     },
     "metadata": {},
     "output_type": "display_data"
    },
    {
     "data": {
      "text/html": [
       "<table>\n",
       "<caption>A tibble: 1 × 2</caption>\n",
       "<thead>\n",
       "\t<tr><th scope=col>extremely_positive_percentage_total</th><th scope=col>extremely_negative_percentage_total</th></tr>\n",
       "\t<tr><th scope=col>&lt;dbl&gt;</th><th scope=col>&lt;dbl&gt;</th></tr>\n",
       "</thead>\n",
       "<tbody>\n",
       "\t<tr><td>0.01652274</td><td>0.0007051327</td></tr>\n",
       "</tbody>\n",
       "</table>\n"
      ],
      "text/latex": [
       "A tibble: 1 × 2\n",
       "\\begin{tabular}{r|ll}\n",
       " extremely\\_positive\\_percentage\\_total & extremely\\_negative\\_percentage\\_total\\\\\n",
       " <dbl> & <dbl>\\\\\n",
       "\\hline\n",
       "\t 0.01652274 & 0.0007051327\\\\\n",
       "\\end{tabular}\n"
      ],
      "text/markdown": [
       "\n",
       "A tibble: 1 × 2\n",
       "\n",
       "| extremely_positive_percentage_total &lt;dbl&gt; | extremely_negative_percentage_total &lt;dbl&gt; |\n",
       "|---|---|\n",
       "| 0.01652274 | 0.0007051327 |\n",
       "\n"
      ],
      "text/plain": [
       "  extremely_positive_percentage_total extremely_negative_percentage_total\n",
       "1 0.01652274                          0.0007051327                       "
      ]
     },
     "metadata": {},
     "output_type": "display_data"
    },
    {
     "data": {
      "text/html": [
       "<table>\n",
       "<caption>A tibble: 1 × 2</caption>\n",
       "<thead>\n",
       "\t<tr><th scope=col>positive_percentage_total</th><th scope=col>negative_percentage_total</th></tr>\n",
       "\t<tr><th scope=col>&lt;dbl&gt;</th><th scope=col>&lt;dbl&gt;</th></tr>\n",
       "</thead>\n",
       "<tbody>\n",
       "\t<tr><td>0.8900167</td><td>0.1099833</td></tr>\n",
       "</tbody>\n",
       "</table>\n"
      ],
      "text/latex": [
       "A tibble: 1 × 2\n",
       "\\begin{tabular}{r|ll}\n",
       " positive\\_percentage\\_total & negative\\_percentage\\_total\\\\\n",
       " <dbl> & <dbl>\\\\\n",
       "\\hline\n",
       "\t 0.8900167 & 0.1099833\\\\\n",
       "\\end{tabular}\n"
      ],
      "text/markdown": [
       "\n",
       "A tibble: 1 × 2\n",
       "\n",
       "| positive_percentage_total &lt;dbl&gt; | negative_percentage_total &lt;dbl&gt; |\n",
       "|---|---|\n",
       "| 0.8900167 | 0.1099833 |\n",
       "\n"
      ],
      "text/plain": [
       "  positive_percentage_total negative_percentage_total\n",
       "1 0.8900167                 0.1099833                "
      ]
     },
     "metadata": {},
     "output_type": "display_data"
    },
    {
     "data": {
      "text/html": [
       "<table>\n",
       "<caption>A tibble: 2 × 3</caption>\n",
       "<thead>\n",
       "\t<tr><th scope=col>device</th><th scope=col>extremely_positive_percentage</th><th scope=col>extremely_negative_percentage</th></tr>\n",
       "\t<tr><th scope=col>&lt;fct&gt;</th><th scope=col>&lt;dbl&gt;</th><th scope=col>&lt;dbl&gt;</th></tr>\n",
       "</thead>\n",
       "<tbody>\n",
       "\t<tr><td>Mobile Phone</td><td>0.01506016</td><td>0.0006679171</td></tr>\n",
       "\t<tr><td>PC          </td><td>0.04518558</td><td>0.0014344630</td></tr>\n",
       "</tbody>\n",
       "</table>\n"
      ],
      "text/latex": [
       "A tibble: 2 × 3\n",
       "\\begin{tabular}{r|lll}\n",
       " device & extremely\\_positive\\_percentage & extremely\\_negative\\_percentage\\\\\n",
       " <fct> & <dbl> & <dbl>\\\\\n",
       "\\hline\n",
       "\t Mobile Phone & 0.01506016 & 0.0006679171\\\\\n",
       "\t PC           & 0.04518558 & 0.0014344630\\\\\n",
       "\\end{tabular}\n"
      ],
      "text/markdown": [
       "\n",
       "A tibble: 2 × 3\n",
       "\n",
       "| device &lt;fct&gt; | extremely_positive_percentage &lt;dbl&gt; | extremely_negative_percentage &lt;dbl&gt; |\n",
       "|---|---|---|\n",
       "| Mobile Phone | 0.01506016 | 0.0006679171 |\n",
       "| PC           | 0.04518558 | 0.0014344630 |\n",
       "\n"
      ],
      "text/plain": [
       "  device       extremely_positive_percentage extremely_negative_percentage\n",
       "1 Mobile Phone 0.01506016                    0.0006679171                 \n",
       "2 PC           0.04518558                    0.0014344630                 "
      ]
     },
     "metadata": {},
     "output_type": "display_data"
    },
    {
     "data": {
      "text/html": [
       "<table>\n",
       "<caption>A tibble: 2 × 3</caption>\n",
       "<thead>\n",
       "\t<tr><th scope=col>device</th><th scope=col>positive_percentage</th><th scope=col>negative_percentage</th></tr>\n",
       "\t<tr><th scope=col>&lt;fct&gt;</th><th scope=col>&lt;dbl&gt;</th><th scope=col>&lt;dbl&gt;</th></tr>\n",
       "</thead>\n",
       "<tbody>\n",
       "\t<tr><td>Mobile Phone</td><td>0.8911753</td><td>0.1088247</td></tr>\n",
       "\t<tr><td>PC          </td><td>0.8673122</td><td>0.1326878</td></tr>\n",
       "</tbody>\n",
       "</table>\n"
      ],
      "text/latex": [
       "A tibble: 2 × 3\n",
       "\\begin{tabular}{r|lll}\n",
       " device & positive\\_percentage & negative\\_percentage\\\\\n",
       " <fct> & <dbl> & <dbl>\\\\\n",
       "\\hline\n",
       "\t Mobile Phone & 0.8911753 & 0.1088247\\\\\n",
       "\t PC           & 0.8673122 & 0.1326878\\\\\n",
       "\\end{tabular}\n"
      ],
      "text/markdown": [
       "\n",
       "A tibble: 2 × 3\n",
       "\n",
       "| device &lt;fct&gt; | positive_percentage &lt;dbl&gt; | negative_percentage &lt;dbl&gt; |\n",
       "|---|---|---|\n",
       "| Mobile Phone | 0.8911753 | 0.1088247 |\n",
       "| PC           | 0.8673122 | 0.1326878 |\n",
       "\n"
      ],
      "text/plain": [
       "  device       positive_percentage negative_percentage\n",
       "1 Mobile Phone 0.8911753           0.1088247          \n",
       "2 PC           0.8673122           0.1326878          "
      ]
     },
     "metadata": {},
     "output_type": "display_data"
    }
   ],
   "source": [
    "library(dplyr)\n",
    "# filter(df, device == 'PC') %>% summarize(PC_mean = mean(predictScore))\n",
    "mutate(df) %>%\n",
    " group_by(device) %>%\n",
    " summarize(mean_sentiScore = mean(predictScore, na.rm = TRUE), count = n())\n",
    "mutate(df) %>%\n",
    " group_by(source) %>%\n",
    " summarize(mean_sentiScore = mean(predictScore, na.rm = TRUE), count = n())\n",
    "\n",
    "target <- c('1-Normal','2-Bronze','3-Silver','4-Gold','5-Diamond')\n",
    "memberdf <- filter(df, membershipLevel %in% target)\n",
    "mutate(memberdf) %>%\n",
    " group_by(membershipLevel) %>%\n",
    " summarize(mean_sentiScore = mean(predictScore, na.rm = TRUE), count = n())\n",
    "\n",
    "mutate(df) %>%\n",
    " summarise(extremely_positive_percentage_total = sum(predictScore == 1)/n(), extremely_negative_percentage_total = sum(predictScore == 0)/n())\n",
    "\n",
    "mutate(df) %>%\n",
    " summarise(positive_percentage_total = sum(predictScore >= 0.6)/n(), negative_percentage_total = sum(predictScore < 0.6)/n())\n",
    "\n",
    "mutate(df) %>%\n",
    " group_by(device) %>%\n",
    " summarise(extremely_positive_percentage = sum(predictScore == 1)/n(), extremely_negative_percentage = sum(predictScore == 0)/n())\n",
    "\n",
    "mutate(df) %>%\n",
    " group_by(device) %>%\n",
    " summarise(positive_percentage = sum(predictScore >= 0.6)/n(), negative_percentage = sum(predictScore < 0.6)/n())\n"
   ]
  },
  {
   "cell_type": "code",
   "execution_count": 7,
   "metadata": {},
   "outputs": [
    {
     "data": {
      "text/plain": [
       "   Min. 1st Qu.  Median    Mean 3rd Qu.    Max. \n",
       " 0.0000  0.9566  0.9990  0.8882  1.0000  1.0000 "
      ]
     },
     "metadata": {},
     "output_type": "display_data"
    },
    {
     "data": {
      "image/png": "[encoded data removed]",
      "text/plain": [
       "Plot with title \"Histogram of predictScore\""
      ]
     },
     "metadata": {},
     "output_type": "display_data"
    }
   ],
   "source": [
    "attach(df) \n",
    "summary(predictScore)\n",
    "# hist(predictScore, xlab = \"Credit Month\", ylab = \"Frequency\", main = \" \", cex=0.4)\n",
    "hist(predictScore, col = \"blue\", breaks = 50)\n",
    "abline(v=0.6)\n",
    "# boxplot(predictScore, bty=\"n\",xlab = \"sentiment score\", cex=0.4)\n",
    "# hist(days, col = \"green\", breaks = 50)\n"
   ]
  },
  {
   "cell_type": "code",
   "execution_count": 8,
   "metadata": {},
   "outputs": [],
   "source": [
    "# boxplot(days, horizontal = TRUE, axes = FALSE, staplewex = 1)\n",
    "# text(x = boxplot.stats(days)$stats, labels = boxplot.stats(days)$stats, y = 1.25)\n",
    "# summary(days)"
   ]
  },
  {
   "cell_type": "code",
   "execution_count": 9,
   "metadata": {},
   "outputs": [],
   "source": [
    "# df$cmTimeBins <- cut(df$days, breaks=c(-10,0,3,7,14,30,141), labels=c(\"minus 0 \",\"3 days\",\"one week\",\"two weeks\",\"one month\",\"one month later\"))"
   ]
  },
  {
   "cell_type": "code",
   "execution_count": 10,
   "metadata": {},
   "outputs": [],
   "source": [
    "# mutate(df) %>%\n",
    "#  group_by(cmTimeBins) %>%\n",
    "#  summarize(sentiScore = mean(predictScore, na.rm = TRUE), count = n())"
   ]
  },
  {
   "cell_type": "code",
   "execution_count": 11,
   "metadata": {},
   "outputs": [
    {
     "data": {
      "image/png": "[encoded data removed]",
      "text/plain": [
       "plot without title"
      ]
     },
     "metadata": {},
     "output_type": "display_data"
    },
    {
     "data": {
      "image/png": "[encoded data removed]",
      "text/plain": [
       "plot without title"
      ]
     },
     "metadata": {},
     "output_type": "display_data"
    }
   ],
   "source": [
    "table(device) %>% barplot(col = \"wheat\")\n",
    "boxplot(predictScore ~device, data = df, col = \"red\", horizontal = TRUE)\n",
    "abline(v=0.6)"
   ]
  },
  {
   "cell_type": "code",
   "execution_count": 12,
   "metadata": {},
   "outputs": [
    {
     "data": {
      "text/html": [
       "<table>\n",
       "<caption>A tibble: 6 × 3</caption>\n",
       "<thead>\n",
       "\t<tr><th scope=col>commentHour</th><th scope=col>MB_PC</th><th scope=col>PC_MB</th></tr>\n",
       "\t<tr><th scope=col>&lt;fct&gt;</th><th scope=col>&lt;dbl&gt;</th><th scope=col>&lt;dbl&gt;</th></tr>\n",
       "</thead>\n",
       "<tbody>\n",
       "\t<tr><td>0</td><td> 30.42029</td><td>0.03287280</td></tr>\n",
       "\t<tr><td>1</td><td> 25.78788</td><td>0.03877791</td></tr>\n",
       "\t<tr><td>2</td><td> 23.43750</td><td>0.04266667</td></tr>\n",
       "\t<tr><td>3</td><td> 27.00000</td><td>0.03703704</td></tr>\n",
       "\t<tr><td>4</td><td>125.00000</td><td>0.00800000</td></tr>\n",
       "\t<tr><td>5</td><td> 44.80000</td><td>0.02232143</td></tr>\n",
       "</tbody>\n",
       "</table>\n"
      ],
      "text/latex": [
       "A tibble: 6 × 3\n",
       "\\begin{tabular}{r|lll}\n",
       " commentHour & MB\\_PC & PC\\_MB\\\\\n",
       " <fct> & <dbl> & <dbl>\\\\\n",
       "\\hline\n",
       "\t 0 &  30.42029 & 0.03287280\\\\\n",
       "\t 1 &  25.78788 & 0.03877791\\\\\n",
       "\t 2 &  23.43750 & 0.04266667\\\\\n",
       "\t 3 &  27.00000 & 0.03703704\\\\\n",
       "\t 4 & 125.00000 & 0.00800000\\\\\n",
       "\t 5 &  44.80000 & 0.02232143\\\\\n",
       "\\end{tabular}\n"
      ],
      "text/markdown": [
       "\n",
       "A tibble: 6 × 3\n",
       "\n",
       "| commentHour &lt;fct&gt; | MB_PC &lt;dbl&gt; | PC_MB &lt;dbl&gt; |\n",
       "|---|---|---|\n",
       "| 0 |  30.42029 | 0.03287280 |\n",
       "| 1 |  25.78788 | 0.03877791 |\n",
       "| 2 |  23.43750 | 0.04266667 |\n",
       "| 3 |  27.00000 | 0.03703704 |\n",
       "| 4 | 125.00000 | 0.00800000 |\n",
       "| 5 |  44.80000 | 0.02232143 |\n",
       "\n"
      ],
      "text/plain": [
       "  commentHour MB_PC     PC_MB     \n",
       "1 0            30.42029 0.03287280\n",
       "2 1            25.78788 0.03877791\n",
       "3 2            23.43750 0.04266667\n",
       "4 3            27.00000 0.03703704\n",
       "5 4           125.00000 0.00800000\n",
       "6 5            44.80000 0.02232143"
      ]
     },
     "metadata": {},
     "output_type": "display_data"
    }
   ],
   "source": [
    "# PCdf <- filter(df, device == 'PC')\n",
    "# MBdf <- filter(df, device == 'Mobile Phone')\n",
    "df$commentHour <- as.factor(df$commentHour)\n",
    "df2 <- na.omit(df)\n",
    "df2 <- mutate(df2) %>%\n",
    " group_by(commentHour) %>%\n",
    " summarise(MB_PC = sum(device == \"Mobile Phone\")/sum(device == \"PC\"), PC_MB= sum(device == \"PC\")/sum(device == \"Mobile Phone\"))\n",
    "head(df2)"
   ]
  },
  {
   "cell_type": "code",
   "execution_count": 13,
   "metadata": {},
   "outputs": [
    {
     "name": "stderr",
     "output_type": "stream",
     "text": [
      "Warning message:\n",
      "\"package 'ggplot2' was built under R version 3.5.3\""
     ]
    },
    {
     "data": {
      "image/png": "[encoded data removed]",
      "text/plain": [
       "plot without title"
      ]
     },
     "metadata": {},
     "output_type": "display_data"
    },
    {
     "data": {
      "image/png": "[encoded data removed]",
      "text/plain": [
       "plot without title"
      ]
     },
     "metadata": {},
     "output_type": "display_data"
    }
   ],
   "source": [
    "library(ggplot2)\n",
    "barplot(df2$MB_PC, xlab='comment Hour', ylab = \"count(Mobile phone reviews)/count(PC reviews)\", names.arg = df2$commentHour)\n",
    "barplot(df2$PC_MB, xlab='comment Hour', ylab = \"count(PC reviews)/count(Mobile phone reviews)\", names.arg = df2$commentHour)\n",
    "# table(df2$cyl, mtcars$gear, dnn=c(\"Cylinders\", \"Gears\"))\n",
    "# barplot(df2, ylab=\"Frequency\", xlab=\"Gears\", main=\"Side-By-Side Bar Chart\", col=c(\"PC_prec\", \"MB_prec\" ), beside=TRUE, width=.3)"
   ]
  },
  {
   "cell_type": "code",
   "execution_count": 14,
   "metadata": {},
   "outputs": [
    {
     "data": {
      "image/png": "[encoded data removed]",
      "text/plain": [
       "plot without title"
      ]
     },
     "metadata": {},
     "output_type": "display_data"
    }
   ],
   "source": [
    "ggplot(df, aes(df$commentHour, ..count..)) + geom_bar(aes(fill = device), position = \"dodge\") "
   ]
  },
  {
   "cell_type": "code",
   "execution_count": 15,
   "metadata": {},
   "outputs": [
    {
     "name": "stderr",
     "output_type": "stream",
     "text": [
      "Warning message:\n",
      "\"package 'stringr' was built under R version 3.5.3\""
     ]
    }
   ],
   "source": [
    "library(stringi)\n",
    "library(stringr)\n",
    "wordCount <- function(x) {  \n",
    "    word <- gsub(\"\\r?\\n|\\r\", \" \", x)\n",
    "    word <- stri_stats_latex(word)[1]\n",
    "    wordCount <- as.numeric(str_extract_all(word, \"[0-9]+\"))\n",
    "    return(wordCount)\n",
    "}\n",
    "df$commentLen <- sapply(df$commentContent, wordCount)"
   ]
  },
  {
   "cell_type": "code",
   "execution_count": 16,
   "metadata": {},
   "outputs": [
    {
     "data": {
      "text/html": [
       "<table>\n",
       "<caption>A tibble: 6 × 13</caption>\n",
       "<thead>\n",
       "\t<tr><th scope=col>membershipLevel</th><th scope=col>commentContent</th><th scope=col>commentTime</th><th scope=col>source</th><th scope=col>productName</th><th scope=col>imageCount</th><th scope=col>containVideo</th><th scope=col>usefulVoteCount</th><th scope=col>device</th><th scope=col>predictScore</th><th scope=col>actualFlag</th><th scope=col>commentHour</th><th scope=col>commentLen</th></tr>\n",
       "\t<tr><th scope=col>&lt;fct&gt;</th><th scope=col>&lt;chr&gt;</th><th scope=col>&lt;dttm&gt;</th><th scope=col>&lt;fct&gt;</th><th scope=col>&lt;chr&gt;</th><th scope=col>&lt;int&gt;</th><th scope=col>&lt;chr&gt;</th><th scope=col>&lt;int&gt;</th><th scope=col>&lt;fct&gt;</th><th scope=col>&lt;dbl&gt;</th><th scope=col>&lt;int&gt;</th><th scope=col>&lt;fct&gt;</th><th scope=col>&lt;dbl&gt;</th></tr>\n",
       "</thead>\n",
       "<tbody>\n",
       "\t<tr><td>Plus    </td><td>活着  可口可乐具体土豪贴脸                                                        </td><td>2019-08-11 11:14:00</td><td>iPhone </td><td>余华作品：活着                                                                                      </td><td>1</td><td>False</td><td>0</td><td>Mobile Phone</td><td>0.9326953</td><td>1</td><td>11</td><td>12</td></tr>\n",
       "\t<tr><td>3-Silver</td><td>容量很大，携带方便，小巧玲珑，很好用。                                            </td><td>2019-09-20 08:57:00</td><td>Android</td><td>壹号公路 20000毫安 镜面大容量充电宝 数显移动电源 双USB输出 适用于苹果/安卓/小米/华为通用            </td><td>0</td><td>False</td><td>0</td><td>Mobile Phone</td><td>0.9999991</td><td>1</td><td>8 </td><td>15</td></tr>\n",
       "\t<tr><td>4-Gold  </td><td>垫子还可以，大小颜色都喜欢，唯一不足的放下去与车地板会移动，垫子背面没有防滑倒刺。</td><td>2019-08-30 10:59:00</td><td>iPhone </td><td>车丽友 全包围丝圈汽车脚垫 大众新途观L科鲁泽荣威i5I6宝来雷凌缤智XRV英朗福睿斯科沃兹缤越哈弗M6F7H4定制</td><td>0</td><td>False</td><td>0</td><td>Mobile Phone</td><td>0.9878570</td><td>1</td><td>10</td><td>37</td></tr>\n",
       "\t<tr><td>4-Gold  </td><td>这个延时的已经买好多次了，比普通的确实能延时好久，对象很喜欢呢。你们说该怎么办？  </td><td>2019-04-24 07:05:00</td><td>Android</td><td>杜蕾斯 避孕套 安全套 持久12只 延时持久型 套套 男用 成人用品 原装进口 Durex                          </td><td>0</td><td>False</td><td>0</td><td>Mobile Phone</td><td>0.9993948</td><td>1</td><td>7 </td><td>36</td></tr>\n",
       "\t<tr><td>2-Bronze</td><td>一般吧，就那样，一分钱一分货                                                      </td><td>2019-06-16 13:47:00</td><td>iPhone </td><td>梵地亚（Vantiiear）万向轮拉杆箱耐磨抗摔24英寸旅行箱男女行李箱 蓝色                                  </td><td>0</td><td>False</td><td>0</td><td>Mobile Phone</td><td>0.6783716</td><td>1</td><td>13</td><td>12</td></tr>\n",
       "\t<tr><td><span style=white-space:pre-wrap>Plus    </span></td><td><span style=white-space:pre-wrap>准确度很好，速度快&amp;hellip;                                                        </span></td><td>2019-07-31 14:19:00</td><td>Android</td><td><span style=white-space:pre-wrap>米特尔（MITIR）探针式厨房食品温度计油温计婴儿奶温计水温计电子温度计 TP600 （白色）                  </span></td><td>1</td><td>False</td><td>0</td><td>Mobile Phone</td><td>0.9999242</td><td>1</td><td>14</td><td>14</td></tr>\n",
       "</tbody>\n",
       "</table>\n"
      ],
      "text/latex": [
       "A tibble: 6 × 13\n",
       "\\begin{tabular}{r|lllllllllllll}\n",
       " membershipLevel & commentContent & commentTime & source & productName & imageCount & containVideo & usefulVoteCount & device & predictScore & actualFlag & commentHour & commentLen\\\\\n",
       " <fct> & <chr> & <dttm> & <fct> & <chr> & <int> & <chr> & <int> & <fct> & <dbl> & <int> & <fct> & <dbl>\\\\\n",
       "\\hline\n",
       "\t Plus     & 活着  可口可乐具体土豪贴脸                                                         & 2019-08-11 11:14:00 & iPhone  & 余华作品：活着                                                                                       & 1 & False & 0 & Mobile Phone & 0.9326953 & 1 & 11 & 12\\\\\n",
       "\t 3-Silver & 容量很大，携带方便，小巧玲珑，很好用。                                             & 2019-09-20 08:57:00 & Android & 壹号公路 20000毫安 镜面大容量充电宝 数显移动电源 双USB输出 适用于苹果/安卓/小米/华为通用             & 0 & False & 0 & Mobile Phone & 0.9999991 & 1 & 8  & 15\\\\\n",
       "\t 4-Gold   & 垫子还可以，大小颜色都喜欢，唯一不足的放下去与车地板会移动，垫子背面没有防滑倒刺。 & 2019-08-30 10:59:00 & iPhone  & 车丽友 全包围丝圈汽车脚垫 大众新途观L科鲁泽荣威i5I6宝来雷凌缤智XRV英朗福睿斯科沃兹缤越哈弗M6F7H4定制 & 0 & False & 0 & Mobile Phone & 0.9878570 & 1 & 10 & 37\\\\\n",
       "\t 4-Gold   & 这个延时的已经买好多次了，比普通的确实能延时好久，对象很喜欢呢。你们说该怎么办？   & 2019-04-24 07:05:00 & Android & 杜蕾斯 避孕套 安全套 持久12只 延时持久型 套套 男用 成人用品 原装进口 Durex                           & 0 & False & 0 & Mobile Phone & 0.9993948 & 1 & 7  & 36\\\\\n",
       "\t 2-Bronze & 一般吧，就那样，一分钱一分货                                                       & 2019-06-16 13:47:00 & iPhone  & 梵地亚（Vantiiear）万向轮拉杆箱耐磨抗摔24英寸旅行箱男女行李箱 蓝色                                   & 0 & False & 0 & Mobile Phone & 0.6783716 & 1 & 13 & 12\\\\\n",
       "\t Plus     & 准确度很好，速度快\\&hellip;                                                         & 2019-07-31 14:19:00 & Android & 米特尔（MITIR）探针式厨房食品温度计油温计婴儿奶温计水温计电子温度计 TP600 （白色）                   & 1 & False & 0 & Mobile Phone & 0.9999242 & 1 & 14 & 14\\\\\n",
       "\\end{tabular}\n"
      ],
      "text/markdown": [
       "\n",
       "A tibble: 6 × 13\n",
       "\n",
       "| membershipLevel &lt;fct&gt; | commentContent &lt;chr&gt; | commentTime &lt;dttm&gt; | source &lt;fct&gt; | productName &lt;chr&gt; | imageCount &lt;int&gt; | containVideo &lt;chr&gt; | usefulVoteCount &lt;int&gt; | device &lt;fct&gt; | predictScore &lt;dbl&gt; | actualFlag &lt;int&gt; | commentHour &lt;fct&gt; | commentLen &lt;dbl&gt; |\n",
       "|---|---|---|---|---|---|---|---|---|---|---|---|---|\n",
       "| Plus     | 活着  可口可乐具体土豪贴脸                                                         | 2019-08-11 11:14:00 | iPhone  | 余华作品：活着                                                                                       | 1 | False | 0 | Mobile Phone | 0.9326953 | 1 | 11 | 12 |\n",
       "| 3-Silver | 容量很大，携带方便，小巧玲珑，很好用。                                             | 2019-09-20 08:57:00 | Android | 壹号公路 20000毫安 镜面大容量充电宝 数显移动电源 双USB输出 适用于苹果/安卓/小米/华为通用             | 0 | False | 0 | Mobile Phone | 0.9999991 | 1 | 8  | 15 |\n",
       "| 4-Gold   | 垫子还可以，大小颜色都喜欢，唯一不足的放下去与车地板会移动，垫子背面没有防滑倒刺。 | 2019-08-30 10:59:00 | iPhone  | 车丽友 全包围丝圈汽车脚垫 大众新途观L科鲁泽荣威i5I6宝来雷凌缤智XRV英朗福睿斯科沃兹缤越哈弗M6F7H4定制 | 0 | False | 0 | Mobile Phone | 0.9878570 | 1 | 10 | 37 |\n",
       "| 4-Gold   | 这个延时的已经买好多次了，比普通的确实能延时好久，对象很喜欢呢。你们说该怎么办？   | 2019-04-24 07:05:00 | Android | 杜蕾斯 避孕套 安全套 持久12只 延时持久型 套套 男用 成人用品 原装进口 Durex                           | 0 | False | 0 | Mobile Phone | 0.9993948 | 1 | 7  | 36 |\n",
       "| 2-Bronze | 一般吧，就那样，一分钱一分货                                                       | 2019-06-16 13:47:00 | iPhone  | 梵地亚（Vantiiear）万向轮拉杆箱耐磨抗摔24英寸旅行箱男女行李箱 蓝色                                   | 0 | False | 0 | Mobile Phone | 0.6783716 | 1 | 13 | 12 |\n",
       "| Plus     | 准确度很好，速度快&amp;hellip;                                                         | 2019-07-31 14:19:00 | Android | 米特尔（MITIR）探针式厨房食品温度计油温计婴儿奶温计水温计电子温度计 TP600 （白色）                   | 1 | False | 0 | Mobile Phone | 0.9999242 | 1 | 14 | 14 |\n",
       "\n"
      ],
      "text/plain": [
       "  membershipLevel\n",
       "1 Plus           \n",
       "2 3-Silver       \n",
       "3 4-Gold         \n",
       "4 4-Gold         \n",
       "5 2-Bronze       \n",
       "6 Plus           \n",
       "  commentContent                                                                    \n",
       "1 活着  可口可乐具体土豪贴脸                                                        \n",
       "2 容量很大，携带方便，小巧玲珑，很好用。                                            \n",
       "3 垫子还可以，大小颜色都喜欢，唯一不足的放下去与车地板会移动，垫子背面没有防滑倒刺。\n",
       "4 这个延时的已经买好多次了，比普通的确实能延时好久，对象很喜欢呢。你们说该怎么办？  \n",
       "5 一般吧，就那样，一分钱一分货                                                      \n",
       "6 准确度很好，速度快&hellip;                                                        \n",
       "  commentTime         source \n",
       "1 2019-08-11 11:14:00 iPhone \n",
       "2 2019-09-20 08:57:00 Android\n",
       "3 2019-08-30 10:59:00 iPhone \n",
       "4 2019-04-24 07:05:00 Android\n",
       "5 2019-06-16 13:47:00 iPhone \n",
       "6 2019-07-31 14:19:00 Android\n",
       "  productName                                                                                         \n",
       "1 余华作品：活着                                                                                      \n",
       "2 壹号公路 20000毫安 镜面大容量充电宝 数显移动电源 双USB输出 适用于苹果/安卓/小米/华为通用            \n",
       "3 车丽友 全包围丝圈汽车脚垫 大众新途观L科鲁泽荣威i5I6宝来雷凌缤智XRV英朗福睿斯科沃兹缤越哈弗M6F7H4定制\n",
       "4 杜蕾斯 避孕套 安全套 持久12只 延时持久型 套套 男用 成人用品 原装进口 Durex                          \n",
       "5 梵地亚（Vantiiear）万向轮拉杆箱耐磨抗摔24英寸旅行箱男女行李箱 蓝色                                  \n",
       "6 米特尔（MITIR）探针式厨房食品温度计油温计婴儿奶温计水温计电子温度计 TP600 （白色）                  \n",
       "  imageCount containVideo usefulVoteCount device       predictScore actualFlag\n",
       "1 1          False        0               Mobile Phone 0.9326953    1         \n",
       "2 0          False        0               Mobile Phone 0.9999991    1         \n",
       "3 0          False        0               Mobile Phone 0.9878570    1         \n",
       "4 0          False        0               Mobile Phone 0.9993948    1         \n",
       "5 0          False        0               Mobile Phone 0.6783716    1         \n",
       "6 1          False        0               Mobile Phone 0.9999242    1         \n",
       "  commentHour commentLen\n",
       "1 11          12        \n",
       "2 8           15        \n",
       "3 10          37        \n",
       "4 7           36        \n",
       "5 13          12        \n",
       "6 14          14        "
      ]
     },
     "metadata": {},
     "output_type": "display_data"
    }
   ],
   "source": [
    "tail(df)\n",
    "df$commentHour <- as.integer(df$commentHour)"
   ]
  },
  {
   "cell_type": "code",
   "execution_count": 17,
   "metadata": {},
   "outputs": [
    {
     "data": {
      "text/plain": [
       "\n",
       "                                               【3片装】朗客 iPhone8plus/7Plus/6sPlus/6 Plus钢化膜 苹果8P/7P/6sP/6P手机膜高清手机贴膜【赠贴膜神器】 \n",
       "                                                                                                                                                576 \n",
       "                                                                   【捌零零壹】邮票年册 1999--2018年册北方集邮册大全套 收藏品 2018年邮票年册-北方册 \n",
       "                                                                                                                                                281 \n",
       "                                  【磁吸版】线控耳机 缔造者入耳式有耳麦运动游戏电脑魔音乐手机耳机 苹果小米华为荣耀魅族OPPO三星 【线控带麦】- 尊贵黑 \n",
       "                                                                                                                                                286 \n",
       "                                                                                                        【高邮馆】南湖牌 咸鸭蛋盐蛋20枚 65g/枚 简装 \n",
       "                                                                                                                                                540 \n",
       "                                                        【京东秒杀·168元】小牛凯西原肉整切牛排套餐10片 澳洲进口手工微腌牛肉西冷菲力儿童牛排生鲜整切 \n",
       "                                                                                                                                                608 \n",
       "                                                                                     【礼券】品湖韵大闸蟹礼券礼卡1898型8只装螃蟹礼盒 公4.5两母3.0两 \n",
       "                                                                                                                                                247 \n",
       "                                              【全国七仓发货】永彩称重电子秤台秤150KG商用电子称折叠台称300kg计价秤水果磅秤 普通按键1.2mm盘红字150KG \n",
       "                                                                                                                                                558 \n",
       "                                                        【腾讯阅文集团】口袋阅墨水屏电子书  2019款 qq阅读电纸书阅读器 能打电话的阅读器 5.2英寸 黑色 \n",
       "                                                                                                                                                564 \n",
       "                                                       【月销件数10W+】溢彩年华 布衣柜 简易衣柜组装布衣橱双人单衣服布柜75*45*160cm紫罗兰色 DKB2-032 \n",
       "                                                                                                                                                558 \n",
       "                                                【自营时效 大号配猫抓板】猫爬架剑麻猫抓板大型豪华猫架子宠物猫咪玩具猫跳台猫爪猫树猫窝 猫爬架 平层款 \n",
       "                                                                                                                                                306 \n",
       "                                                                1℃ 御颜悦色国风口红套装礼盒情人节生日礼物女生送女友女朋友老婆闺蜜抖音结婚纪念日礼品 \n",
       "                                                                                                                                                576 \n",
       "                                                                                361°   童鞋女童小白鞋运动鞋新款革面百搭儿童滑板鞋 K89430051 本白 35 \n",
       "                                                                                                                                                587 \n",
       "                                                                                        999（华润三九）感冒灵颗粒 10g*9袋 头痛 鼻塞 流涕咽痛 感冒药 \n",
       "                                                                                                                                                565 \n",
       "                                                aigo爱国者电子出品F20000充电宝移动电源20000毫安聚合物电芯 新增USB-C接口适用于小米华为苹果白色大容量 \n",
       "                                                                                                                                                184 \n",
       "                                                         Apple iMac【2019新品】21.5英寸一体机4K屏Core i5 8G1TB融合 RP560X显卡 台式电脑主机MRT42CH/A \n",
       "                                                                                                                                                549 \n",
       "                                                               Apple iPad 平板电脑 2018年新款9.7英寸（128G WLAN版/A10 芯片/Touch ID MRJP2CH/A）金色 \n",
       "                                                                                                                                                585 \n",
       "                                                                             Apple iPhone 11 Pro Max (A2220) 64GB 银色  移动联通电信4G手机 双卡双待 \n",
       "                                                                                                                                                128 \n",
       "                                                                                        Apple 苹果 iPhone X手机 深空灰（白条三期免息） 全网通256G版 \n",
       "                                                                                                                                                337 \n",
       "ARROW箭牌卫浴 节水静音坐便器家用喷射虹吸马桶加厚缓降盖板卫生间防臭抽水座便器 AB1116 AE1185【2019新款虹吸马桶】 305坑距（适用290~380mm）验货后再签收 \n",
       "                                                                                                                                                552 \n",
       "                                                                                                   Bose 700 无线消噪耳机-黑色  手势触控蓝牙降噪耳机 \n",
       "                                                                                                                                                352 \n",
       "                                                                                                    COACH 蔻驰 奢侈品 男士黑色单肩斜挎包 F54782 BLK \n",
       "                                                                                                                                                519 \n",
       "                                                                   gb好孩子 婴儿推车 宝宝 儿童 手推伞车 可坐可躺 轻便折叠 双向推行 蓝色 A513-B-L148 \n",
       "                                                                                                                                                586 \n",
       "                                     GUCCI 古驰 GUCCI腰带 2019新品 男士经典双G压纹商务休闲时尚皮带 棕色 411924 CWC1N 2140 105(适合101cm-111cm腰围） \n",
       "                                                                                                                                                113 \n",
       "                                                          JBL GO2 音乐金砖二代 便携式蓝牙音箱 低音炮 户外音箱 迷你小音响 可免提通话 防水设计 宝石红 \n",
       "                                                                                                                                                582 \n",
       "                                                           JISWENA海囤全球购女包单肩斜挎时尚潮流新品奢侈品包包品牌大牌热卖海豚全球 J191002301黑白红 \n",
       "                                                                                                                                                115 \n",
       "                                Jollypop 【美国进口】悠乐宝产院用一体全硅胶婴儿安睡型安抚奶嘴牙胶 0-6-18个月 0+蓝色，0-12个月新生儿，24个月内亦适用 \n",
       "                                                                                                                                                119 \n",
       "                                                                    Keep 运动智能手环B1 彩屏触控 心率监测 专属智能训练计划 50米防水 睡眠监测 夜跑黑 \n",
       "                                                                                                                                                565 \n",
       "                                                                                              MONTBLANC万宝龙 男士经典系列椭圆形针扣皮带/腰带 38157 \n",
       "                                                                                                                                                254 \n",
       "                                                                                     MOSEN莫森MUC800ukulele尤克里里乌克丽丽23英寸全桃花芯小吉他弹唱 \n",
       "                                                                                                                                                574 \n",
       "                                                                                                            PANDORA 潘多拉 心形基础手链 590727CZ-19 \n",
       "                                                                                                                                                178 \n",
       "                                                         ROYAL CANIN 皇家狗粮 CC优选成犬狗粮 全价粮 8kg 全犬种通用成犬粮 均衡营养助力健康成长每一步 \n",
       "                                                                                                                                                376 \n",
       "                                                                                                                                    R语言实战 第2版 \n",
       "                                                                                                                                                366 \n",
       "                                                      TATA木门 木门 门 现代简约门静音门欧式房门室内门卧室门实木复合门定制木门油漆门AC020-J 多色可选 \n",
       "                                                                                                                                                 68 \n",
       "                                                               TP-LINK TL-WDN5200H免驱版 650M 双频USB无线网卡台式机笔记本通用 随身WiFi接收器 发射器 \n",
       "                                                                                                                                                583 \n",
       "                                                                      Under Armour 安德玛官方 UA男子 Armour 强力伸缩型运动短袖T恤-1257468 蓝色410 L \n",
       "                                                                                                                                                498 \n",
       "                           YALEBOS华为p30pro手机壳p30保护套磁吸双面玻璃透明超薄Mate20pro万磁王全包防摔 【亮黑色】华为P30pro磁吸曲面玻璃【送镜头膜】 \n",
       "                                                                                                                                                590 \n",
       "                                                                            艾斯臣凉鞋女2019夏季高跟鞋新款坡跟女鞋粗跟女士凉鞋 包跟款（6cm）黑色 37 \n",
       "                                                                                                                                                530 \n",
       "                                               爱尚熊泰迪熊公仔毛绒玩具布娃娃女孩大号熊猫公仔抱抱狗熊可爱睡觉抱女孩娃娃玩偶生日礼物送女友七夕80cm紫 \n",
       "                                                                                                                                                469 \n",
       "                                                安耳悠 防噪音睡眠耳塞 男士女士隔音耳塞工作学习睡觉防呼噜声静音耳塞 德国Ohropax公司原装进口soft5副装 \n",
       "                                                                                                                                                516 \n",
       "                                                                              澳洲原装进口 Bellamy’s(贝拉米) 有机幼儿配方奶粉 3段(12月以上) 900g/罐 \n",
       "                                                                                                                                                594 \n",
       "                                                                                                八马茶业 茶叶 乌龙茶 安溪清香型铁观音 双蓝罐装 500g \n",
       "                                                                                                                                                598 \n",
       "                                                                               百草园塑料收纳箱整理箱 抽屉式收纳柜储物柜 衣柜收纳盒10L 3个装 透明色 \n",
       "                                                                                                                                                296 \n",
       "                                                                                                                        百花  蜂蜜1000g  中华老字号 \n",
       "                                                                                                                                                590 \n",
       "                                                                                       拜杰（Baijie）不锈钢手动打蛋器奶油鸡蛋月饼搅拌器搅蛋器和面器 \n",
       "                                                                                                                                                250 \n",
       "                                                                                       宝家洁 刮刮乐免手洗干湿两用平板拖把 洗脱合一懒人拖布网红地拖 \n",
       "                                                                                                                                                549 \n",
       "                                    宝马钥匙包宝马5系钥匙包新525/530li/7系730汽车钥匙扣壳套X3/X1/X5/X61系刀锋 【刀锋按键全包】极光银--钥匙套+五金扣 \n",
       "                                                                                                                                                378 \n",
       "                                                                        北极狼 BeiJiLang  全自动帐篷户外防雨野营双人双层免搭建3-4人野外露营帐篷套装 \n",
       "                                                                                                                                                562 \n",
       "                                                                   北京同仁堂 总统牌 即食冰糖燕窝 白燕丝冰糖燕窝420g家庭装（70g*6瓶）老人孕妇滋补品 \n",
       "                                                                                                                                                390 \n",
       "                                                         贝思特(elebest) D100 行车记录仪高清夜视双镜头倒车影像后视镜一体机 无光夜视触摸屏轨道偏移预 \n",
       "                                                                                                                                                582 \n",
       "                                                  倍思 Type-c数据线 华为充电器线p30pro手机mate10/20快充5A小米6typc8mix2s三星/荣耀v9v10带灯线 2米 紫 \n",
       "                                                                                                                                                495 \n",
       "                                                   碧然德(BRITA) 滤水壶Aluna蓝色3.5L 1壶7芯套装 光汐系列 家用过滤净水器自来水过滤器 净水壶配7只滤芯 \n",
       "                                                                                                                                                457 \n",
       "                                                      碧然德（BRITA）滤水壶滤芯 Maxtra+多效滤芯6只装 过滤净水器滤芯 家用滤水壶滤芯 新升级标准版滤芯 \n",
       "                                                                                                                                                598 \n",
       "                                                                        博朗（BRAUN）电动剃须刀全身水洗往复式刮胡刀德国整机进口5系5040s含鬓角修剪器 \n",
       "                                                                                                                                                102 \n",
       "                                                                        博牌Bopai旅行包 手提行李包男女健身包 休闲旅行袋短途旅游包大容量黑色32-01731 \n",
       "                                                                                                                                                313 \n",
       "                                                                                        博世(Bosch) GBH2000DRE 电锤冲击钻电钻家用轻型多功能电动工具 \n",
       "                                                                                                                                                421 \n",
       "                                                                      博世(Bosch) GSB600RE 13毫米冲击钻手电钻家用多功能工具箱电动工具套装强化升级版 \n",
       "                                                                                                                                                572 \n",
       "                                                车丽友 定制全包围汽车后备箱垫 思域雅阁逍客传祺GS4威朗凯美瑞朗逸速腾卡罗拉缤智XRV轩逸途观L宝来尾箱垫 \n",
       "                                                                                                                                                580 \n",
       "                                               车丽友 全包围丝圈汽车脚垫 大众新途观L科鲁泽荣威i5I6宝来雷凌缤智XRV英朗福睿斯科沃兹缤越哈弗M6F7H4定制 \n",
       "                                                                                                                                                476 \n",
       "                                                                            炊大皇 3cm加厚菜板天然整竹无漆无蜡可悬挂砧板切菜板砍骨剁肉案板38*28*3cm \n",
       "                                                                                                                                                593 \n",
       "                                                              锤子（smartisan） 坚果 R1 6G+128GB 碳黑色 全面屏双摄  全网通4G手机 双卡双待  游戏手机 \n",
       "                                                                                                                                                587 \n",
       "                                                     戴森(Dyson)?吹风机【升级版上市!】?Dyson Supersonic?电吹风 进口家用?HD03?中国红【新增柔和风嘴】 \n",
       "                                                                                                                                                593 \n",
       "                                                           得宝(Tempo) 卷纸 4层*160g*16卷 有芯卷筒纸巾 天然无香（整箱销售）-柔韧升级 新老品交替发货 \n",
       "                                                                                                                                                603 \n",
       "                                                                                   得力(deli) 数显测电笔试电笔验电笔电工笔电工螺丝刀12-250V  DL8003 \n",
       "                                                                                                                                                591 \n",
       "                                                                             得力(deli)36g高粘度PVP固体胶水 无甲醛快干耐用胶棒 12支装 办公用品 7093 \n",
       "                                                                                                                                                345 \n",
       "                                                                                    得力（deli）6色荧光笔 重点醒目标记笔 水性彩色手帐用记号笔6支/袋 \n",
       "                                                                                                                                                600 \n",
       "                                                                                 得力（deli）9597 学生文具 绘图尺子四件套尺（直尺+三角尺*2+量角器） \n",
       "                                                                                                                                                574 \n",
       "                                                                               得力(deli)B5/60张活页笔记本子 内页可拆卸记事本浅调系列 HB560颜色随机 \n",
       "                                                                                                                                                580 \n",
       "                                                                       德尔玛（deerma）电风扇 遥控电扇 落地扇 风扇落地 电扇 家用静音5叶扇 DEM-FSY70 \n",
       "                                                                                                                                                361 \n",
       "                                        德国SSGP叁肆钢 土豆丝切菜神器切丝器多功能切菜器厨房用品家用擦丝器刨丝插丝刮丝萝卜丝蔬菜切片器 八用切 质感咖 \n",
       "                                                                                                                                                249 \n",
       "                                                                    德国进口 贺本清（herbacin）小甘菊深层滋润护手霜 管装 75ml/支  防止干裂 滋润肌肤 \n",
       "                                                                                                                                                593 \n",
       "                                                                迪奥（Dior）迪奥小姐花漾淡香氛(EDT) 50ml（喷装 清新淡花香调 初恋的气息 花漾淡香水） \n",
       "                                                                                                                                                577 \n",
       "                                                                           第九城(V.NINE)腰包 跑步骑行健身隐形腰包男女防盗贴身腰包 VD6BV95571J 黑色 \n",
       "                                                                                                                                                552 \n",
       "                         第一卫 【手感好】苹果7/8液态硅胶手机壳适用于iPhone7/8 plus防摔超薄软壳全包保护套 7P/8P【黑色】送全玻璃膜！官方升级液态硅胶 \n",
       "                                                                                                                                                574 \n",
       "                                            东鹏卫浴（DONGPENG）抽水马桶 家用节水虹吸式坐便器静音防臭 W1551K 【超值款】305mm坑距 陶瓷件24小时内验货 \n",
       "                                                                                                                                                 52 \n",
       "                                                                         杜蕾斯 避孕套 安全套 持久12只 延时持久型 套套 男用 成人用品 原装进口 Durex \n",
       "                                                                                                                                                603 \n",
       "                                                         法国原装进口达能贝乐蒂（bledilait）宝宝儿童常温酸奶婴幼儿零食高钙辅食 12月+阳光水果味 12杯 \n",
       "                                                                                                                                                546 \n",
       "                                                                                 梵地亚（Vantiiear）万向轮拉杆箱耐磨抗摔24英寸旅行箱男女行李箱 蓝色 \n",
       "                                                                                                                                                570 \n",
       "                                               飞利浦（PHILIPS）70PUF6894/T3 70英寸 人工智能超大屏幕金属边框 16G大内存4K超高清HDR网络智能液晶电视机 \n",
       "                                                                                                                                                532 \n",
       "                                                                                                     飞利浦（PHILIPS）鼻毛修剪器 全身水洗 NT1150/10 \n",
       "                                                                                                                                                570 \n",
       "                                                          飞利浦（PHILIPS）新国标安全插座 插线板/插排/排插/接线板/拖线板 儿童保护门 4孔位分控 1.8米 \n",
       "                                                                                                                                                590 \n",
       "                                                                                   飞利浦（PHILIPS）婴儿理发器剃头电推子可水洗低噪音电推剪HC1099/15 \n",
       "                                                                                                                                                590 \n",
       "                                               飞跃（Feiyue） 飞跃运动跑步鞋正品田径运动跳远武术学生军训男女帆布休闲鞋经典款 501白色 41（偏大一码） \n",
       "                                                                                                                                                575 \n",
       "                                                                                   费列罗(Ferrero Rocher)巧克力礼盒糖果装国庆节情人节生日礼物送女友 \n",
       "                                                                                                                                                575 \n",
       "                                                           富光 玻璃杯 双层玻璃杯子家用办公水杯  大容量双层玻璃带把男女士茶杯  380ML(X1804-SP-380B) \n",
       "                                                                                                                                                582 \n",
       "                                                                                       高洁丝Kotex 臻选澳洲进口纯棉0.08极薄240mm16片 日用超薄卫生巾 \n",
       "                                                                                                                                                583 \n",
       "                                       格力(GREE)电风扇落地扇家用直流变频省电扇 立式智能遥控12档七叶静音定时预约循环扇办公室摇头 FDZ-40X65Bg7淡雅蓝 \n",
       "                                                                                                                                                 25 \n",
       "                                                                格力（GREE）塔扇无叶风扇/家用电风扇/静音立式风扇/台式定时/风扇落地 FL-09X61ha 白+杏 \n",
       "                                                                                                                                                434 \n",
       "                                                    格力高（glico）肩扛大零食  零食大礼包网红大礼包30盒 百醇百奇百力滋菜园小饼星奇奇蒂礼盒 赠空调毯 \n",
       "                                                                                                                                                424 \n",
       "                                                           格力京逸（GREE）正1.5匹 E享舒适 智能睡眠 变频 快速冷暖 壁挂式卧室空调挂机KFR-35GW/NhDbB3 \n",
       "                                                                                                                                                524 \n",
       "                                                                 公牛（BULL）转换插头/品字形一转三插座/无线转换插座/电源转换器 3位分控插座 GN-96033 \n",
       "                                                                                                                                                600 \n",
       "                                                                   固特异轮胎Goodyear汽车轮胎 235/60R18 103W 三能 EXCELLENCE 原配荣威W5/宝沃BX7 SUV \n",
       "                                                                                                                                                543 \n",
       "                                               孩之宝(Hasbro)培乐多彩泥橡皮泥多彩派对包15罐装(420g)DIY手工儿童玩具 食品级天然小麦粉制作 补充装18367 \n",
       "                                                                                                                                                620 \n",
       "                                      海度罗 成品窗帘 可定制落地窗帘适应飘窗卧室客厅遮光布窗纱 花开富贵（窗纱）定制 挂钩/每1米宽定制 (要几米拍几件) \n",
       "                                                                                                                                                534 \n",
       "                                                                         海尔（Haier) 滚筒洗衣机全自动 8公斤变频 双喷淋泡沫无残留 防霉 EG8012B39SU1 \n",
       "                                                                                                                                                485 \n",
       "                                                            海尔（Haier）60升电热水器 变频加热抑菌遥控 一级能效节能预约 专利2.0安全防电墙EC6002-JC3 \n",
       "                                                                                                                                                538 \n",
       "                                                                                            海南特产 南国 营养早餐速溶饮料 咖啡伴侣 纯椰子粉320g/袋 \n",
       "                                                                                                                                                593 \n",
       "                                                            海信（Hisense）H55E3A 55英寸 超高清4K  HDR 金属背板 人工智能液晶电视机 丰富影视教育资源 \n",
       "                                                                                                                                                577 \n",
       "                                                                      憨憨乐园 仓鼠用品木屑兔子金丝熊荷兰猪龙猫宠物松鼠除臭垫材垫料锯末刨花用品500g \n",
       "                                                                                                                                                217 \n",
       "                                                       憨憨乐园 反光狗绳狗链胸背带项圈三件套S号10斤内宠物使用小型犬牵引绳拴遛狗带绳子金毛泰迪狗链子 \n",
       "                                                                                                                                                573 \n",
       "                                                                                韩国AMORTALS尔木萄美妆蛋化妆蛋海绵粉扑不吃粉干湿两用 套装三只送托架 \n",
       "                                                                                                                                                599 \n",
       "                                                                                       好欢螺 螺蛳粉（水煮型）广西柳州特产方便面粉速食米线 袋装300g \n",
       "                                                                                                                                                578 \n",
       "                                                                             黑人（DARLIE）炭丝深洁（标准刷头）牙刷4支 软毛牙刷 减少牙菌斑 清新口气 \n",
       "                                                                                                                                                571 \n",
       "                                                                           恒源祥 羊毛格子围巾女士披肩俩用 秋冬加厚送朋友送长辈礼盒装 50M15318 浅粉 \n",
       "                                                                                                                                                250 \n",
       "                                                                                                      红双喜连环白色40mm乒乓球业余比赛训练用球1840D \n",
       "                                                                                                                                                560 \n",
       "                                                                  红心猕猴桃 奇异果  新鲜水果 京东生鲜孕妇宝宝当季水果国产金果 单果110g以上/20个/箱 \n",
       "                                                                                                                                                  1 \n",
       "                                                                     花花公子牛仔裤男2019秋季新款男士韩版薄款透气弹力小脚休闲裤时尚长裤 8913深灰 30 \n",
       "                                                                                                                                                359 \n",
       "                  花尚礼物鲜花速递 同城送花33朵红玫瑰花束香槟生日礼盒全国花店配送北京上海广州深圳杭州南京 33朵红玫瑰花相思梅（热卖款） 同城花店送花 \n",
       "                                                                                                                                                584 \n",
       "                                                       华畜 鱼食500g 小型鱼粮 锦鲤饲料海豚鱼粮鹦鹉鱼热带鱼金鱼鱼粮贴片观赏鱼鱼食罗汉鱼饲料通用型1mm \n",
       "                                                                                                                                                561 \n",
       "                                                 华为 HUAWEI Mate RS 保时捷设计 全面屏徕卡三摄游戏手机6G+256G玄黑色全网通移动联通电信4G手机双卡双待 \n",
       "                                                                                                                                                122 \n",
       "                                                                                华为DFH运动健康生态款 佑美U3H跑步机家用静音可折叠免安装62cm宽大跑台 \n",
       "                                                                                                                                                 93 \n",
       "                                                              惠普（HP）M1136 多功能三合一黑白激光一体机 （打印 复印 扫描） 升级型号136a/136w/136nw \n",
       "                                                                                                                                                556 \n",
       "                                                                              霍尼韦尔（Honeywell）口罩 KN95 耳带折叠式H930V 5只/包 带阀 防雾霾口罩 \n",
       "                                                                                                                                                578 \n",
       "                                                                             吉吉（GiGi）汽车头枕腰靠 G-1107+1110太空记忆棉腰靠垫 护颈枕 两件套黑色 \n",
       "                                                                                                                                                585 \n",
       "                                                               极度空间 贺卡 卡片 生日贺卡礼物礼品创意烫金感谢祝福卡明信片感恩卡片烫金款*1 款式随机 \n",
       "                                                                                                                                                172 \n",
       "                                                                            极度空间 礼品包装盒 礼物盒子 生日香水口红礼盒 创意火烈鸟送男女朋友 小号 \n",
       "                                                                                                                                                340 \n",
       "                                                                               加加林 高清手持放大镜老人看报阅读带灯高倍学生儿童扩大镜 25倍左右放大 \n",
       "                                                                                                                                                576 \n",
       "                                                    佳能（Canon）EOS 6D Mark II 6D2 单反相机 单反套机 全画幅（EF 24-105mm f/4L IS II USM 单反镜头） \n",
       "                                                                                                                                                507 \n",
       "                                                                杰士爱堡罗（Jieshiaibaoluo）户外魔术头巾男女运动围脖面罩夏季防晒骑行头套脖套 迷彩灰 \n",
       "                                                                                                                                                528 \n",
       "                                                                                               洁成加厚一次性保鲜袋组合装（大号，小号，中号各一包） \n",
       "                                                                                                                                                612 \n",
       "                                                                                                今麦郎 方便面 大今野拉面 红烧牛肉面 24袋 泡面整箱装 \n",
       "                                                                                                                                                580 \n",
       "                                                                                                               金龙鱼 东北大米 蟹稻共生 盘锦大米5KG \n",
       "                                                                                                                                                608 \n",
       "                                                                                                                金龙鱼 食用油 物理压榨葵花籽油6.18L \n",
       "                                                                                                                                                601 \n",
       "                                                                                  金士顿（Kingston）64GB USB3.0 U盘 DTSE9G2  银色 金属外壳 高速读写 \n",
       "                                                                                                                                                565 \n",
       "                                                              京东joy联名款 伯纳天纯（Pure&Natural）宠物狗粮 黑山羊蔓越莓中/大型犬全价成年犬粮 15kg \n",
       "                                                                                                                                                291 \n",
       "                                                                                     京东海外直采 智利三文鱼段（独立5块装）(大西洋鲑）680g 原装进口 \n",
       "                                                                                                                                                576 \n",
       "                                                                           京东京造  北欧简约玻璃花瓶富贵竹百合插花水培干花餐桌客厅摆件 大号 烟灰色 \n",
       "                                                                                                                                                293 \n",
       "                                                      九阳（Joyoung）豆浆机1.1-1.3L破壁免滤双层彩钢机身占地小米糊家用多功能搅拌机料理机DJ13B-C650SG \n",
       "                                                                                                                                                575 \n",
       "                                                                      九洲鹿 全棉三件套 纯棉斜纹床上用品单人学生被套床单枕套 莎科 1.2米床 150*200cm \n",
       "                                                                                                                                                254 \n",
       "                         久久达客厅装饰画电表箱沙发背景墙北欧鹿头餐厅卧室挂画相框挂钟组合美式墙画现代简约壁画办公室字画 9框组合送画心（197cm*80cm） \n",
       "                                                                                                                                                157 \n",
       "                                                        卡芙秀(KAOFSHOW)休闲鞋女透气老爹鞋2019秋季新款运动鞋女韩版学生厚底跑步鞋女鞋子潮 507米色 37 \n",
       "                                                                                                                                                603 \n",
       "                                                                                        康恩贝 维生素c vc 咀嚼片非泡腾片 补充VC 可搭配VE 1.2g*100片 \n",
       "                                                                                                                                                572 \n",
       "                                                                                      蓝月亮 清洁温和 清爽润泽洗手液（野菊花）500g瓶+500g瓶装补充装 \n",
       "                                                                                                                                                574 \n",
       "                                                                                          狼行者3-4人户外全自动帐篷 户外防水野营帐篷休闲帐篷 墨绿色 \n",
       "                                                                                                                                                569 \n",
       "                                                                           浪莎 LangSha小胸文胸聚拢无钢圈法式收副乳防下垂性感少女内衣胸罩 肤色 34AB \n",
       "                                                                                                                                                575 \n",
       "                                                乐扣乐扣 耐热玻璃饭盒 大号微波炉专用加热保鲜盒套装 大容量密封碗带盖食品餐盒便当盒子附保温袋 750ML*2 \n",
       "                                                                                                                                                599 \n",
       "                                                           雷蛇(Razer) 蝰蛇标准版 鼠标 有线鼠标 游戏鼠标 人体工程学 电竞 黑色 6400DPI lol吃鸡神器cf \n",
       "                                                                                                                                                610 \n",
       "                                                                      李宁（LI-NING）泳衣女士修身遮肚显瘦连体裙式温泉游泳衣保守大码泳装 020-1黑色 L \n",
       "                                                                                                                                                597 \n",
       "                                                         李宁男鞋运动鞋休闲鞋子秋季透气舒适小白鞋板鞋男防滑减震复古跑步鞋男 冷灰/深海蓝 41(内长255) \n",
       "                                                                                                                                                580 \n",
       "                                                                                             立白 茶籽洗洁精双瓶省心装 1.45kg*2瓶 茶籽精华 除菌去油 \n",
       "                                                                                                                                                589 \n",
       "                                                                                                                利用Python进行数据分析（原书第2版） \n",
       "                                                                                                                                                320 \n",
       "                                                    联想ThinkPad T480s（2LCD）14英寸轻薄笔记本电脑（i5-8250U 8G 256GSSD MX150 2G独显 背光键盘 FHD） \n",
       "                                                                                                                                                116 \n",
       "                                                                     良品铺子 猪事顺利休闲零食大礼包网红巨型猪饲料猪肉脯薯片饼干送女友生日礼物3157g \n",
       "                                                                                                                                                584 \n",
       "                                 绿盾 口罩防雾霾防尘防花粉防PM2.5呼吸阀立体口罩棉布透气可水洗男女潮黑色F 明星同款立体口罩无阀（非棉布可水洗） 5枚装 \n",
       "                                                                                                                                                574 \n",
       "                                               绿联 桌面磁吸手机支架 ipad平板直播懒人床头夹床上看电视架子多功能可调节吸盘 通用苹果华为小米手机40358 \n",
       "                                                                                                                                                292 \n",
       "                                                                    绿之源 薰衣草香氛袋 衣柜芳香剂 室内卧室新车精油香袋除味香包空气清新剂(10g*6袋） \n",
       "                                                                                                                                                460 \n",
       "                                                                                                                             妈咪宝贝 小内裤 L156片 \n",
       "                                                                                                                                                587 \n",
       "                                                    曼秀雷敦新碧进口双重保湿防晒露防晒霜乳男女 SPF50+ 80g 长效持久 隔离紫外线 耐水耐汗小金帽 学生党 \n",
       "                                                                                                                                                583 \n",
       "                                                                                        美厨（maxcook）304不锈钢叉勺 果泥叉勺 MC7784 加厚 防烫 耐摔 \n",
       "                                                                                                                                                115 \n",
       "                                                美的(Midea)228升 双变频风冷无霜三门冰箱 节能静音 小型智能WiFi家用三开门电冰箱 爵士棕BCD-228WTPZM(E) \n",
       "                                                                                                                                                328 \n",
       "                                                          美的(Midea)448升 无霜变频十字对开门电冰箱 一级能效 家用冰箱节能省电 爵士棕BCD-448WTPZM(E) \n",
       "                                                                                                                                                201 \n",
       "                                                    美的（Midea）电饭煲 2L 触控多功能饭煲 24小时智能预约 匠银聚能厚釜内胆 迷你电饭锅 MB-FB20Easy116 \n",
       "                                                                                                                                                547 \n",
       "                                                                      美迪惠尔(Mediheal)水润保湿面膜10片水库针剂(补水 男女护肤适用）可莱丝 韩国进口 \n",
       "                                                                                                                                                578 \n",
       "                                                                                                 美国国家地理儿童小百科 中英文双语读物（套装共6册） \n",
       "                                                                                                                                                592 \n",
       "                                                                           魅丝蔻（MSQ） 6支咖啡物语化妆套刷 专业化妆工具轮廓刷粉底刷眉刷唇刷眼影刷 \n",
       "                                                                                                                                                541 \n",
       "                                                                 米特尔（MITIR）探针式厨房食品温度计油温计婴儿奶温计水温计电子温度计 TP600 （白色） \n",
       "                                                                                                                                                567 \n",
       "                                                                                                             妙洁 纸杯一次性杯子 100只装228ml加厚型 \n",
       "                                                                                                                                                511 \n",
       "                                                                      耐克(NIKE) 运动包 腰包 HERITAGE HIP PACK 运动休闲包 胸包 斜挎包 BA5750-010 黑 \n",
       "                                                                                                                                                574 \n",
       "                                                                                        南极人 后跟贴防磨脚加厚鞋跟帖高跟鞋垫女防掉跟 肤色 2.5cm*5m \n",
       "                                                                                                                                                315 \n",
       "                                                          南极人 男士内裤男平角裤纯色95%精梳棉质中腰男式四角内裤u凸短裤头4条礼盒装NHT9999 混色4条XL \n",
       "                                                                                                                                                597 \n",
       "                                                                南极人（Nanjiren）户外登山休闲男鞋 防滑耐磨透气 男子百搭运动 NKG6X70131-J09 黑色 42 \n",
       "                                                                                                                                                550 \n",
       "                                                                                        南极人（NanJiren）记忆枕头枕芯  慢回弹太空记忆棉睡眠学 蓝色 \n",
       "                                                                                                                                                381 \n",
       "                                  南极人（NANJIREN）颈椎按摩器 按摩靠垫全身 颈部腰部肩部按摩椅垫 肩颈护颈脖子按摩仪 品牌专供京东特卖-超值活动热卖款 \n",
       "                                                                                                                                                575 \n",
       "                                         南极人（NANJIREN）全自动足浴盆电动高深桶加热洗脚盆 自助按摩脚泡脚机器足疗盆 （秒杀活动）十组合式自助数码屏 \n",
       "                                                                                                                                                576 \n",
       "                                                                     南极人户外冲锋衣男三合一秋冬季情侣加绒加厚保暖两件套防寒登山服女 彩兰（男） XL \n",
       "                                                                                                                                                560 \n",
       "                                                                       尼奥动力 neopower 膨胀螺丝盒塑料零件盒元件盒 五金配件工具盒 螺丝膨胀管收纳盒 \n",
       "                                                                                                                                                107 \n",
       "                                                         你身边不可思议的化学：必须知道的84个化学常识（14位专家学者手把手带你绕过生活中的“大坑”！） \n",
       "                                                                                                                                                607 \n",
       "                                                     牛仔外套男秋季男装外套秋装男士衣服春秋薄外套潮流秋天休闲工装韩版短外套棒球服男 J19329米白色 XL \n",
       "                                                                                                                                                 87 \n",
       "                                                           牛仔外套男装秋季衣服男春秋装夹克薄外套修身休闲短外套男生秋天工装潮流棒球服男 7705浅蓝 XL \n",
       "                                                                                                                                                115 \n",
       "                                                                                                        欧美金唱片：终极巅峰欧美经典音乐（黑胶5CD） \n",
       "                                                                                                                                                179 \n",
       "                                                                          欧普照明（OPPLE）国AA级减蓝光护眼台灯工作阅读触控调光儿童学生学习台灯元耀 \n",
       "                                                                                                                                                337 \n",
       "                                                                                 帕森（PARZIN ）偏光太阳镜型男经典蛤蟆镜安全驾驶墨镜8131A黑框黑灰片 \n",
       "                                                                                                                                                566 \n",
       "                                                                                     帕森（PARZIN）偏光镜男款驾驶墨镜偏光太阳镜眼镜 8001 黑框墨绿片 \n",
       "                                                                                                                                                149 \n",
       "                           皮手套男冬季保暖触屏开车骑车摩托车户外骑行防寒防风分指时尚男士商务加绒加厚冬天真皮防水秋季棉手套女冬 黑色双层加绒 经典款 \n",
       "                                                                                                                                                554 \n",
       "                                                                            七匹狼皮带男 自动扣牛皮时尚休闲款裤带简约中青年男腰带M73821A339-01 黑色 \n",
       "                                                                                                                                                628 \n",
       "                                                                          七匹狼童装儿童羽绒服多彩轻薄短款外套男童女童2019冬季新款中性款 黑色 130cm \n",
       "                                                                                                                                                436 \n",
       "                                                             麒妃孕妇秋季秋装2019时尚套装孕妇裤外穿长袖上衣t恤卫衣女春秋款两件套打底衫 砖红色上衣 L \n",
       "                                                                                                                                                569 \n",
       "                                                                                     强生（Johnson） 安视优 进口 隐形眼镜 润眸 两周/双周抛 6片装600 \n",
       "                                                                                                                                                604 \n",
       "                                          巧谷连衣裙2019夏秋季新款韩版套装女士时尚大码女装印花蕾丝性感连衣裙雪纺两件套时尚套装裙沙滩裙子女 图片色 L \n",
       "                                                                                                                                                227 \n",
       "                                                                            全球购阿玛尼ARMANI男装短袖T恤圆领上衣男士打底衫2件装 黑色+白色 175/95 L \n",
       "                                                                                                                                                157 \n",
       "                                                                  全自动雨伞 男士商务折叠伞大号双人三折成人男女自开自收晴雨太阳伞 10骨大伞105CM黑色 \n",
       "                                                                                                                                                590 \n",
       "                                                   然也（RAE）保温杯304不锈钢内胆双层茶杯保温壶 男女士商务时尚过滤车载泡茶学生水杯子 450ml黑色R3106 \n",
       "                                                                                                                                                575 \n",
       "                                               任天堂（Nintendo） Switch NS 家用游戏主机游戏卡带 不锁区 部分预售 异界锁链 星魂之链 星神链 中文 现货 \n",
       "                                                                                                                                                165 \n",
       "                    任天堂（Nintendo）Switch NS掌上游戏机便携体感精灵宝可梦新款ns续航加强版/普通版 日版新款续航加强版+塞尔达传说（送会员+赠品套装） \n",
       "                                                                                                                                                588 \n",
       "                                   任天堂（Nintendo）Switch 游戏主机 掌机 NS游戏卡带 游戏卡 不锁区 现货 部分预订 塞尔达传说荒野之息 中文 赠电子攻略 \n",
       "                                                                                                                                                598 \n",
       "                                                日本进口 江原道 KohGenDo 全新水漾美肌无瑕粉底液 012（明皙提亮）30ml/瓶 精华保湿控油防水防汗轻薄持久 \n",
       "                                                                                                                                                587 \n",
       "                                                                                溶智速效三元复合肥氮磷钾花肥家用养花盆栽通用蔬菜颗粒缓释化肥500g/瓶 \n",
       "                                                                                                                                                539 \n",
       "                                                                               瑞允 电脑椅办公椅子家用靠背椅电竞椅可躺座椅人体工学椅老板椅转椅 白色 \n",
       "                                                                                                                                                567 \n",
       "                                                                           赛拓（SANTO）高强度抗剪防撬U型锁安全锁 双开玻璃门锁 电动车锁 加长款 0060 \n",
       "                                                                                                                                                318 \n",
       "                                                                           三只松鼠乳酸菌小伴侣面包 营养早餐口袋手撕面包网红零食饼干蛋糕糕点520g/箱 \n",
       "                                                                                                                                                582 \n",
       "                                      上梵全荞麦枕头荞麦皮枕芯保健枕头芯全棉纯棉薰衣草颈椎助眠失眠枕头纯荞麦壳中草茶香茶叶枕成人纯荞麦枕 浅卡其大款 \n",
       "                                                                                                                                                217 \n",
       "                                                                         胜利仪器（VICTOR）2万电容 多功能 防烧 数字万用表 电工万能表 带测温 VC890C+ \n",
       "                                                                                                                                                206 \n",
       "                                                                                  双枪（Suncha） 不锈钢水果叉子蛋糕月饼叉点心签家用餐具5支装 CF1219 \n",
       "                                                                                                                                                443 \n",
       "                                                                               硕扬 i7 8700升十二线程/8G显卡32G内存D3游戏台式吃鸡电脑主机/DIY组装机 \n",
       "                                                                                                                                                554 \n",
       "                                                                            松下（Panasonic）6套容量洗碗机 除菌烘干双层碗篮台式NP-TR1HECN（银河灰） \n",
       "                                                                                                                                                547 \n",
       "                                                                     松下（Panasonic）挂烫机 家用熨斗 手持蒸汽挂烫机 1600W双重蒸汽模式 NI-GSE036-GY \n",
       "                                                                                                                                                467 \n",
       "                                               索尼（SONY）Alpha 7 II 标准套机（a7M2K）全画幅微单数码相机 （约2430万有效像素 28-70mm镜头 a7M2/A72） \n",
       "                                                                                                                                                509 \n",
       "                                                   索尼（SONY）DSC-RX100M7 黑卡数码相机（24-200mm蔡司镜头 实时眼部对焦 4K HDR视频 RX100 VII/黑卡7） \n",
       "                                                                                                                                                 46 \n",
       "                                                                                          索尼（SONY）PS4 Pro PlayStation国行游戏机 1TB主机（黑色） \n",
       "                                                                                                                                                326 \n",
       "                                                                                       泰国进口零食bento拌多乐手撕鱿鱼片辣条香甜辣味鱿鱼干鱿鱼丝20g \n",
       "                                                                                                                                                525 \n",
       "                                                探险者（TAN XIAN ZHE）全自动帐篷户外防雨双人双层免搭建3-4人野外露营帐篷套装 新款2-3人黑胶防晒套餐一 \n",
       "                                                                                                                                                585 \n",
       "                                                                         天王表(TIANWANG)手表 沧海系列皮带石英商务男士手表钟表情侣表白色GS3886S/D-A \n",
       "                                                                                                                                                562 \n",
       "                                                                                                                    外科学（第9版/本科临床/配增值） \n",
       "                                                                                                                                                321 \n",
       "                                                                        湾仔码头 缤纷芋圆 芋见真心小圆子混合装 360g 黑芝麻 紫薯 红豆 甜品 汤圆 烘培 \n",
       "                                                                                                                                                589 \n",
       "                                                                                    湾仔码头 速冻水饺 三鲜口味 1.32kg  66只 早餐 火锅食材 烧烤 饺子 \n",
       "                                                                                                                                                575 \n",
       "                                                     丸美 护肤化妆品套装 去细纹 巧克力7件套（水190ml+乳150g）赠（旅行套+霜*2随机）紧致肌肤 补水保湿 \n",
       "                                                                                                                                                588 \n",
       "                                                                       完美日记（PERFECT DIARY）浮光系列男士淡香水 N08 积雨云30ml 低调典雅 深沉性感 \n",
       "                                                                                                                                                126 \n",
       "                                                                威古氏 VEGOOS 防蓝光眼镜办公电竞游戏护目镜防辐射眼镜男女款手机平光眼镜近视镜框 5166 \n",
       "                                                                                                                                                590 \n",
       "                                                            韦大锤 切菜刀单刀 切片刀 厨房刀 切肉刀 斩骨刀 手工锻打铁菜刀桑刀具厨师专用家用 家用菜刀 \n",
       "                                                                                                                                                518 \n",
       "                                                              唯一银耳钉女士款四叶草耳环999足银耳坠时尚首饰品简约日韩版学生耳饰配证书送女友生日礼物 \n",
       "                                                                                                                                                538 \n",
       "                                                                    维达(Vinda) 抽纸 超韧3层130抽软抽*24包纸巾(小规格) 整箱销售（新旧产品随机发货） \n",
       "                                                                                                                                                584 \n",
       "                                                                               维他奶 维他低糖柠檬茶饮料250ml*24盒 低糖无脂肪 柠檬果汁味红茶 整箱装 \n",
       "                                                                                                                                                573 \n",
       "                                                                           卫龙 辣条 网红办公室休闲零食 儿时怀旧开袋即食解馋小吃 香辣味大面筋65g/袋 \n",
       "                                                                                                                                                590 \n",
       "                                                                   我的小屋生日礼物DIY小屋创意礼品手工拼装玩具女生朋友男友 雅致+工具胶水+LED灯 小屋 \n",
       "                                                                                                                                                515 \n",
       "                                               西部数据(WD)2TB USB3.0移动硬盘Elements SE 新元素系列2.5英寸(稳定耐用 海量存储 京东专供)WDBEPK0020BBK \n",
       "                                                                                                                                                600 \n",
       "                                                                                                                           希利尔讲给孩子的世界地理 \n",
       "                                                                                                                                                 22 \n",
       "                                                              现代翼蛇（HYesir）HY-KA7键盘 有线键盘 usb接口 防水泼 办公键盘 不掉色 经典爆款 黑 自营 \n",
       "                                                                                                                                                588 \n",
       "                                                                                               小狗（puppy）小型手持床铺除螨机除螨仪家用吸尘器D-607 \n",
       "                                                                                                                                                595 \n",
       "                                                                                      小米 米家 滤水壶 （自带1个滤芯） 家用净水器 水质过滤器 净水壶 \n",
       "                                                                                                                                                570 \n",
       "                                                                                                            小米 米家 扫地机器人 虚拟墙 识别墙 棕色 \n",
       "                                                                                                                                                284 \n",
       "                                                                           小米盒子4C 智能网络机顶盒 H.265硬解 安卓网络盒子 高清网络播放器 HDR 黑色 \n",
       "                                                                                                                                                543 \n",
       "                                                            小熊（Bear）煮蛋器 家用早餐迷你机蒸蛋器自动断电智能一键式单层可煮5个蛋 ZDQ-2201（粉色） \n",
       "                                                                                                                                                318 \n",
       "                                                新新精艺马卡龙装饰气球100个生日结婚国庆装饰店铺开业婚庆会场舞台派对房子拱门布置用品送打气筒点胶彩带 \n",
       "                                                                                                                                                216 \n",
       "                                                          轩椽阁 香炉纯铜家用香薰炉檀香盘香炉线香炉居室熏香炉摆件 ［金莲铜］+芽庄沉香+禅悦檀香+底座 \n",
       "                                                                                                                                                500 \n",
       "                                                                                                       雅高 金属垃圾桶家用垃圾分类/垃圾篓/纸篓 中号 \n",
       "                                                                                                                                                596 \n",
       "                                                                   野马（YEMA）325电动摩托车头盔男 夏天电瓶车安全帽女 双镜片四季半盔 夏季 均码 亚黑 \n",
       "                                                                                                                                                569 \n",
       "                                                                       一杯香茶叶2019新茶明前云雾绿茶4罐共500克毛尖高山绿茶散装春茶礼盒装茗茶浓香型 \n",
       "                                                                                                                                                532 \n",
       "                                                                                                           伊利 安慕希希腊风味常温酸奶原味205g*16盒 \n",
       "                                                                                                                                                612 \n",
       "                                                           壹号公路 20000毫安 镜面大容量充电宝 数显移动电源 双USB输出 适用于苹果/安卓/小米/华为通用 \n",
       "                                                                                                                                                573 \n",
       "                                                                     亿健A8跑步机家用折叠静音豪华按摩肌肉多功能AI智能减震跑步机京东自营彩屏64cm跑台 \n",
       "                                                                                                                                                179 \n",
       "                                               忆静萱针织连衣裙新品2019秋季女装新款韩版大码女装显瘦时尚套装女长袖连衣裙两件套性感棉麻A字裙子 图色 L \n",
       "                                                                                                                                                228 \n",
       "                                                                                        意大利进口 辣西西里 意大利面5#直条形直身意粉组合 500g*2袋装 \n",
       "                                                                                                                                                598 \n",
       "                                                                 意尔嫚 桌布家居 耐高温防水防油PVC免洗台布餐桌布艺140*180cm 现代简约餐桌台布 灰色格 \n",
       "                                                                                                                                                257 \n",
       "                                                                   英雄（HERO）359 正姿 黑色 EF尖薄厚片工艺学生练字钢笔 （赠6支墨囊）铱金钢笔签字笔 \n",
       "                                                                                                                                                548 \n",
       "                                                            鹰牌 瓷砖地板砖 全抛釉 客厅地砖 卫生间仿古砖瓷砖800*800 卡拉拉白 TE0D6FA-T26E 800x800mm \n",
       "                                                                                                                                                352 \n",
       "                                                营养发膜500ml滋护焗油膏倒膜免蒸护发素头发护理染烫修护干枯毛躁受损发质水疗素女士 特惠价（2瓶）=149元 \n",
       "                                                                                                                                                123 \n",
       "                                  永久自行车山地车男女单车公路车中小学生少年成人运动越野赛车旅行车24寸/26寸变速山地自行车 24速顶配加粗车架-26寸白蓝 \n",
       "                                                                                                                                                607 \n",
       "                                                                                                                                     余华作品：活着 \n",
       "                                                                                                                                                628 \n",
       "                                                            俞兆林10双袜子男短袜秋季65%纯棉船袜夏季隐形浅口潮袜运动篮球棉袜男 10双装Beer男短袜 均码 \n",
       "                                                                                                                                                586 \n",
       "                                                                                                    云南白药 牙膏 180g （留兰香型）新老包装随机发货 \n",
       "                                                                                                                                                641 \n",
       "                                                                                                                              张小泉 指甲钳ZJQ-105P \n",
       "                                                                                                                                                578 \n",
       "                                                                                                                         长安十二时辰（上下共两册） \n",
       "                                                                                                                                                601 \n",
       "                                                                                                         之宝(Zippo)打火机 缎纱镀铬205 煤油防风火机 \n",
       "                                                                                                                                                544 \n",
       "                                                                中保（ZhB）农药 阿维菌素 红蜘蛛螨虫青虫根结线虫通用广谱农用杀虫杀螨剂 100ml*20瓶 瓶 \n",
       "                                                                                                                                                152 \n",
       "                                                                                     卓啡诗 珍珠粉圆 珍珠奶茶适用原料无明胶真空装500g/袋 黑珍珠粉圆 \n",
       "                                                                                                                                                503 \n",
       "                                                             啄木鸟 TUCANO 帽子男士夏季速干帽户外鸭舌帽防晒钓鱼遮阳帽休闲透气潮棒球帽SG-3526-2 黑色 \n",
       "                                                                                                                                                579 \n",
       "                                               滋涩连衣裙2019秋季女装新款韩版长袖时尚套装女休闲秋天大码衣服中年女士裙子半身裙两件套装裙V32 图片色 L \n",
       "                                                                                                                                                238 \n",
       "                                                滋源生姜洗发水套装 强根健发洗发5件套 洗535ml+235ml*2+60ml*2（无硅油 强韧丰盈 修护损伤 男女士 油性） \n",
       "                                                                                                                                                594 \n",
       "                                                                                 子初孕产妇卫生内裤 一次性内裤女 打底裤 免洗旅行内裤XL（4条装*7盒） \n",
       "                                                                                                                                                599 "
      ]
     },
     "metadata": {},
     "output_type": "display_data"
    }
   ],
   "source": [
    "table(df$productName)"
   ]
  },
  {
   "cell_type": "code",
   "execution_count": 18,
   "metadata": {},
   "outputs": [
    {
     "name": "stderr",
     "output_type": "stream",
     "text": [
      "`stat_bin()` using `bins = 30`. Pick better value with `binwidth`.\n",
      "`stat_bin()` using `bins = 30`. Pick better value with `binwidth`.\n"
     ]
    },
    {
     "data": {
      "image/png": "[encoded data removed]",
      "text/plain": [
       "plot without title"
      ]
     },
     "metadata": {},
     "output_type": "display_data"
    },
    {
     "data": {
      "image/png": "[encoded data removed]",
      "text/plain": [
       "plot without title"
      ]
     },
     "metadata": {},
     "output_type": "display_data"
    }
   ],
   "source": [
    "ggplot()+geom_histogram(data=df,aes(predictScore,..count..,fill=device),color='white')\n",
    "ggplot()+geom_histogram(data=df,aes(commentLen,..count..,fill=device),color='white')"
   ]
  },
  {
   "cell_type": "code",
   "execution_count": 19,
   "metadata": {},
   "outputs": [
    {
     "data": {
      "text/html": [
       "<table>\n",
       "<caption>A tibble: 2 × 3</caption>\n",
       "<thead>\n",
       "\t<tr><th scope=col>device</th><th scope=col>commentLength</th><th scope=col>count</th></tr>\n",
       "\t<tr><th scope=col>&lt;fct&gt;</th><th scope=col>&lt;dbl&gt;</th><th scope=col>&lt;int&gt;</th></tr>\n",
       "</thead>\n",
       "<tbody>\n",
       "\t<tr><td>Mobile Phone</td><td>25.77082</td><td>109295</td></tr>\n",
       "\t<tr><td>PC          </td><td>32.49955</td><td>  5577</td></tr>\n",
       "</tbody>\n",
       "</table>\n"
      ],
      "text/latex": [
       "A tibble: 2 × 3\n",
       "\\begin{tabular}{r|lll}\n",
       " device & commentLength & count\\\\\n",
       " <fct> & <dbl> & <int>\\\\\n",
       "\\hline\n",
       "\t Mobile Phone & 25.77082 & 109295\\\\\n",
       "\t PC           & 32.49955 &   5577\\\\\n",
       "\\end{tabular}\n"
      ],
      "text/markdown": [
       "\n",
       "A tibble: 2 × 3\n",
       "\n",
       "| device &lt;fct&gt; | commentLength &lt;dbl&gt; | count &lt;int&gt; |\n",
       "|---|---|---|\n",
       "| Mobile Phone | 25.77082 | 109295 |\n",
       "| PC           | 32.49955 |   5577 |\n",
       "\n"
      ],
      "text/plain": [
       "  device       commentLength count \n",
       "1 Mobile Phone 25.77082      109295\n",
       "2 PC           32.49955        5577"
      ]
     },
     "metadata": {},
     "output_type": "display_data"
    },
    {
     "data": {
      "image/png": "[encoded data removed]",
      "text/plain": [
       "plot without title"
      ]
     },
     "metadata": {},
     "output_type": "display_data"
    }
   ],
   "source": [
    "mutate(df) %>%\n",
    " group_by(device) %>%\n",
    " summarize(commentLength = mean(commentLen, na.rm = TRUE), count = n())\n",
    "ggplot(df, aes(factor(device), commentLen)) + geom_boxplot() + coord_cartesian(ylim = c(0, 100))"
   ]
  },
  {
   "cell_type": "code",
   "execution_count": 20,
   "metadata": {},
   "outputs": [
    {
     "data": {
      "text/html": [
       "<table>\n",
       "<caption>A tibble: 2 × 3</caption>\n",
       "<thead>\n",
       "\t<tr><th scope=col>device</th><th scope=col>usefulVoteCount</th><th scope=col>count</th></tr>\n",
       "\t<tr><th scope=col>&lt;fct&gt;</th><th scope=col>&lt;dbl&gt;</th><th scope=col>&lt;int&gt;</th></tr>\n",
       "</thead>\n",
       "<tbody>\n",
       "\t<tr><td>Mobile Phone</td><td>0.1316163</td><td>109295</td></tr>\n",
       "\t<tr><td>PC          </td><td>0.2992648</td><td>  5577</td></tr>\n",
       "</tbody>\n",
       "</table>\n"
      ],
      "text/latex": [
       "A tibble: 2 × 3\n",
       "\\begin{tabular}{r|lll}\n",
       " device & usefulVoteCount & count\\\\\n",
       " <fct> & <dbl> & <int>\\\\\n",
       "\\hline\n",
       "\t Mobile Phone & 0.1316163 & 109295\\\\\n",
       "\t PC           & 0.2992648 &   5577\\\\\n",
       "\\end{tabular}\n"
      ],
      "text/markdown": [
       "\n",
       "A tibble: 2 × 3\n",
       "\n",
       "| device &lt;fct&gt; | usefulVoteCount &lt;dbl&gt; | count &lt;int&gt; |\n",
       "|---|---|---|\n",
       "| Mobile Phone | 0.1316163 | 109295 |\n",
       "| PC           | 0.2992648 |   5577 |\n",
       "\n"
      ],
      "text/plain": [
       "  device       usefulVoteCount count \n",
       "1 Mobile Phone 0.1316163       109295\n",
       "2 PC           0.2992648         5577"
      ]
     },
     "metadata": {},
     "output_type": "display_data"
    }
   ],
   "source": [
    "mutate(df) %>%\n",
    " group_by(device) %>%\n",
    " summarize(usefulVoteCount = mean(usefulVoteCount, na.rm = TRUE), count = n())"
   ]
  },
  {
   "cell_type": "code",
   "execution_count": 21,
   "metadata": {},
   "outputs": [
    {
     "name": "stderr",
     "output_type": "stream",
     "text": [
      "Warning message:\n",
      "\"package 'DataExplorer' was built under R version 3.5.3\""
     ]
    },
    {
     "data": {
      "image/png": "[encoded data removed]",
      "text/plain": [
       "plot without title"
      ]
     },
     "metadata": {},
     "output_type": "display_data"
    }
   ],
   "source": [
    "library(\"DataExplorer\")\n",
    "plot_correlation(df[c(6,7,8,9,10,13)], maxcat = 20L, title= 'correlation matrix')"
   ]
  },
  {
   "cell_type": "code",
   "execution_count": 22,
   "metadata": {},
   "outputs": [
    {
     "data": {
      "text/html": [
       "<table>\n",
       "<caption>A tibble: 6 × 13</caption>\n",
       "<thead>\n",
       "\t<tr><th scope=col>membershipLevel</th><th scope=col>commentContent</th><th scope=col>commentTime</th><th scope=col>source</th><th scope=col>productName</th><th scope=col>imageCount</th><th scope=col>containVideo</th><th scope=col>usefulVoteCount</th><th scope=col>device</th><th scope=col>predictScore</th><th scope=col>actualFlag</th><th scope=col>commentHour</th><th scope=col>commentLen</th></tr>\n",
       "\t<tr><th scope=col>&lt;fct&gt;</th><th scope=col>&lt;chr&gt;</th><th scope=col>&lt;dttm&gt;</th><th scope=col>&lt;fct&gt;</th><th scope=col>&lt;chr&gt;</th><th scope=col>&lt;int&gt;</th><th scope=col>&lt;chr&gt;</th><th scope=col>&lt;int&gt;</th><th scope=col>&lt;fct&gt;</th><th scope=col>&lt;dbl&gt;</th><th scope=col>&lt;int&gt;</th><th scope=col>&lt;int&gt;</th><th scope=col>&lt;dbl&gt;</th></tr>\n",
       "</thead>\n",
       "<tbody>\n",
       "\t<tr><td>Plus    </td><td>这下够穿了，真的挺实惠的，颜色也很喜欢，看看能穿住了吧  </td><td>2019-05-08 08:45:00</td><td>Android</td><td>俞兆林10双袜子男短袜秋季65%纯棉船袜夏季隐形浅口潮袜运动篮球棉袜男 10双装Beer男短袜 均码                   </td><td>3</td><td>False</td><td>0</td><td>Mobile Phone</td><td>0.9971100</td><td> 1</td><td> 9</td><td>24</td></tr>\n",
       "\t<tr><td>4-Gold  </td><td>老品牌值得信赖好用，物流相当快，好评，下次还买。        </td><td>2019-06-13 17:50:00</td><td>Android</td><td>维达(Vinda) 抽纸 超韧3层130抽软抽*24包纸巾(小规格) 整箱销售（新旧产品随机发货）                           </td><td>0</td><td>True </td><td>0</td><td>Mobile Phone</td><td>1.0000000</td><td> 1</td><td>18</td><td>20</td></tr>\n",
       "\t<tr><td>Plus    </td><td>一直在用  还会继续回购  什么时候有赠品                  </td><td>2019-09-01 07:11:00</td><td>Android</td><td>云南白药 牙膏 180g （留兰香型）新老包装随机发货                                                           </td><td>0</td><td>False</td><td>0</td><td>Mobile Phone</td><td>0.9945464</td><td> 1</td><td> 8</td><td>17</td></tr>\n",
       "\t<tr><td>Plus    </td><td>快用完了 但效果不知道怎么样 因为是室外游泳              </td><td>2019-06-19 13:17:00</td><td>iPhone </td><td>曼秀雷敦新碧进口双重保湿防晒露防晒霜乳男女 SPF50+ 80g 长效持久 隔离紫外线 耐水耐汗小金帽 学生党           </td><td>0</td><td>True </td><td>0</td><td>Mobile Phone</td><td>0.8612527</td><td> 1</td><td>14</td><td>20</td></tr>\n",
       "\t<tr><td>3-Silver</td><td>第一次用，气泡就把小零件吹起来了！                      </td><td>2019-09-24 20:20:00</td><td>Android</td><td>南极人（NANJIREN）全自动足浴盆电动高深桶加热洗脚盆 自助按摩脚泡脚机器足疗盆 （秒杀活动）十组合式自助数码屏</td><td>1</td><td>False</td><td>0</td><td>Mobile Phone</td><td>0.6981536</td><td>-1</td><td>21</td><td>15</td></tr>\n",
       "\t<tr><td>Plus    </td><td>质量非常好的椰子粉，大品牌，味道很不错。下回再来继续购买</td><td>2019-08-16 02:46:00</td><td>iPhone </td><td>海南特产 南国 营养早餐速溶饮料 咖啡伴侣 纯椰子粉320g/袋                                                   </td><td>0</td><td>False</td><td>1</td><td>Mobile Phone</td><td>0.9999970</td><td> 1</td><td> 3</td><td>25</td></tr>\n",
       "</tbody>\n",
       "</table>\n"
      ],
      "text/latex": [
       "A tibble: 6 × 13\n",
       "\\begin{tabular}{r|lllllllllllll}\n",
       " membershipLevel & commentContent & commentTime & source & productName & imageCount & containVideo & usefulVoteCount & device & predictScore & actualFlag & commentHour & commentLen\\\\\n",
       " <fct> & <chr> & <dttm> & <fct> & <chr> & <int> & <chr> & <int> & <fct> & <dbl> & <int> & <int> & <dbl>\\\\\n",
       "\\hline\n",
       "\t Plus     & 这下够穿了，真的挺实惠的，颜色也很喜欢，看看能穿住了吧   & 2019-05-08 08:45:00 & Android & 俞兆林10双袜子男短袜秋季65\\%纯棉船袜夏季隐形浅口潮袜运动篮球棉袜男 10双装Beer男短袜 均码                    & 3 & False & 0 & Mobile Phone & 0.9971100 &  1 &  9 & 24\\\\\n",
       "\t 4-Gold   & 老品牌值得信赖好用，物流相当快，好评，下次还买。         & 2019-06-13 17:50:00 & Android & 维达(Vinda) 抽纸 超韧3层130抽软抽*24包纸巾(小规格) 整箱销售（新旧产品随机发货）                            & 0 & True  & 0 & Mobile Phone & 1.0000000 &  1 & 18 & 20\\\\\n",
       "\t Plus     & 一直在用  还会继续回购  什么时候有赠品                   & 2019-09-01 07:11:00 & Android & 云南白药 牙膏 180g （留兰香型）新老包装随机发货                                                            & 0 & False & 0 & Mobile Phone & 0.9945464 &  1 &  8 & 17\\\\\n",
       "\t Plus     & 快用完了 但效果不知道怎么样 因为是室外游泳               & 2019-06-19 13:17:00 & iPhone  & 曼秀雷敦新碧进口双重保湿防晒露防晒霜乳男女 SPF50+ 80g 长效持久 隔离紫外线 耐水耐汗小金帽 学生党            & 0 & True  & 0 & Mobile Phone & 0.8612527 &  1 & 14 & 20\\\\\n",
       "\t 3-Silver & 第一次用，气泡就把小零件吹起来了！                       & 2019-09-24 20:20:00 & Android & 南极人（NANJIREN）全自动足浴盆电动高深桶加热洗脚盆 自助按摩脚泡脚机器足疗盆 （秒杀活动）十组合式自助数码屏 & 1 & False & 0 & Mobile Phone & 0.6981536 & -1 & 21 & 15\\\\\n",
       "\t Plus     & 质量非常好的椰子粉，大品牌，味道很不错。下回再来继续购买 & 2019-08-16 02:46:00 & iPhone  & 海南特产 南国 营养早餐速溶饮料 咖啡伴侣 纯椰子粉320g/袋                                                    & 0 & False & 1 & Mobile Phone & 0.9999970 &  1 &  3 & 25\\\\\n",
       "\\end{tabular}\n"
      ],
      "text/markdown": [
       "\n",
       "A tibble: 6 × 13\n",
       "\n",
       "| membershipLevel &lt;fct&gt; | commentContent &lt;chr&gt; | commentTime &lt;dttm&gt; | source &lt;fct&gt; | productName &lt;chr&gt; | imageCount &lt;int&gt; | containVideo &lt;chr&gt; | usefulVoteCount &lt;int&gt; | device &lt;fct&gt; | predictScore &lt;dbl&gt; | actualFlag &lt;int&gt; | commentHour &lt;int&gt; | commentLen &lt;dbl&gt; |\n",
       "|---|---|---|---|---|---|---|---|---|---|---|---|---|\n",
       "| Plus     | 这下够穿了，真的挺实惠的，颜色也很喜欢，看看能穿住了吧   | 2019-05-08 08:45:00 | Android | 俞兆林10双袜子男短袜秋季65%纯棉船袜夏季隐形浅口潮袜运动篮球棉袜男 10双装Beer男短袜 均码                    | 3 | False | 0 | Mobile Phone | 0.9971100 |  1 |  9 | 24 |\n",
       "| 4-Gold   | 老品牌值得信赖好用，物流相当快，好评，下次还买。         | 2019-06-13 17:50:00 | Android | 维达(Vinda) 抽纸 超韧3层130抽软抽*24包纸巾(小规格) 整箱销售（新旧产品随机发货）                            | 0 | True  | 0 | Mobile Phone | 1.0000000 |  1 | 18 | 20 |\n",
       "| Plus     | 一直在用  还会继续回购  什么时候有赠品                   | 2019-09-01 07:11:00 | Android | 云南白药 牙膏 180g （留兰香型）新老包装随机发货                                                            | 0 | False | 0 | Mobile Phone | 0.9945464 |  1 |  8 | 17 |\n",
       "| Plus     | 快用完了 但效果不知道怎么样 因为是室外游泳               | 2019-06-19 13:17:00 | iPhone  | 曼秀雷敦新碧进口双重保湿防晒露防晒霜乳男女 SPF50+ 80g 长效持久 隔离紫外线 耐水耐汗小金帽 学生党            | 0 | True  | 0 | Mobile Phone | 0.8612527 |  1 | 14 | 20 |\n",
       "| 3-Silver | 第一次用，气泡就把小零件吹起来了！                       | 2019-09-24 20:20:00 | Android | 南极人（NANJIREN）全自动足浴盆电动高深桶加热洗脚盆 自助按摩脚泡脚机器足疗盆 （秒杀活动）十组合式自助数码屏 | 1 | False | 0 | Mobile Phone | 0.6981536 | -1 | 21 | 15 |\n",
       "| Plus     | 质量非常好的椰子粉，大品牌，味道很不错。下回再来继续购买 | 2019-08-16 02:46:00 | iPhone  | 海南特产 南国 营养早餐速溶饮料 咖啡伴侣 纯椰子粉320g/袋                                                    | 0 | False | 1 | Mobile Phone | 0.9999970 |  1 |  3 | 25 |\n",
       "\n"
      ],
      "text/plain": [
       "  membershipLevel commentContent                                          \n",
       "1 Plus            这下够穿了，真的挺实惠的，颜色也很喜欢，看看能穿住了吧  \n",
       "2 4-Gold          老品牌值得信赖好用，物流相当快，好评，下次还买。        \n",
       "3 Plus            一直在用  还会继续回购  什么时候有赠品                  \n",
       "4 Plus            快用完了 但效果不知道怎么样 因为是室外游泳              \n",
       "5 3-Silver        第一次用，气泡就把小零件吹起来了！                      \n",
       "6 Plus            质量非常好的椰子粉，大品牌，味道很不错。下回再来继续购买\n",
       "  commentTime         source \n",
       "1 2019-05-08 08:45:00 Android\n",
       "2 2019-06-13 17:50:00 Android\n",
       "3 2019-09-01 07:11:00 Android\n",
       "4 2019-06-19 13:17:00 iPhone \n",
       "5 2019-09-24 20:20:00 Android\n",
       "6 2019-08-16 02:46:00 iPhone \n",
       "  productName                                                                                               \n",
       "1 俞兆林10双袜子男短袜秋季65%纯棉船袜夏季隐形浅口潮袜运动篮球棉袜男 10双装Beer男短袜 均码                   \n",
       "2 维达(Vinda) 抽纸 超韧3层130抽软抽*24包纸巾(小规格) 整箱销售（新旧产品随机发货）                           \n",
       "3 云南白药 牙膏 180g （留兰香型）新老包装随机发货                                                           \n",
       "4 曼秀雷敦新碧进口双重保湿防晒露防晒霜乳男女 SPF50+ 80g 长效持久 隔离紫外线 耐水耐汗小金帽 学生党           \n",
       "5 南极人（NANJIREN）全自动足浴盆电动高深桶加热洗脚盆 自助按摩脚泡脚机器足疗盆 （秒杀活动）十组合式自助数码屏\n",
       "6 海南特产 南国 营养早餐速溶饮料 咖啡伴侣 纯椰子粉320g/袋                                                   \n",
       "  imageCount containVideo usefulVoteCount device       predictScore actualFlag\n",
       "1 3          False        0               Mobile Phone 0.9971100     1        \n",
       "2 0          True         0               Mobile Phone 1.0000000     1        \n",
       "3 0          False        0               Mobile Phone 0.9945464     1        \n",
       "4 0          True         0               Mobile Phone 0.8612527     1        \n",
       "5 1          False        0               Mobile Phone 0.6981536    -1        \n",
       "6 0          False        1               Mobile Phone 0.9999970     1        \n",
       "  commentHour commentLen\n",
       "1  9          24        \n",
       "2 18          20        \n",
       "3  8          17        \n",
       "4 14          20        \n",
       "5 21          15        \n",
       "6  3          25        "
      ]
     },
     "metadata": {},
     "output_type": "display_data"
    },
    {
     "data": {
      "text/html": [
       "<table>\n",
       "<caption>A tibble: 1 × 9</caption>\n",
       "<thead>\n",
       "\t<tr><th scope=col>rows</th><th scope=col>columns</th><th scope=col>discrete_columns</th><th scope=col>continuous_columns</th><th scope=col>all_missing_columns</th><th scope=col>total_missing_values</th><th scope=col>complete_rows</th><th scope=col>total_observations</th><th scope=col>memory_usage</th></tr>\n",
       "\t<tr><th scope=col>&lt;int&gt;</th><th scope=col>&lt;int&gt;</th><th scope=col>&lt;int&gt;</th><th scope=col>&lt;int&gt;</th><th scope=col>&lt;int&gt;</th><th scope=col>&lt;int&gt;</th><th scope=col>&lt;int&gt;</th><th scope=col>&lt;int&gt;</th><th scope=col>&lt;dbl&gt;</th></tr>\n",
       "</thead>\n",
       "<tbody>\n",
       "\t<tr><td>114872</td><td>13</td><td>7</td><td>6</td><td>0</td><td>1158</td><td>114293</td><td>1493336</td><td>25659864</td></tr>\n",
       "</tbody>\n",
       "</table>\n"
      ],
      "text/latex": [
       "A tibble: 1 × 9\n",
       "\\begin{tabular}{r|lllllllll}\n",
       " rows & columns & discrete\\_columns & continuous\\_columns & all\\_missing\\_columns & total\\_missing\\_values & complete\\_rows & total\\_observations & memory\\_usage\\\\\n",
       " <int> & <int> & <int> & <int> & <int> & <int> & <int> & <int> & <dbl>\\\\\n",
       "\\hline\n",
       "\t 114872 & 13 & 7 & 6 & 0 & 1158 & 114293 & 1493336 & 25659864\\\\\n",
       "\\end{tabular}\n"
      ],
      "text/markdown": [
       "\n",
       "A tibble: 1 × 9\n",
       "\n",
       "| rows &lt;int&gt; | columns &lt;int&gt; | discrete_columns &lt;int&gt; | continuous_columns &lt;int&gt; | all_missing_columns &lt;int&gt; | total_missing_values &lt;int&gt; | complete_rows &lt;int&gt; | total_observations &lt;int&gt; | memory_usage &lt;dbl&gt; |\n",
       "|---|---|---|---|---|---|---|---|---|\n",
       "| 114872 | 13 | 7 | 6 | 0 | 1158 | 114293 | 1493336 | 25659864 |\n",
       "\n"
      ],
      "text/plain": [
       "  rows   columns discrete_columns continuous_columns all_missing_columns\n",
       "1 114872 13      7                6                  0                  \n",
       "  total_missing_values complete_rows total_observations memory_usage\n",
       "1 1158                 114293        1493336            25659864    "
      ]
     },
     "metadata": {},
     "output_type": "display_data"
    },
    {
     "data": {
      "image/png": "[encoded data removed]",
      "text/plain": [
       "plot without title"
      ]
     },
     "metadata": {},
     "output_type": "display_data"
    },
    {
     "name": "stderr",
     "output_type": "stream",
     "text": [
      "3 columns ignored with more than 50 categories.\n",
      "commentContent: 107944 categories\n",
      "commentTime: 85533 categories\n",
      "productName: 248 categories\n",
      "\n"
     ]
    },
    {
     "data": {
      "image/png": "[encoded data removed]",
      "text/plain": [
       "plot without title"
      ]
     },
     "metadata": {},
     "output_type": "display_data"
    },
    {
     "data": {
      "image/png": "[encoded data removed]",
      "text/plain": [
       "plot without title"
      ]
     },
     "metadata": {},
     "output_type": "display_data"
    }
   ],
   "source": [
    "#exploratory data analysis using DataExplorer\n",
    "head(df)\n",
    "introduce(df)\n",
    "plot_intro(df)\n",
    "plot_missing(df)\n",
    "plot_bar(df, binary_as_factor = TRUE)"
   ]
  },
  {
   "cell_type": "code",
   "execution_count": 23,
   "metadata": {},
   "outputs": [
    {
     "data": {
      "image/png": "[encoded data removed]",
      "text/plain": [
       "plot without title"
      ]
     },
     "metadata": {},
     "output_type": "display_data"
    }
   ],
   "source": [
    "plot_histogram(df)"
   ]
  },
  {
   "cell_type": "code",
   "execution_count": 24,
   "metadata": {
    "scrolled": false
   },
   "outputs": [
    {
     "data": {
      "image/png": "[encoded data removed]",
      "text/plain": [
       "Plot with title \"Histogram of subset(df, device == \"Mobile Phone\")$commentLen\""
      ]
     },
     "metadata": {},
     "output_type": "display_data"
    },
    {
     "data": {
      "image/png": "[encoded data removed]",
      "text/plain": [
       "Plot with title \"Histogram of subset(df, device == \"Mobile Phone\")$predictScore\""
      ]
     },
     "metadata": {},
     "output_type": "display_data"
    },
    {
     "data": {
      "image/png": "[encoded data removed]",
      "text/plain": [
       "Plot with title \"Histogram of subset(df, device == \"Mobile Phone\")$usefulVoteCount\""
      ]
     },
     "metadata": {},
     "output_type": "display_data"
    },
    {
     "data": {
      "image/png": "[encoded data removed]",
      "text/plain": [
       "Plot with title \"Histogram of subset(df, device == \"Mobile Phone\")$commentHour\""
      ]
     },
     "metadata": {},
     "output_type": "display_data"
    },
    {
     "data": {
      "image/png": "[encoded data removed]",
      "text/plain": [
       "Plot with title \"Histogram of subset(df, device == \"Mobile Phone\")$imageCount\""
      ]
     },
     "metadata": {},
     "output_type": "display_data"
    }
   ],
   "source": [
    "par(mfrow = c(2, 1), mar = c(4, 4, 2, 1))\n",
    "hist(subset(df, device == \"PC\")$commentLen, col = \"green\", breaks = 30, freq=FALSE)\n",
    "hist(subset(df, device == \"Mobile Phone\")$commentLen, col = \"blue\", breaks = 30, freq=FALSE)\n",
    "\n",
    "par(mfrow = c(2, 1), mar = c(4, 4, 2, 1))\n",
    "hist(subset(df, device == \"PC\")$predictScore, col = \"green\", breaks = 30, freq=FALSE)\n",
    "hist(subset(df, device == \"Mobile Phone\")$predictScore, col = \"blue\", breaks = 30, freq=FALSE)\n",
    "\n",
    "par(mfrow = c(2, 1), mar = c(4, 4, 2, 1))\n",
    "hist(subset(df, device == \"PC\")$usefulVoteCount, col = \"green\", breaks = 100, freq=FALSE)\n",
    "hist(subset(df, device == \"Mobile Phone\")$usefulVoteCount, col = \"blue\", breaks = 100, freq=FALSE)\n",
    "\n",
    "par(mfrow = c(2, 1), mar = c(4, 4, 2, 1))\n",
    "hist(subset(df, device == \"PC\")$commentHour, col = \"green\", breaks = 24, freq=FALSE)\n",
    "hist(subset(df, device == \"Mobile Phone\")$commentHour, col = \"blue\", breaks = 24, freq=FALSE)\n",
    "\n",
    "par(mfrow = c(2, 1), mar = c(4, 4, 2, 1))\n",
    "hist(subset(df, device == \"PC\")$imageCount, col = \"green\", breaks = 10, freq=FALSE)\n",
    "hist(subset(df, device == \"Mobile Phone\")$imageCount, col = \"blue\", breaks = 10, freq=FALSE)"
   ]
  },
  {
   "cell_type": "code",
   "execution_count": 25,
   "metadata": {},
   "outputs": [
    {
     "name": "stderr",
     "output_type": "stream",
     "text": [
      "Warning message:\n",
      "\"funs() is soft deprecated as of dplyr 0.8.0\n",
      "please use list() instead\n",
      "\n",
      "# Before:\n",
      "funs(name = f(.)\n",
      "\n",
      "# After: \n",
      "list(name = ~f(.))\n",
      "\u001b[90mThis warning is displayed once per session.\u001b[39m\""
     ]
    },
    {
     "data": {
      "text/html": [
       "<table>\n",
       "<caption>A tibble: 2 × 5</caption>\n",
       "<thead>\n",
       "\t<tr><th scope=col>device</th><th scope=col>imageCount</th><th scope=col>usefulVoteCount</th><th scope=col>commentLen</th><th scope=col>predictScore</th></tr>\n",
       "\t<tr><th scope=col>&lt;fct&gt;</th><th scope=col>&lt;dbl&gt;</th><th scope=col>&lt;dbl&gt;</th><th scope=col>&lt;dbl&gt;</th><th scope=col>&lt;dbl&gt;</th></tr>\n",
       "</thead>\n",
       "<tbody>\n",
       "\t<tr><td>Mobile Phone</td><td>0.7115605</td><td>0.1316163</td><td>25.77082</td><td>0.8893339</td></tr>\n",
       "\t<tr><td>PC          </td><td>0.2820513</td><td>0.2992648</td><td>32.49955</td><td>0.8651195</td></tr>\n",
       "</tbody>\n",
       "</table>\n"
      ],
      "text/latex": [
       "A tibble: 2 × 5\n",
       "\\begin{tabular}{r|lllll}\n",
       " device & imageCount & usefulVoteCount & commentLen & predictScore\\\\\n",
       " <fct> & <dbl> & <dbl> & <dbl> & <dbl>\\\\\n",
       "\\hline\n",
       "\t Mobile Phone & 0.7115605 & 0.1316163 & 25.77082 & 0.8893339\\\\\n",
       "\t PC           & 0.2820513 & 0.2992648 & 32.49955 & 0.8651195\\\\\n",
       "\\end{tabular}\n"
      ],
      "text/markdown": [
       "\n",
       "A tibble: 2 × 5\n",
       "\n",
       "| device &lt;fct&gt; | imageCount &lt;dbl&gt; | usefulVoteCount &lt;dbl&gt; | commentLen &lt;dbl&gt; | predictScore &lt;dbl&gt; |\n",
       "|---|---|---|---|---|\n",
       "| Mobile Phone | 0.7115605 | 0.1316163 | 25.77082 | 0.8893339 |\n",
       "| PC           | 0.2820513 | 0.2992648 | 32.49955 | 0.8651195 |\n",
       "\n"
      ],
      "text/plain": [
       "  device       imageCount usefulVoteCount commentLen predictScore\n",
       "1 Mobile Phone 0.7115605  0.1316163       25.77082   0.8893339   \n",
       "2 PC           0.2820513  0.2992648       32.49955   0.8651195   "
      ]
     },
     "metadata": {},
     "output_type": "display_data"
    },
    {
     "data": {
      "text/plain": [
       "\n",
       "\tWelch Two Sample t-test\n",
       "\n",
       "data:  imageCount by device\n",
       "t = 31.604, df = 6611.8, p-value < 2.2e-16\n",
       "alternative hypothesis: true difference in means is not equal to 0\n",
       "95 percent confidence interval:\n",
       " 0.4028681 0.4561503\n",
       "sample estimates:\n",
       "mean in group Mobile Phone           mean in group PC \n",
       "                 0.7115605                  0.2820513 \n"
      ]
     },
     "metadata": {},
     "output_type": "display_data"
    },
    {
     "data": {
      "text/plain": [
       "\n",
       "\tWelch Two Sample t-test\n",
       "\n",
       "data:  usefulVoteCount by device\n",
       "t = -2.2801, df = 5638, p-value = 0.02264\n",
       "alternative hypothesis: true difference in means is not equal to 0\n",
       "95 percent confidence interval:\n",
       " -0.31178668 -0.02351046\n",
       "sample estimates:\n",
       "mean in group Mobile Phone           mean in group PC \n",
       "                 0.1316163                  0.2992648 \n"
      ]
     },
     "metadata": {},
     "output_type": "display_data"
    },
    {
     "data": {
      "text/plain": [
       "\n",
       "\tWelch Two Sample t-test\n",
       "\n",
       "data:  commentLen by device\n",
       "t = -11.25, df = 5796, p-value < 2.2e-16\n",
       "alternative hypothesis: true difference in means is not equal to 0\n",
       "95 percent confidence interval:\n",
       " -7.901256 -5.556203\n",
       "sample estimates:\n",
       "mean in group Mobile Phone           mean in group PC \n",
       "                  25.77082                   32.49955 \n"
      ]
     },
     "metadata": {},
     "output_type": "display_data"
    },
    {
     "data": {
      "text/plain": [
       "\n",
       "\tWelch Two Sample t-test\n",
       "\n",
       "data:  predictScore by device\n",
       "t = 6.2553, df = 6052.3, p-value = 4.238e-10\n",
       "alternative hypothesis: true difference in means is not equal to 0\n",
       "95 percent confidence interval:\n",
       " 0.01662585 0.03180297\n",
       "sample estimates:\n",
       "mean in group Mobile Phone           mean in group PC \n",
       "                 0.8893339                  0.8651195 \n"
      ]
     },
     "metadata": {},
     "output_type": "display_data"
    }
   ],
   "source": [
    "#propensity score matching\n",
    "df_cov <- c('imageCount', 'usefulVoteCount', 'commentLen', 'predictScore','device')\n",
    "df %>%\n",
    "  group_by(device) %>%\n",
    "  select(one_of(df_cov)) %>%\n",
    "  summarise_all(funs(mean(., na.rm = T)))\n",
    "\n",
    "#t-test\n",
    "with(df, t.test(imageCount ~ device))\n",
    "with(df, t.test(usefulVoteCount ~ device))\n",
    "with(df, t.test(commentLen ~ device))\n",
    "with(df, t.test(predictScore ~ device))"
   ]
  },
  {
   "cell_type": "code",
   "execution_count": 26,
   "metadata": {},
   "outputs": [
    {
     "name": "stdout",
     "output_type": "stream",
     "text": [
      " Factor w/ 2 levels \"0\",\"1\": 1 1 1 1 1 1 1 1 1 1 ...\n"
     ]
    }
   ],
   "source": [
    "df$treat <- recode(df$device, \"PC\"=\"1\", \"Mobile Phone\" = \"0\")\n",
    "str(df$treat)"
   ]
  },
  {
   "cell_type": "code",
   "execution_count": 27,
   "metadata": {},
   "outputs": [
    {
     "name": "stdout",
     "output_type": "stream",
     "text": [
      "package 'MatchIt' successfully unpacked and MD5 sums checked\n",
      "\n",
      "The downloaded binary packages are in\n",
      "\tC:\\Users\\hanwen\\AppData\\Local\\Temp\\RtmpS6W7T8\\downloaded_packages\n"
     ]
    }
   ],
   "source": [
    "install.packages(\"MatchIt\")"
   ]
  },
  {
   "cell_type": "code",
   "execution_count": 28,
   "metadata": {},
   "outputs": [
    {
     "name": "stderr",
     "output_type": "stream",
     "text": [
      "Warning message:\n",
      "\"package 'MatchIt' was built under R version 3.5.3\""
     ]
    }
   ],
   "source": [
    "library(MatchIt)\n",
    "df3 <- na.omit(df)\n",
    "# pcm.out = matchit(treat ~ usefulVoteCount + imageCount + membershipLevel + commentLen, data = df3, method = \"nearest\",ratio = 1)\n",
    "# summary(pcm.out)\n",
    "# plot(pcm.out, type = \"jitter\")\n",
    "# plot(pcm.out, type = \"hist\")"
   ]
  },
  {
   "cell_type": "code",
   "execution_count": 29,
   "metadata": {},
   "outputs": [],
   "source": [
    "# pcm.data <- match.data(pcm.out)\n",
    "# write.csv(pcm.data, file =\"D:/JD crawler/propensity score matching/pcm_output.csv\", fileEncoding = 'utf-8-sig')"
   ]
  },
  {
   "cell_type": "code",
   "execution_count": 31,
   "metadata": {},
   "outputs": [
    {
     "name": "stdout",
     "output_type": "stream",
     "text": [
      "package 'Matching' successfully unpacked and MD5 sums checked\n",
      "\n",
      "The downloaded binary packages are in\n",
      "\tC:\\Users\\hanwen\\AppData\\Local\\Temp\\RtmpS6W7T8\\downloaded_packages\n"
     ]
    },
    {
     "name": "stderr",
     "output_type": "stream",
     "text": [
      "Warning message:\n",
      "\"package 'Matching' was built under R version 3.5.3\"Loading required package: MASS\n",
      "\n",
      "Attaching package: 'MASS'\n",
      "\n",
      "The following object is masked from 'package:dplyr':\n",
      "\n",
      "    select\n",
      "\n",
      "## \n",
      "##  Matching (Version 4.9-6, Build Date: 2019-04-07)\n",
      "##  See http://sekhon.berkeley.edu/matching for additional documentation.\n",
      "##  Please cite software as:\n",
      "##   Jasjeet S. Sekhon. 2011. ``Multivariate and Propensity Score Matching\n",
      "##   Software with Automated Balance Optimization: The Matching package for R.''\n",
      "##   Journal of Statistical Software, 42(7): 1-52. \n",
      "##\n",
      "\n"
     ]
    },
    {
     "name": "stdout",
     "output_type": "stream",
     "text": [
      "package 'rbounds' successfully unpacked and MD5 sums checked\n",
      "\n",
      "The downloaded binary packages are in\n",
      "\tC:\\Users\\hanwen\\AppData\\Local\\Temp\\RtmpS6W7T8\\downloaded_packages\n"
     ]
    },
    {
     "name": "stderr",
     "output_type": "stream",
     "text": [
      "Warning message:\n",
      "\"package 'rbounds' was built under R version 3.5.3\""
     ]
    }
   ],
   "source": [
    "install.packages(\"Matching\")\n",
    "library(Matching)\n",
    "install.packages(\"rbounds\")\n",
    "library(\"rbounds\")"
   ]
  },
  {
   "cell_type": "code",
   "execution_count": null,
   "metadata": {},
   "outputs": [],
   "source": [
    "attach(df)\n",
    "# Defining variables (Tr is treatment, Y is outcome, X are independent variables)\n",
    "Tr <- cbind(treat)\n",
    "Y <- cbind(predictScore)\n",
    "X <- cbind(usefulVoteCount,imageCount,membershipLevel,commentLen)\n",
    "# Outcome for difference-in-differences model\n",
    "# Y <- cbind(REDIFF)\n",
    "# Descriptive statistics\n",
    "summary (Tr)\n",
    "summary(Y)\n",
    "summary(X)\n",
    "# Propensity score model\n",
    "glm1 <- glm(Tr ~ X, family=binomial(link = \"probit\"), data=df3)\n",
    "summary(glm1)\n",
    "# Average treatment on the treated effect\n",
    "rr1 <- Match(Y = Y, Tr = Tr, X = glm1$fitted)\n",
    "summary(rr1)\n",
    "rr2 <- Match(Y = Y, Tr = Tr, X = glm1$fitted, estimand = \"ATT\", M = 1, ties = TRUE,\n",
    "replace = TRUE)\n",
    "# rr3 <- Match(Y = Y, Tr = Tr, X = glm1$fitted, estimand = \"ATE\", M = 1, ties = TRUE,\n",
    "replace = TRUE)"
   ]
  }
 ],
 "metadata": {
  "kernelspec": {
   "display_name": "R",
   "language": "R",
   "name": "ir"
  },
  "language_info": {
   "codemirror_mode": "r",
   "file_extension": ".r",
   "mimetype": "text/x-r-source",
   "name": "R",
   "pygments_lexer": "r",
   "version": "3.5.1"
  }
 },
 "nbformat": 4,
 "nbformat_minor": 2
}
