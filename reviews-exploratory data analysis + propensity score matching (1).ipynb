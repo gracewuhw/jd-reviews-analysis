{
 "cells": [
  {
   "cell_type": "code",
   "execution_count": 23,
   "metadata": {},
   "outputs": [
    {
     "name": "stderr",
     "output_type": "stream",
     "text": [
      "Parsed with column specification:\n",
      "cols(\n",
      "  userId = col_character(),\n",
      "  userName = col_character(),\n",
      "  membershipLevel = col_character(),\n",
      "  commentContent = col_character(),\n",
      "  commentTime = col_character(),\n",
      "  days = col_integer(),\n",
      "  score = col_integer(),\n",
      "  source = col_character(),\n",
      "  productName = col_character(),\n",
      "  referenceId = col_double(),\n",
      "  productUrl = col_character(),\n",
      "  imageCount = col_integer(),\n",
      "  containVideo = col_logical(),\n",
      "  usefulVoteCount = col_integer(),\n",
      "  device = col_character(),\n",
      "  sentiScore = col_double(),\n",
      "  predictFlag = col_integer(),\n",
      "  actualFlag = col_integer(),\n",
      "  productCate = col_character()\n",
      ")\n"
     ]
    },
    {
     "data": {
      "text/html": [
       "<table>\n",
       "<caption>A tibble: 6 × 12</caption>\n",
       "<thead>\n",
       "\t<tr><th scope=col>membershipLevel</th><th scope=col>commentContent</th><th scope=col>commentTime</th><th scope=col>source</th><th scope=col>productName</th><th scope=col>imageCount</th><th scope=col>containVideo</th><th scope=col>usefulVoteCount</th><th scope=col>device</th><th scope=col>sentiScore</th><th scope=col>actualFlag</th><th scope=col>productCate</th></tr>\n",
       "\t<tr><th scope=col>&lt;chr&gt;</th><th scope=col>&lt;chr&gt;</th><th scope=col>&lt;chr&gt;</th><th scope=col>&lt;chr&gt;</th><th scope=col>&lt;chr&gt;</th><th scope=col>&lt;int&gt;</th><th scope=col>&lt;lgl&gt;</th><th scope=col>&lt;int&gt;</th><th scope=col>&lt;chr&gt;</th><th scope=col>&lt;dbl&gt;</th><th scope=col>&lt;int&gt;</th><th scope=col>&lt;chr&gt;</th></tr>\n",
       "</thead>\n",
       "<tbody>\n",
       "\t<tr><td>Plus    </td><td>这下够穿了，真的挺实惠的，颜色也很喜欢，看看能穿住了吧  </td><td>2019/5/8 8:45  </td><td>Android</td><td>俞兆林10双袜子男短袜秋季65%纯棉船袜夏季隐形浅口潮袜运动篮球棉袜男 10双装Beer男短袜 均码                   </td><td>3</td><td>FALSE</td><td>0</td><td>Mobile Phone</td><td>0.9971100</td><td> 1</td><td>Clothes          </td></tr>\n",
       "\t<tr><td>4-Gold  </td><td>老品牌值得信赖好用，物流相当快，好评，下次还买。        </td><td>2019/6/13 17:50</td><td>Android</td><td>维达(Vinda) 抽纸 超韧3层130抽软抽*24包纸巾(小规格) 整箱销售（新旧产品随机发货）                           </td><td>0</td><td> TRUE</td><td>0</td><td>Mobile Phone</td><td>1.0000000</td><td> 1</td><td>Daily necessities</td></tr>\n",
       "\t<tr><td>Plus    </td><td>一直在用  还会继续回购  什么时候有赠品                  </td><td>2019/9/1 7:11  </td><td>Android</td><td>云南白药 牙膏 180g （留兰香型）新老包装随机发货                                                           </td><td>0</td><td>FALSE</td><td>0</td><td>Mobile Phone</td><td>0.9945464</td><td> 1</td><td>Daily necessities</td></tr>\n",
       "\t<tr><td>Plus    </td><td>快用完了 但效果不知道怎么样 因为是室外游泳              </td><td>2019/6/19 13:17</td><td>iPhone </td><td>曼秀雷敦新碧进口双重保湿防晒露防晒霜乳男女 SPF50+ 80g 长效持久 隔离紫外线 耐水耐汗小金帽 学生党           </td><td>0</td><td> TRUE</td><td>0</td><td>Mobile Phone</td><td>0.8612527</td><td> 1</td><td>Cosmetics        </td></tr>\n",
       "\t<tr><td>3-Silver</td><td>第一次用，气泡就把小零件吹起来了！                      </td><td>2019/9/24 20:20</td><td>Android</td><td>南极人（NANJIREN）全自动足浴盆电动高深桶加热洗脚盆 自助按摩脚泡脚机器足疗盆 （秒杀活动）十组合式自助数码屏</td><td>1</td><td>FALSE</td><td>0</td><td>Mobile Phone</td><td>0.6981536</td><td>-1</td><td>Home Appliance   </td></tr>\n",
       "\t<tr><td><span style=white-space:pre-wrap>Plus    </span></td><td>质量非常好的椰子粉，大品牌，味道很不错。下回再来继续购买</td><td>2019/8/16 2:46 </td><td>iPhone </td><td><span style=white-space:pre-wrap>海南特产 南国 营养早餐速溶饮料 咖啡伴侣 纯椰子粉320g/袋                                                   </span></td><td>0</td><td>FALSE</td><td>1</td><td>Mobile Phone</td><td>0.9999970</td><td> 1</td><td><span style=white-space:pre-wrap>Food &amp; Drinks    </span></td></tr>\n",
       "</tbody>\n",
       "</table>\n"
      ],
      "text/latex": [
       "A tibble: 6 × 12\n",
       "\\begin{tabular}{r|llllllllllll}\n",
       " membershipLevel & commentContent & commentTime & source & productName & imageCount & containVideo & usefulVoteCount & device & sentiScore & actualFlag & productCate\\\\\n",
       " <chr> & <chr> & <chr> & <chr> & <chr> & <int> & <lgl> & <int> & <chr> & <dbl> & <int> & <chr>\\\\\n",
       "\\hline\n",
       "\t Plus     & 这下够穿了，真的挺实惠的，颜色也很喜欢，看看能穿住了吧   & 2019/5/8 8:45   & Android & 俞兆林10双袜子男短袜秋季65\\%纯棉船袜夏季隐形浅口潮袜运动篮球棉袜男 10双装Beer男短袜 均码                    & 3 & FALSE & 0 & Mobile Phone & 0.9971100 &  1 & Clothes          \\\\\n",
       "\t 4-Gold   & 老品牌值得信赖好用，物流相当快，好评，下次还买。         & 2019/6/13 17:50 & Android & 维达(Vinda) 抽纸 超韧3层130抽软抽*24包纸巾(小规格) 整箱销售（新旧产品随机发货）                            & 0 &  TRUE & 0 & Mobile Phone & 1.0000000 &  1 & Daily necessities\\\\\n",
       "\t Plus     & 一直在用  还会继续回购  什么时候有赠品                   & 2019/9/1 7:11   & Android & 云南白药 牙膏 180g （留兰香型）新老包装随机发货                                                            & 0 & FALSE & 0 & Mobile Phone & 0.9945464 &  1 & Daily necessities\\\\\n",
       "\t Plus     & 快用完了 但效果不知道怎么样 因为是室外游泳               & 2019/6/19 13:17 & iPhone  & 曼秀雷敦新碧进口双重保湿防晒露防晒霜乳男女 SPF50+ 80g 长效持久 隔离紫外线 耐水耐汗小金帽 学生党            & 0 &  TRUE & 0 & Mobile Phone & 0.8612527 &  1 & Cosmetics        \\\\\n",
       "\t 3-Silver & 第一次用，气泡就把小零件吹起来了！                       & 2019/9/24 20:20 & Android & 南极人（NANJIREN）全自动足浴盆电动高深桶加热洗脚盆 自助按摩脚泡脚机器足疗盆 （秒杀活动）十组合式自助数码屏 & 1 & FALSE & 0 & Mobile Phone & 0.6981536 & -1 & Home Appliance   \\\\\n",
       "\t Plus     & 质量非常好的椰子粉，大品牌，味道很不错。下回再来继续购买 & 2019/8/16 2:46  & iPhone  & 海南特产 南国 营养早餐速溶饮料 咖啡伴侣 纯椰子粉320g/袋                                                    & 0 & FALSE & 1 & Mobile Phone & 0.9999970 &  1 & Food \\& Drinks    \\\\\n",
       "\\end{tabular}\n"
      ],
      "text/markdown": [
       "\n",
       "A tibble: 6 × 12\n",
       "\n",
       "| membershipLevel &lt;chr&gt; | commentContent &lt;chr&gt; | commentTime &lt;chr&gt; | source &lt;chr&gt; | productName &lt;chr&gt; | imageCount &lt;int&gt; | containVideo &lt;lgl&gt; | usefulVoteCount &lt;int&gt; | device &lt;chr&gt; | sentiScore &lt;dbl&gt; | actualFlag &lt;int&gt; | productCate &lt;chr&gt; |\n",
       "|---|---|---|---|---|---|---|---|---|---|---|---|\n",
       "| Plus     | 这下够穿了，真的挺实惠的，颜色也很喜欢，看看能穿住了吧   | 2019/5/8 8:45   | Android | 俞兆林10双袜子男短袜秋季65%纯棉船袜夏季隐形浅口潮袜运动篮球棉袜男 10双装Beer男短袜 均码                    | 3 | FALSE | 0 | Mobile Phone | 0.9971100 |  1 | Clothes           |\n",
       "| 4-Gold   | 老品牌值得信赖好用，物流相当快，好评，下次还买。         | 2019/6/13 17:50 | Android | 维达(Vinda) 抽纸 超韧3层130抽软抽*24包纸巾(小规格) 整箱销售（新旧产品随机发货）                            | 0 |  TRUE | 0 | Mobile Phone | 1.0000000 |  1 | Daily necessities |\n",
       "| Plus     | 一直在用  还会继续回购  什么时候有赠品                   | 2019/9/1 7:11   | Android | 云南白药 牙膏 180g （留兰香型）新老包装随机发货                                                            | 0 | FALSE | 0 | Mobile Phone | 0.9945464 |  1 | Daily necessities |\n",
       "| Plus     | 快用完了 但效果不知道怎么样 因为是室外游泳               | 2019/6/19 13:17 | iPhone  | 曼秀雷敦新碧进口双重保湿防晒露防晒霜乳男女 SPF50+ 80g 长效持久 隔离紫外线 耐水耐汗小金帽 学生党            | 0 |  TRUE | 0 | Mobile Phone | 0.8612527 |  1 | Cosmetics         |\n",
       "| 3-Silver | 第一次用，气泡就把小零件吹起来了！                       | 2019/9/24 20:20 | Android | 南极人（NANJIREN）全自动足浴盆电动高深桶加热洗脚盆 自助按摩脚泡脚机器足疗盆 （秒杀活动）十组合式自助数码屏 | 1 | FALSE | 0 | Mobile Phone | 0.6981536 | -1 | Home Appliance    |\n",
       "| Plus     | 质量非常好的椰子粉，大品牌，味道很不错。下回再来继续购买 | 2019/8/16 2:46  | iPhone  | 海南特产 南国 营养早餐速溶饮料 咖啡伴侣 纯椰子粉320g/袋                                                    | 0 | FALSE | 1 | Mobile Phone | 0.9999970 |  1 | Food &amp; Drinks     |\n",
       "\n"
      ],
      "text/plain": [
       "  membershipLevel commentContent                                          \n",
       "1 Plus            这下够穿了，真的挺实惠的，颜色也很喜欢，看看能穿住了吧  \n",
       "2 4-Gold          老品牌值得信赖好用，物流相当快，好评，下次还买。        \n",
       "3 Plus            一直在用  还会继续回购  什么时候有赠品                  \n",
       "4 Plus            快用完了 但效果不知道怎么样 因为是室外游泳              \n",
       "5 3-Silver        第一次用，气泡就把小零件吹起来了！                      \n",
       "6 Plus            质量非常好的椰子粉，大品牌，味道很不错。下回再来继续购买\n",
       "  commentTime     source \n",
       "1 2019/5/8 8:45   Android\n",
       "2 2019/6/13 17:50 Android\n",
       "3 2019/9/1 7:11   Android\n",
       "4 2019/6/19 13:17 iPhone \n",
       "5 2019/9/24 20:20 Android\n",
       "6 2019/8/16 2:46  iPhone \n",
       "  productName                                                                                               \n",
       "1 俞兆林10双袜子男短袜秋季65%纯棉船袜夏季隐形浅口潮袜运动篮球棉袜男 10双装Beer男短袜 均码                   \n",
       "2 维达(Vinda) 抽纸 超韧3层130抽软抽*24包纸巾(小规格) 整箱销售（新旧产品随机发货）                           \n",
       "3 云南白药 牙膏 180g （留兰香型）新老包装随机发货                                                           \n",
       "4 曼秀雷敦新碧进口双重保湿防晒露防晒霜乳男女 SPF50+ 80g 长效持久 隔离紫外线 耐水耐汗小金帽 学生党           \n",
       "5 南极人（NANJIREN）全自动足浴盆电动高深桶加热洗脚盆 自助按摩脚泡脚机器足疗盆 （秒杀活动）十组合式自助数码屏\n",
       "6 海南特产 南国 营养早餐速溶饮料 咖啡伴侣 纯椰子粉320g/袋                                                   \n",
       "  imageCount containVideo usefulVoteCount device       sentiScore actualFlag\n",
       "1 3          FALSE        0               Mobile Phone 0.9971100   1        \n",
       "2 0           TRUE        0               Mobile Phone 1.0000000   1        \n",
       "3 0          FALSE        0               Mobile Phone 0.9945464   1        \n",
       "4 0           TRUE        0               Mobile Phone 0.8612527   1        \n",
       "5 1          FALSE        0               Mobile Phone 0.6981536  -1        \n",
       "6 0          FALSE        1               Mobile Phone 0.9999970   1        \n",
       "  productCate      \n",
       "1 Clothes          \n",
       "2 Daily necessities\n",
       "3 Daily necessities\n",
       "4 Cosmetics        \n",
       "5 Home Appliance   \n",
       "6 Food & Drinks    "
      ]
     },
     "metadata": {},
     "output_type": "display_data"
    }
   ],
   "source": [
    "library(readr)\n",
    "df <- read_csv(\"D://JD crawler//jd_reviews_senti_final.csv\")\n",
    "drops <- c(\"userName\",\"userId\",\"days\",\"score\",\"referenceId\",\"productUrl\",\"predictFlag\")\n",
    "df <- df[ , !(names(df) %in% drops)]\n",
    "head(df)"
   ]
  },
  {
   "cell_type": "code",
   "execution_count": 24,
   "metadata": {},
   "outputs": [
    {
     "name": "stdout",
     "output_type": "stream",
     "text": [
      "Classes 'tbl_df', 'tbl' and 'data.frame':\t114872 obs. of  12 variables:\n",
      " $ membershipLevel: chr  \"Plus\" \"4-Gold\" \"Plus\" \"Plus\" ...\n",
      " $ commentContent : chr  \"这下够穿了，真的挺实惠的，颜色也很喜欢，看看能穿住了吧\" \"老品牌值得信赖好用，物流相当快，好评，下次还买。\" \"一直在用  还会继续回购  什么时候有赠品\" \"快用完了 但效果不知道怎么样 因为是室外游泳\" ...\n",
      " $ commentTime    : chr  \"2019/5/8 8:45\" \"2019/6/13 17:50\" \"2019/9/1 7:11\" \"2019/6/19 13:17\" ...\n",
      " $ source         : chr  \"Android\" \"Android\" \"Android\" \"iPhone\" ...\n",
      " $ productName    : chr  \"俞兆林10双袜子男短袜秋季65%纯棉船袜夏季隐形浅口潮袜运动篮球棉袜男 10双装Beer男短袜 均码\" \"维达(Vinda) 抽纸 超韧3层130抽软抽*24包纸巾(小规格) 整箱销售（新旧产品随机发货）\" \"云南白药 牙膏 180g （留兰香型）新老包装随机发货\" \"曼秀雷敦新碧进口双重保湿防晒露防晒霜乳男女 SPF50+ 80g 长效持久 隔离紫外线 耐水耐汗小金帽 学生党\" ...\n",
      " $ imageCount     : int  3 0 0 0 1 0 0 0 0 0 ...\n",
      " $ containVideo   : logi  FALSE TRUE FALSE TRUE FALSE FALSE ...\n",
      " $ usefulVoteCount: int  0 0 0 0 0 1 0 0 0 0 ...\n",
      " $ device         : chr  \"Mobile Phone\" \"Mobile Phone\" \"Mobile Phone\" \"Mobile Phone\" ...\n",
      " $ sentiScore     : num  0.997 1 0.995 0.861 0.698 ...\n",
      " $ actualFlag     : int  1 1 1 1 -1 1 1 1 1 1 ...\n",
      " $ productCate    : chr  \"Clothes\" \"Daily necessities\" \"Daily necessities\" \"Cosmetics\" ...\n",
      " - attr(*, \"spec\")=List of 2\n",
      "  ..$ cols   :List of 19\n",
      "  .. ..$ userId         : list()\n",
      "  .. .. ..- attr(*, \"class\")= chr  \"collector_character\" \"collector\"\n",
      "  .. ..$ userName       : list()\n",
      "  .. .. ..- attr(*, \"class\")= chr  \"collector_character\" \"collector\"\n",
      "  .. ..$ membershipLevel: list()\n",
      "  .. .. ..- attr(*, \"class\")= chr  \"collector_character\" \"collector\"\n",
      "  .. ..$ commentContent : list()\n",
      "  .. .. ..- attr(*, \"class\")= chr  \"collector_character\" \"collector\"\n",
      "  .. ..$ commentTime    : list()\n",
      "  .. .. ..- attr(*, \"class\")= chr  \"collector_character\" \"collector\"\n",
      "  .. ..$ days           : list()\n",
      "  .. .. ..- attr(*, \"class\")= chr  \"collector_integer\" \"collector\"\n",
      "  .. ..$ score          : list()\n",
      "  .. .. ..- attr(*, \"class\")= chr  \"collector_integer\" \"collector\"\n",
      "  .. ..$ source         : list()\n",
      "  .. .. ..- attr(*, \"class\")= chr  \"collector_character\" \"collector\"\n",
      "  .. ..$ productName    : list()\n",
      "  .. .. ..- attr(*, \"class\")= chr  \"collector_character\" \"collector\"\n",
      "  .. ..$ referenceId    : list()\n",
      "  .. .. ..- attr(*, \"class\")= chr  \"collector_double\" \"collector\"\n",
      "  .. ..$ productUrl     : list()\n",
      "  .. .. ..- attr(*, \"class\")= chr  \"collector_character\" \"collector\"\n",
      "  .. ..$ imageCount     : list()\n",
      "  .. .. ..- attr(*, \"class\")= chr  \"collector_integer\" \"collector\"\n",
      "  .. ..$ containVideo   : list()\n",
      "  .. .. ..- attr(*, \"class\")= chr  \"collector_logical\" \"collector\"\n",
      "  .. ..$ usefulVoteCount: list()\n",
      "  .. .. ..- attr(*, \"class\")= chr  \"collector_integer\" \"collector\"\n",
      "  .. ..$ device         : list()\n",
      "  .. .. ..- attr(*, \"class\")= chr  \"collector_character\" \"collector\"\n",
      "  .. ..$ sentiScore     : list()\n",
      "  .. .. ..- attr(*, \"class\")= chr  \"collector_double\" \"collector\"\n",
      "  .. ..$ predictFlag    : list()\n",
      "  .. .. ..- attr(*, \"class\")= chr  \"collector_integer\" \"collector\"\n",
      "  .. ..$ actualFlag     : list()\n",
      "  .. .. ..- attr(*, \"class\")= chr  \"collector_integer\" \"collector\"\n",
      "  .. ..$ productCate    : list()\n",
      "  .. .. ..- attr(*, \"class\")= chr  \"collector_character\" \"collector\"\n",
      "  ..$ default: list()\n",
      "  .. ..- attr(*, \"class\")= chr  \"collector_guess\" \"collector\"\n",
      "  ..- attr(*, \"class\")= chr \"col_spec\"\n"
     ]
    }
   ],
   "source": [
    "str(df)"
   ]
  },
  {
   "cell_type": "code",
   "execution_count": 3,
   "metadata": {},
   "outputs": [
    {
     "data": {
      "text/html": [
       "<dl class=dl-horizontal>\n",
       "\t<dt>membershipLevel</dt>\n",
       "\t\t<dd>0</dd>\n",
       "\t<dt>commentContent</dt>\n",
       "\t\t<dd>0</dd>\n",
       "\t<dt>commentTime</dt>\n",
       "\t\t<dd>577</dd>\n",
       "\t<dt>source</dt>\n",
       "\t\t<dd>0</dd>\n",
       "\t<dt>productName</dt>\n",
       "\t\t<dd>0</dd>\n",
       "\t<dt>imageCount</dt>\n",
       "\t\t<dd>0</dd>\n",
       "\t<dt>containVideo</dt>\n",
       "\t\t<dd>0</dd>\n",
       "\t<dt>usefulVoteCount</dt>\n",
       "\t\t<dd>0</dd>\n",
       "\t<dt>device</dt>\n",
       "\t\t<dd>0</dd>\n",
       "\t<dt>sentiScore</dt>\n",
       "\t\t<dd>0</dd>\n",
       "\t<dt>actualFlag</dt>\n",
       "\t\t<dd>0</dd>\n",
       "\t<dt>productCate</dt>\n",
       "\t\t<dd>0</dd>\n",
       "</dl>\n"
      ],
      "text/latex": [
       "\\begin{description*}\n",
       "\\item[membershipLevel] 0\n",
       "\\item[commentContent] 0\n",
       "\\item[commentTime] 577\n",
       "\\item[source] 0\n",
       "\\item[productName] 0\n",
       "\\item[imageCount] 0\n",
       "\\item[containVideo] 0\n",
       "\\item[usefulVoteCount] 0\n",
       "\\item[device] 0\n",
       "\\item[sentiScore] 0\n",
       "\\item[actualFlag] 0\n",
       "\\item[productCate] 0\n",
       "\\end{description*}\n"
      ],
      "text/markdown": [
       "membershipLevel\n",
       ":   0commentContent\n",
       ":   0commentTime\n",
       ":   577source\n",
       ":   0productName\n",
       ":   0imageCount\n",
       ":   0containVideo\n",
       ":   0usefulVoteCount\n",
       ":   0device\n",
       ":   0sentiScore\n",
       ":   0actualFlag\n",
       ":   0productCate\n",
       ":   0\n",
       "\n"
      ],
      "text/plain": [
       "membershipLevel  commentContent     commentTime          source     productName \n",
       "              0               0             577               0               0 \n",
       "     imageCount    containVideo usefulVoteCount          device      sentiScore \n",
       "              0               0               0               0               0 \n",
       "     actualFlag     productCate \n",
       "              0               0 "
      ]
     },
     "metadata": {},
     "output_type": "display_data"
    }
   ],
   "source": [
    "# check if there are any missing values\n",
    "sapply(df, function(x) sum(is.na(x)))"
   ]
  },
  {
   "cell_type": "code",
   "execution_count": 25,
   "metadata": {},
   "outputs": [
    {
     "data": {
      "text/plain": [
       "\n",
       "Mobile Phone           PC \n",
       "      109295         5577 "
      ]
     },
     "metadata": {},
     "output_type": "display_data"
    },
    {
     "data": {
      "text/plain": [
       "\n",
       "        Android            iPad          iPhone              PC     QQ shopping \n",
       "          68150              24           38938            5577              67 \n",
       "Wechat shopping \n",
       "           2116 "
      ]
     },
     "metadata": {},
     "output_type": "display_data"
    },
    {
     "data": {
      "text/plain": [
       "   Min. 1st Qu.  Median    Mean 3rd Qu.    Max. \n",
       " 0.0000  0.9566  0.9990  0.8882  1.0000  1.0000 "
      ]
     },
     "metadata": {},
     "output_type": "display_data"
    },
    {
     "data": {
      "text/plain": [
       "\n",
       "   1-Normal    2-Bronze    3-Silver      4-Gold   5-Diamond  Enterprise \n",
       "       9494        8835       13136       12768       11139         429 \n",
       "       Plus Plus(trial) \n",
       "      58391         680 "
      ]
     },
     "metadata": {},
     "output_type": "display_data"
    },
    {
     "data": {
      "text/plain": [
       "\n",
       "           Accessories            Books & CDs                Clothes \n",
       "                  5881                   3917                   6795 \n",
       "             Cosmetics      Daily necessities        Digital Product \n",
       "                  6065                   8170                  15434 \n",
       "         Food & Drinks Furniture / Furnishing         Home Appliance \n",
       "                 13927                  13675                  10639 \n",
       "   Industrial supplies       Maternity & Baby       Medical supplies \n",
       "                  3630                   4734                   4969 \n",
       "                Others       Outdoor & Sports \n",
       "                  9426                   7610 "
      ]
     },
     "metadata": {},
     "output_type": "display_data"
    }
   ],
   "source": [
    "table(df$device)\n",
    "table(df$source)\n",
    "summary(df$sentiScore)\n",
    "table(df$membershipLevel)\n",
    "table(df$productCate)"
   ]
  },
  {
   "cell_type": "code",
   "execution_count": 26,
   "metadata": {},
   "outputs": [
    {
     "name": "stdout",
     "output_type": "stream",
     "text": [
      "Classes 'tbl_df', 'tbl' and 'data.frame':\t114872 obs. of  13 variables:\n",
      " $ membershipLevel: Factor w/ 8 levels \"1-Normal\",\"2-Bronze\",..: 7 4 7 7 3 7 7 5 2 7 ...\n",
      " $ commentContent : chr  \"这下够穿了，真的挺实惠的，颜色也很喜欢，看看能穿住了吧\" \"老品牌值得信赖好用，物流相当快，好评，下次还买。\" \"一直在用  还会继续回购  什么时候有赠品\" \"快用完了 但效果不知道怎么样 因为是室外游泳\" ...\n",
      " $ commentTime    : POSIXct, format: \"2019-05-08 08:45:00\" \"2019-06-13 17:50:00\" ...\n",
      " $ source         : Factor w/ 6 levels \"Android\",\"iPad\",..: 1 1 1 3 1 3 3 1 6 3 ...\n",
      " $ productName    : chr  \"俞兆林10双袜子男短袜秋季65%纯棉船袜夏季隐形浅口潮袜运动篮球棉袜男 10双装Beer男短袜 均码\" \"维达(Vinda) 抽纸 超韧3层130抽软抽*24包纸巾(小规格) 整箱销售（新旧产品随机发货）\" \"云南白药 牙膏 180g （留兰香型）新老包装随机发货\" \"曼秀雷敦新碧进口双重保湿防晒露防晒霜乳男女 SPF50+ 80g 长效持久 隔离紫外线 耐水耐汗小金帽 学生党\" ...\n",
      " $ imageCount     : int  3 0 0 0 1 0 0 0 0 0 ...\n",
      " $ containVideo   : logi  FALSE TRUE FALSE TRUE FALSE FALSE ...\n",
      " $ usefulVoteCount: int  0 0 0 0 0 1 0 0 0 0 ...\n",
      " $ device         : Factor w/ 2 levels \"Mobile Phone\",..: 1 1 1 1 1 1 1 1 1 1 ...\n",
      " $ sentiScore     : num  0.997 1 0.995 0.861 0.698 ...\n",
      " $ actualFlag     : int  1 1 1 1 -1 1 1 1 1 1 ...\n",
      " $ productCate    : Factor w/ 14 levels \"Accessories\",..: 3 5 5 4 9 7 2 5 8 8 ...\n",
      " $ commentHour    : int  8 17 7 13 20 2 23 10 23 17 ...\n",
      " - attr(*, \"spec\")=List of 2\n",
      "  ..$ cols   :List of 19\n",
      "  .. ..$ userId         : list()\n",
      "  .. .. ..- attr(*, \"class\")= chr  \"collector_character\" \"collector\"\n",
      "  .. ..$ userName       : list()\n",
      "  .. .. ..- attr(*, \"class\")= chr  \"collector_character\" \"collector\"\n",
      "  .. ..$ membershipLevel: list()\n",
      "  .. .. ..- attr(*, \"class\")= chr  \"collector_character\" \"collector\"\n",
      "  .. ..$ commentContent : list()\n",
      "  .. .. ..- attr(*, \"class\")= chr  \"collector_character\" \"collector\"\n",
      "  .. ..$ commentTime    : list()\n",
      "  .. .. ..- attr(*, \"class\")= chr  \"collector_character\" \"collector\"\n",
      "  .. ..$ days           : list()\n",
      "  .. .. ..- attr(*, \"class\")= chr  \"collector_integer\" \"collector\"\n",
      "  .. ..$ score          : list()\n",
      "  .. .. ..- attr(*, \"class\")= chr  \"collector_integer\" \"collector\"\n",
      "  .. ..$ source         : list()\n",
      "  .. .. ..- attr(*, \"class\")= chr  \"collector_character\" \"collector\"\n",
      "  .. ..$ productName    : list()\n",
      "  .. .. ..- attr(*, \"class\")= chr  \"collector_character\" \"collector\"\n",
      "  .. ..$ referenceId    : list()\n",
      "  .. .. ..- attr(*, \"class\")= chr  \"collector_double\" \"collector\"\n",
      "  .. ..$ productUrl     : list()\n",
      "  .. .. ..- attr(*, \"class\")= chr  \"collector_character\" \"collector\"\n",
      "  .. ..$ imageCount     : list()\n",
      "  .. .. ..- attr(*, \"class\")= chr  \"collector_integer\" \"collector\"\n",
      "  .. ..$ containVideo   : list()\n",
      "  .. .. ..- attr(*, \"class\")= chr  \"collector_logical\" \"collector\"\n",
      "  .. ..$ usefulVoteCount: list()\n",
      "  .. .. ..- attr(*, \"class\")= chr  \"collector_integer\" \"collector\"\n",
      "  .. ..$ device         : list()\n",
      "  .. .. ..- attr(*, \"class\")= chr  \"collector_character\" \"collector\"\n",
      "  .. ..$ sentiScore     : list()\n",
      "  .. .. ..- attr(*, \"class\")= chr  \"collector_double\" \"collector\"\n",
      "  .. ..$ predictFlag    : list()\n",
      "  .. .. ..- attr(*, \"class\")= chr  \"collector_integer\" \"collector\"\n",
      "  .. ..$ actualFlag     : list()\n",
      "  .. .. ..- attr(*, \"class\")= chr  \"collector_integer\" \"collector\"\n",
      "  .. ..$ productCate    : list()\n",
      "  .. .. ..- attr(*, \"class\")= chr  \"collector_character\" \"collector\"\n",
      "  ..$ default: list()\n",
      "  .. ..- attr(*, \"class\")= chr  \"collector_guess\" \"collector\"\n",
      "  ..- attr(*, \"class\")= chr \"col_spec\"\n"
     ]
    }
   ],
   "source": [
    "# format data\n",
    "df$membershipLevel <- as.factor(df$membershipLevel)\n",
    "df$device <- as.factor(df$device)\n",
    "# df$score <- as.factor(df$score)\n",
    "df$source <- as.factor(df$source)\n",
    "# df$predictFlag <- as.factor(df$predictFlag)\n",
    "# df$actualFlag <- as.factor(df$actualFlag)\n",
    "df$commentTime <- as.POSIXct(df$commentTime,format=\"%Y/%m/%d %H:%M\")\n",
    "df[,\"commentHour\"] <- as.POSIXlt(df$commentTime)$hour\n",
    "df$productCate <- as.factor(df$productCate)\n",
    "str(df)"
   ]
  },
  {
   "cell_type": "code",
   "execution_count": 27,
   "metadata": {},
   "outputs": [
    {
     "data": {
      "text/html": [
       "<table>\n",
       "<caption>A tibble: 2 × 3</caption>\n",
       "<thead>\n",
       "\t<tr><th scope=col>device</th><th scope=col>mean_sentiScore</th><th scope=col>count</th></tr>\n",
       "\t<tr><th scope=col>&lt;fct&gt;</th><th scope=col>&lt;dbl&gt;</th><th scope=col>&lt;int&gt;</th></tr>\n",
       "</thead>\n",
       "<tbody>\n",
       "\t<tr><td>Mobile Phone</td><td>0.8893337</td><td>109295</td></tr>\n",
       "\t<tr><td>PC          </td><td>0.8651192</td><td>  5577</td></tr>\n",
       "</tbody>\n",
       "</table>\n"
      ],
      "text/latex": [
       "A tibble: 2 × 3\n",
       "\\begin{tabular}{r|lll}\n",
       " device & mean\\_sentiScore & count\\\\\n",
       " <fct> & <dbl> & <int>\\\\\n",
       "\\hline\n",
       "\t Mobile Phone & 0.8893337 & 109295\\\\\n",
       "\t PC           & 0.8651192 &   5577\\\\\n",
       "\\end{tabular}\n"
      ],
      "text/markdown": [
       "\n",
       "A tibble: 2 × 3\n",
       "\n",
       "| device &lt;fct&gt; | mean_sentiScore &lt;dbl&gt; | count &lt;int&gt; |\n",
       "|---|---|---|\n",
       "| Mobile Phone | 0.8893337 | 109295 |\n",
       "| PC           | 0.8651192 |   5577 |\n",
       "\n"
      ],
      "text/plain": [
       "  device       mean_sentiScore count \n",
       "1 Mobile Phone 0.8893337       109295\n",
       "2 PC           0.8651192         5577"
      ]
     },
     "metadata": {},
     "output_type": "display_data"
    },
    {
     "data": {
      "text/html": [
       "<table>\n",
       "<caption>A tibble: 6 × 3</caption>\n",
       "<thead>\n",
       "\t<tr><th scope=col>source</th><th scope=col>mean_sentiScore</th><th scope=col>count</th></tr>\n",
       "\t<tr><th scope=col>&lt;fct&gt;</th><th scope=col>&lt;dbl&gt;</th><th scope=col>&lt;int&gt;</th></tr>\n",
       "</thead>\n",
       "<tbody>\n",
       "\t<tr><td>Android        </td><td>0.8927584</td><td>68150</td></tr>\n",
       "\t<tr><td>iPad           </td><td>0.7914724</td><td>   24</td></tr>\n",
       "\t<tr><td>iPhone         </td><td>0.8895735</td><td>38938</td></tr>\n",
       "\t<tr><td>PC             </td><td>0.8651192</td><td> 5577</td></tr>\n",
       "\t<tr><td>QQ shopping    </td><td>0.7811302</td><td>   67</td></tr>\n",
       "\t<tr><td>Wechat shopping</td><td>0.7791582</td><td> 2116</td></tr>\n",
       "</tbody>\n",
       "</table>\n"
      ],
      "text/latex": [
       "A tibble: 6 × 3\n",
       "\\begin{tabular}{r|lll}\n",
       " source & mean\\_sentiScore & count\\\\\n",
       " <fct> & <dbl> & <int>\\\\\n",
       "\\hline\n",
       "\t Android         & 0.8927584 & 68150\\\\\n",
       "\t iPad            & 0.7914724 &    24\\\\\n",
       "\t iPhone          & 0.8895735 & 38938\\\\\n",
       "\t PC              & 0.8651192 &  5577\\\\\n",
       "\t QQ shopping     & 0.7811302 &    67\\\\\n",
       "\t Wechat shopping & 0.7791582 &  2116\\\\\n",
       "\\end{tabular}\n"
      ],
      "text/markdown": [
       "\n",
       "A tibble: 6 × 3\n",
       "\n",
       "| source &lt;fct&gt; | mean_sentiScore &lt;dbl&gt; | count &lt;int&gt; |\n",
       "|---|---|---|\n",
       "| Android         | 0.8927584 | 68150 |\n",
       "| iPad            | 0.7914724 |    24 |\n",
       "| iPhone          | 0.8895735 | 38938 |\n",
       "| PC              | 0.8651192 |  5577 |\n",
       "| QQ shopping     | 0.7811302 |    67 |\n",
       "| Wechat shopping | 0.7791582 |  2116 |\n",
       "\n"
      ],
      "text/plain": [
       "  source          mean_sentiScore count\n",
       "1 Android         0.8927584       68150\n",
       "2 iPad            0.7914724          24\n",
       "3 iPhone          0.8895735       38938\n",
       "4 PC              0.8651192        5577\n",
       "5 QQ shopping     0.7811302          67\n",
       "6 Wechat shopping 0.7791582        2116"
      ]
     },
     "metadata": {},
     "output_type": "display_data"
    },
    {
     "data": {
      "text/html": [
       "<table>\n",
       "<caption>A tibble: 14 × 3</caption>\n",
       "<thead>\n",
       "\t<tr><th scope=col>productCate</th><th scope=col>mean_sentiScore</th><th scope=col>count</th></tr>\n",
       "\t<tr><th scope=col>&lt;fct&gt;</th><th scope=col>&lt;dbl&gt;</th><th scope=col>&lt;int&gt;</th></tr>\n",
       "</thead>\n",
       "<tbody>\n",
       "\t<tr><td>Accessories           </td><td>0.8980643</td><td> 5881</td></tr>\n",
       "\t<tr><td><span style=white-space:pre-wrap>Books &amp; CDs           </span></td><td>0.7792069</td><td> 3917</td></tr>\n",
       "\t<tr><td>Clothes               </td><td>0.9291672</td><td> 6795</td></tr>\n",
       "\t<tr><td>Cosmetics             </td><td>0.9344713</td><td> 6065</td></tr>\n",
       "\t<tr><td>Daily necessities     </td><td>0.9211970</td><td> 8170</td></tr>\n",
       "\t<tr><td>Digital Product       </td><td>0.8443382</td><td>15434</td></tr>\n",
       "\t<tr><td><span style=white-space:pre-wrap>Food &amp; Drinks         </span></td><td>0.9224178</td><td>13927</td></tr>\n",
       "\t<tr><td>Furniture / Furnishing</td><td>0.8607350</td><td>13675</td></tr>\n",
       "\t<tr><td>Home Appliance        </td><td>0.8878582</td><td>10639</td></tr>\n",
       "\t<tr><td>Industrial supplies   </td><td>0.9054842</td><td> 3630</td></tr>\n",
       "\t<tr><td><span style=white-space:pre-wrap>Maternity &amp; Baby      </span></td><td>0.9152090</td><td> 4734</td></tr>\n",
       "\t<tr><td>Medical supplies      </td><td>0.9043085</td><td> 4969</td></tr>\n",
       "\t<tr><td>Others                </td><td>0.8723489</td><td> 9426</td></tr>\n",
       "\t<tr><td><span style=white-space:pre-wrap>Outdoor &amp; Sports      </span></td><td>0.8873996</td><td> 7610</td></tr>\n",
       "</tbody>\n",
       "</table>\n"
      ],
      "text/latex": [
       "A tibble: 14 × 3\n",
       "\\begin{tabular}{r|lll}\n",
       " productCate & mean\\_sentiScore & count\\\\\n",
       " <fct> & <dbl> & <int>\\\\\n",
       "\\hline\n",
       "\t Accessories            & 0.8980643 &  5881\\\\\n",
       "\t Books \\& CDs            & 0.7792069 &  3917\\\\\n",
       "\t Clothes                & 0.9291672 &  6795\\\\\n",
       "\t Cosmetics              & 0.9344713 &  6065\\\\\n",
       "\t Daily necessities      & 0.9211970 &  8170\\\\\n",
       "\t Digital Product        & 0.8443382 & 15434\\\\\n",
       "\t Food \\& Drinks          & 0.9224178 & 13927\\\\\n",
       "\t Furniture / Furnishing & 0.8607350 & 13675\\\\\n",
       "\t Home Appliance         & 0.8878582 & 10639\\\\\n",
       "\t Industrial supplies    & 0.9054842 &  3630\\\\\n",
       "\t Maternity \\& Baby       & 0.9152090 &  4734\\\\\n",
       "\t Medical supplies       & 0.9043085 &  4969\\\\\n",
       "\t Others                 & 0.8723489 &  9426\\\\\n",
       "\t Outdoor \\& Sports       & 0.8873996 &  7610\\\\\n",
       "\\end{tabular}\n"
      ],
      "text/markdown": [
       "\n",
       "A tibble: 14 × 3\n",
       "\n",
       "| productCate &lt;fct&gt; | mean_sentiScore &lt;dbl&gt; | count &lt;int&gt; |\n",
       "|---|---|---|\n",
       "| Accessories            | 0.8980643 |  5881 |\n",
       "| Books &amp; CDs            | 0.7792069 |  3917 |\n",
       "| Clothes                | 0.9291672 |  6795 |\n",
       "| Cosmetics              | 0.9344713 |  6065 |\n",
       "| Daily necessities      | 0.9211970 |  8170 |\n",
       "| Digital Product        | 0.8443382 | 15434 |\n",
       "| Food &amp; Drinks          | 0.9224178 | 13927 |\n",
       "| Furniture / Furnishing | 0.8607350 | 13675 |\n",
       "| Home Appliance         | 0.8878582 | 10639 |\n",
       "| Industrial supplies    | 0.9054842 |  3630 |\n",
       "| Maternity &amp; Baby       | 0.9152090 |  4734 |\n",
       "| Medical supplies       | 0.9043085 |  4969 |\n",
       "| Others                 | 0.8723489 |  9426 |\n",
       "| Outdoor &amp; Sports       | 0.8873996 |  7610 |\n",
       "\n"
      ],
      "text/plain": [
       "   productCate            mean_sentiScore count\n",
       "1  Accessories            0.8980643        5881\n",
       "2  Books & CDs            0.7792069        3917\n",
       "3  Clothes                0.9291672        6795\n",
       "4  Cosmetics              0.9344713        6065\n",
       "5  Daily necessities      0.9211970        8170\n",
       "6  Digital Product        0.8443382       15434\n",
       "7  Food & Drinks          0.9224178       13927\n",
       "8  Furniture / Furnishing 0.8607350       13675\n",
       "9  Home Appliance         0.8878582       10639\n",
       "10 Industrial supplies    0.9054842        3630\n",
       "11 Maternity & Baby       0.9152090        4734\n",
       "12 Medical supplies       0.9043085        4969\n",
       "13 Others                 0.8723489        9426\n",
       "14 Outdoor & Sports       0.8873996        7610"
      ]
     },
     "metadata": {},
     "output_type": "display_data"
    },
    {
     "data": {
      "text/html": [
       "<table>\n",
       "<caption>A tibble: 5 × 3</caption>\n",
       "<thead>\n",
       "\t<tr><th scope=col>membershipLevel</th><th scope=col>mean_sentiScore</th><th scope=col>count</th></tr>\n",
       "\t<tr><th scope=col>&lt;fct&gt;</th><th scope=col>&lt;dbl&gt;</th><th scope=col>&lt;int&gt;</th></tr>\n",
       "</thead>\n",
       "<tbody>\n",
       "\t<tr><td>1-Normal </td><td>0.9084081</td><td> 9494</td></tr>\n",
       "\t<tr><td>2-Bronze </td><td>0.8543992</td><td> 8835</td></tr>\n",
       "\t<tr><td>3-Silver </td><td>0.8548751</td><td>13136</td></tr>\n",
       "\t<tr><td>4-Gold   </td><td>0.8630462</td><td>12768</td></tr>\n",
       "\t<tr><td>5-Diamond</td><td>0.8760883</td><td>11139</td></tr>\n",
       "</tbody>\n",
       "</table>\n"
      ],
      "text/latex": [
       "A tibble: 5 × 3\n",
       "\\begin{tabular}{r|lll}\n",
       " membershipLevel & mean\\_sentiScore & count\\\\\n",
       " <fct> & <dbl> & <int>\\\\\n",
       "\\hline\n",
       "\t 1-Normal  & 0.9084081 &  9494\\\\\n",
       "\t 2-Bronze  & 0.8543992 &  8835\\\\\n",
       "\t 3-Silver  & 0.8548751 & 13136\\\\\n",
       "\t 4-Gold    & 0.8630462 & 12768\\\\\n",
       "\t 5-Diamond & 0.8760883 & 11139\\\\\n",
       "\\end{tabular}\n"
      ],
      "text/markdown": [
       "\n",
       "A tibble: 5 × 3\n",
       "\n",
       "| membershipLevel &lt;fct&gt; | mean_sentiScore &lt;dbl&gt; | count &lt;int&gt; |\n",
       "|---|---|---|\n",
       "| 1-Normal  | 0.9084081 |  9494 |\n",
       "| 2-Bronze  | 0.8543992 |  8835 |\n",
       "| 3-Silver  | 0.8548751 | 13136 |\n",
       "| 4-Gold    | 0.8630462 | 12768 |\n",
       "| 5-Diamond | 0.8760883 | 11139 |\n",
       "\n"
      ],
      "text/plain": [
       "  membershipLevel mean_sentiScore count\n",
       "1 1-Normal        0.9084081        9494\n",
       "2 2-Bronze        0.8543992        8835\n",
       "3 3-Silver        0.8548751       13136\n",
       "4 4-Gold          0.8630462       12768\n",
       "5 5-Diamond       0.8760883       11139"
      ]
     },
     "metadata": {},
     "output_type": "display_data"
    },
    {
     "data": {
      "text/html": [
       "<table>\n",
       "<caption>A tibble: 1 × 2</caption>\n",
       "<thead>\n",
       "\t<tr><th scope=col>extremely_positive_percentage_total</th><th scope=col>extremely_negative_percentage_total</th></tr>\n",
       "\t<tr><th scope=col>&lt;dbl&gt;</th><th scope=col>&lt;dbl&gt;</th></tr>\n",
       "</thead>\n",
       "<tbody>\n",
       "\t<tr><td>0.06224319</td><td>0.01246605</td></tr>\n",
       "</tbody>\n",
       "</table>\n"
      ],
      "text/latex": [
       "A tibble: 1 × 2\n",
       "\\begin{tabular}{r|ll}\n",
       " extremely\\_positive\\_percentage\\_total & extremely\\_negative\\_percentage\\_total\\\\\n",
       " <dbl> & <dbl>\\\\\n",
       "\\hline\n",
       "\t 0.06224319 & 0.01246605\\\\\n",
       "\\end{tabular}\n"
      ],
      "text/markdown": [
       "\n",
       "A tibble: 1 × 2\n",
       "\n",
       "| extremely_positive_percentage_total &lt;dbl&gt; | extremely_negative_percentage_total &lt;dbl&gt; |\n",
       "|---|---|\n",
       "| 0.06224319 | 0.01246605 |\n",
       "\n"
      ],
      "text/plain": [
       "  extremely_positive_percentage_total extremely_negative_percentage_total\n",
       "1 0.06224319                          0.01246605                         "
      ]
     },
     "metadata": {},
     "output_type": "display_data"
    },
    {
     "data": {
      "text/html": [
       "<table>\n",
       "<caption>A tibble: 1 × 2</caption>\n",
       "<thead>\n",
       "\t<tr><th scope=col>positive_percentage_total</th><th scope=col>negative_percentage_total</th></tr>\n",
       "\t<tr><th scope=col>&lt;dbl&gt;</th><th scope=col>&lt;dbl&gt;</th></tr>\n",
       "</thead>\n",
       "<tbody>\n",
       "\t<tr><td>0.8900167</td><td>0.1099833</td></tr>\n",
       "</tbody>\n",
       "</table>\n"
      ],
      "text/latex": [
       "A tibble: 1 × 2\n",
       "\\begin{tabular}{r|ll}\n",
       " positive\\_percentage\\_total & negative\\_percentage\\_total\\\\\n",
       " <dbl> & <dbl>\\\\\n",
       "\\hline\n",
       "\t 0.8900167 & 0.1099833\\\\\n",
       "\\end{tabular}\n"
      ],
      "text/markdown": [
       "\n",
       "A tibble: 1 × 2\n",
       "\n",
       "| positive_percentage_total &lt;dbl&gt; | negative_percentage_total &lt;dbl&gt; |\n",
       "|---|---|\n",
       "| 0.8900167 | 0.1099833 |\n",
       "\n"
      ],
      "text/plain": [
       "  positive_percentage_total negative_percentage_total\n",
       "1 0.8900167                 0.1099833                "
      ]
     },
     "metadata": {},
     "output_type": "display_data"
    },
    {
     "data": {
      "text/html": [
       "<table>\n",
       "<caption>A tibble: 2 × 3</caption>\n",
       "<thead>\n",
       "\t<tr><th scope=col>device</th><th scope=col>extremely_positive_percentage</th><th scope=col>extremely_negative_percentage</th></tr>\n",
       "\t<tr><th scope=col>&lt;fct&gt;</th><th scope=col>&lt;dbl&gt;</th><th scope=col>&lt;dbl&gt;</th></tr>\n",
       "</thead>\n",
       "<tbody>\n",
       "\t<tr><td>Mobile Phone</td><td>0.06067066</td><td>0.01203166</td></tr>\n",
       "\t<tr><td>PC          </td><td>0.09306079</td><td>0.02097902</td></tr>\n",
       "</tbody>\n",
       "</table>\n"
      ],
      "text/latex": [
       "A tibble: 2 × 3\n",
       "\\begin{tabular}{r|lll}\n",
       " device & extremely\\_positive\\_percentage & extremely\\_negative\\_percentage\\\\\n",
       " <fct> & <dbl> & <dbl>\\\\\n",
       "\\hline\n",
       "\t Mobile Phone & 0.06067066 & 0.01203166\\\\\n",
       "\t PC           & 0.09306079 & 0.02097902\\\\\n",
       "\\end{tabular}\n"
      ],
      "text/markdown": [
       "\n",
       "A tibble: 2 × 3\n",
       "\n",
       "| device &lt;fct&gt; | extremely_positive_percentage &lt;dbl&gt; | extremely_negative_percentage &lt;dbl&gt; |\n",
       "|---|---|---|\n",
       "| Mobile Phone | 0.06067066 | 0.01203166 |\n",
       "| PC           | 0.09306079 | 0.02097902 |\n",
       "\n"
      ],
      "text/plain": [
       "  device       extremely_positive_percentage extremely_negative_percentage\n",
       "1 Mobile Phone 0.06067066                    0.01203166                   \n",
       "2 PC           0.09306079                    0.02097902                   "
      ]
     },
     "metadata": {},
     "output_type": "display_data"
    },
    {
     "data": {
      "text/html": [
       "<table>\n",
       "<caption>A tibble: 2 × 3</caption>\n",
       "<thead>\n",
       "\t<tr><th scope=col>device</th><th scope=col>positive_percentage</th><th scope=col>negative_percentage</th></tr>\n",
       "\t<tr><th scope=col>&lt;fct&gt;</th><th scope=col>&lt;dbl&gt;</th><th scope=col>&lt;dbl&gt;</th></tr>\n",
       "</thead>\n",
       "<tbody>\n",
       "\t<tr><td>Mobile Phone</td><td>0.8911753</td><td>0.1088247</td></tr>\n",
       "\t<tr><td>PC          </td><td>0.8673122</td><td>0.1326878</td></tr>\n",
       "</tbody>\n",
       "</table>\n"
      ],
      "text/latex": [
       "A tibble: 2 × 3\n",
       "\\begin{tabular}{r|lll}\n",
       " device & positive\\_percentage & negative\\_percentage\\\\\n",
       " <fct> & <dbl> & <dbl>\\\\\n",
       "\\hline\n",
       "\t Mobile Phone & 0.8911753 & 0.1088247\\\\\n",
       "\t PC           & 0.8673122 & 0.1326878\\\\\n",
       "\\end{tabular}\n"
      ],
      "text/markdown": [
       "\n",
       "A tibble: 2 × 3\n",
       "\n",
       "| device &lt;fct&gt; | positive_percentage &lt;dbl&gt; | negative_percentage &lt;dbl&gt; |\n",
       "|---|---|---|\n",
       "| Mobile Phone | 0.8911753 | 0.1088247 |\n",
       "| PC           | 0.8673122 | 0.1326878 |\n",
       "\n"
      ],
      "text/plain": [
       "  device       positive_percentage negative_percentage\n",
       "1 Mobile Phone 0.8911753           0.1088247          \n",
       "2 PC           0.8673122           0.1326878          "
      ]
     },
     "metadata": {},
     "output_type": "display_data"
    }
   ],
   "source": [
    "library(dplyr)\n",
    "# filter(df, device == 'PC') %>% summarize(PC_mean = mean(predictScore))\n",
    "mutate(df) %>%\n",
    " group_by(device) %>%\n",
    " summarize(mean_sentiScore = mean(sentiScore, na.rm = TRUE), count = n())\n",
    "mutate(df) %>%\n",
    " group_by(source) %>%\n",
    " summarize(mean_sentiScore = mean(sentiScore, na.rm = TRUE), count = n())\n",
    "mutate(df) %>%\n",
    " group_by(productCate) %>%\n",
    " summarize(mean_sentiScore = mean(sentiScore, na.rm = TRUE), count = n())\n",
    "\n",
    "target <- c('1-Normal','2-Bronze','3-Silver','4-Gold','5-Diamond')\n",
    "memberdf <- filter(df, membershipLevel %in% target)\n",
    "mutate(memberdf) %>%\n",
    " group_by(membershipLevel) %>%\n",
    " summarize(mean_sentiScore = mean(sentiScore, na.rm = TRUE), count = n())\n",
    "\n",
    "mutate(df) %>%\n",
    " summarise(extremely_positive_percentage_total = sum(sentiScore == 1)/n(), extremely_negative_percentage_total = sum(sentiScore == 0)/n())\n",
    "\n",
    "mutate(df) %>%\n",
    " summarise(positive_percentage_total = sum(sentiScore >= 0.6)/n(), negative_percentage_total = sum(sentiScore < 0.6)/n())\n",
    "\n",
    "mutate(df) %>%\n",
    " group_by(device) %>%\n",
    " summarise(extremely_positive_percentage = sum(sentiScore == 1)/n(), extremely_negative_percentage = sum(sentiScore == 0)/n())\n",
    "\n",
    "mutate(df) %>%\n",
    " group_by(device) %>%\n",
    " summarise(positive_percentage = sum(sentiScore >= 0.6)/n(), negative_percentage = sum(sentiScore < 0.6)/n())\n"
   ]
  },
  {
   "cell_type": "code",
   "execution_count": 11,
   "metadata": {},
   "outputs": [
    {
     "data": {
      "text/plain": [
       "   Min. 1st Qu.  Median    Mean 3rd Qu.    Max. \n",
       " 0.0000  0.9566  0.9990  0.8882  1.0000  1.0000 "
      ]
     },
     "metadata": {},
     "output_type": "display_data"
    },
    {
     "data": {
      "image/png": "[encoded data removed]",
      "text/plain": [
       "Plot with title \"Histogram of sentiScore\""
      ]
     },
     "metadata": {},
     "output_type": "display_data"
    }
   ],
   "source": [
    "attach(df) \n",
    "summary(sentiScore)\n",
    "# hist(predictScore, xlab = \"Credit Month\", ylab = \"Frequency\", main = \" \", cex=0.4)\n",
    "hist(sentiScore, col = \"blue\", breaks = 50)\n",
    "abline(v=0.6)\n",
    "# boxplot(predictScore, bty=\"n\",xlab = \"sentiment score\", cex=0.4)\n",
    "# hist(days, col = \"green\", breaks = 50)\n"
   ]
  },
  {
   "cell_type": "code",
   "execution_count": 9,
   "metadata": {},
   "outputs": [],
   "source": [
    "# boxplot(days, horizontal = TRUE, axes = FALSE, staplewex = 1)\n",
    "# text(x = boxplot.stats(days)$stats, labels = boxplot.stats(days)$stats, y = 1.25)\n",
    "# summary(days)"
   ]
  },
  {
   "cell_type": "code",
   "execution_count": 10,
   "metadata": {},
   "outputs": [],
   "source": [
    "# df$cmTimeBins <- cut(df$days, breaks=c(-10,0,3,7,14,30,141), labels=c(\"minus 0 \",\"3 days\",\"one week\",\"two weeks\",\"one month\",\"one month later\"))"
   ]
  },
  {
   "cell_type": "code",
   "execution_count": 11,
   "metadata": {},
   "outputs": [],
   "source": [
    "# mutate(df) %>%\n",
    "#  group_by(cmTimeBins) %>%\n",
    "#  summarize(sentiScore = mean(predictScore, na.rm = TRUE), count = n())"
   ]
  },
  {
   "cell_type": "code",
   "execution_count": 32,
   "metadata": {},
   "outputs": [
    {
     "data": {
      "image/png": "[encoded data removed]",
      "text/plain": [
       "plot without title"
      ]
     },
     "metadata": {},
     "output_type": "display_data"
    },
    {
     "data": {
      "image/png": "[encoded data removed]",
      "text/plain": [
       "plot without title"
      ]
     },
     "metadata": {},
     "output_type": "display_data"
    },
    {
     "data": {
      "image/png": "[encoded data removed]",
      "text/plain": [
       "plot without title"
      ]
     },
     "metadata": {},
     "output_type": "display_data"
    }
   ],
   "source": [
    "table(device) %>% barplot(col = \"wheat\")\n",
    "table(productCate) %>% barplot(col = \"blue\", las=2, cex.names=0.5)\n",
    "boxplot(sentiScore ~device, data = df, col = \"red\", horizontal = TRUE)\n",
    "abline(v=0.6)"
   ]
  },
  {
   "cell_type": "code",
   "execution_count": 33,
   "metadata": {},
   "outputs": [
    {
     "data": {
      "text/html": [
       "<table>\n",
       "<caption>A tibble: 6 × 3</caption>\n",
       "<thead>\n",
       "\t<tr><th scope=col>commentHour</th><th scope=col>MB_PC</th><th scope=col>PC_MB</th></tr>\n",
       "\t<tr><th scope=col>&lt;fct&gt;</th><th scope=col>&lt;dbl&gt;</th><th scope=col>&lt;dbl&gt;</th></tr>\n",
       "</thead>\n",
       "<tbody>\n",
       "\t<tr><td>0</td><td> 30.42029</td><td>0.03287280</td></tr>\n",
       "\t<tr><td>1</td><td> 25.78788</td><td>0.03877791</td></tr>\n",
       "\t<tr><td>2</td><td> 23.43750</td><td>0.04266667</td></tr>\n",
       "\t<tr><td>3</td><td> 27.00000</td><td>0.03703704</td></tr>\n",
       "\t<tr><td>4</td><td>125.00000</td><td>0.00800000</td></tr>\n",
       "\t<tr><td>5</td><td> 44.80000</td><td>0.02232143</td></tr>\n",
       "</tbody>\n",
       "</table>\n"
      ],
      "text/latex": [
       "A tibble: 6 × 3\n",
       "\\begin{tabular}{r|lll}\n",
       " commentHour & MB\\_PC & PC\\_MB\\\\\n",
       " <fct> & <dbl> & <dbl>\\\\\n",
       "\\hline\n",
       "\t 0 &  30.42029 & 0.03287280\\\\\n",
       "\t 1 &  25.78788 & 0.03877791\\\\\n",
       "\t 2 &  23.43750 & 0.04266667\\\\\n",
       "\t 3 &  27.00000 & 0.03703704\\\\\n",
       "\t 4 & 125.00000 & 0.00800000\\\\\n",
       "\t 5 &  44.80000 & 0.02232143\\\\\n",
       "\\end{tabular}\n"
      ],
      "text/markdown": [
       "\n",
       "A tibble: 6 × 3\n",
       "\n",
       "| commentHour &lt;fct&gt; | MB_PC &lt;dbl&gt; | PC_MB &lt;dbl&gt; |\n",
       "|---|---|---|\n",
       "| 0 |  30.42029 | 0.03287280 |\n",
       "| 1 |  25.78788 | 0.03877791 |\n",
       "| 2 |  23.43750 | 0.04266667 |\n",
       "| 3 |  27.00000 | 0.03703704 |\n",
       "| 4 | 125.00000 | 0.00800000 |\n",
       "| 5 |  44.80000 | 0.02232143 |\n",
       "\n"
      ],
      "text/plain": [
       "  commentHour MB_PC     PC_MB     \n",
       "1 0            30.42029 0.03287280\n",
       "2 1            25.78788 0.03877791\n",
       "3 2            23.43750 0.04266667\n",
       "4 3            27.00000 0.03703704\n",
       "5 4           125.00000 0.00800000\n",
       "6 5            44.80000 0.02232143"
      ]
     },
     "metadata": {},
     "output_type": "display_data"
    }
   ],
   "source": [
    "# PCdf <- filter(df, device == 'PC')\n",
    "# MBdf <- filter(df, device == 'Mobile Phone')\n",
    "df$commentHour <- as.factor(df$commentHour)\n",
    "df2 <- na.omit(df)\n",
    "df2 <- mutate(df2) %>%\n",
    " group_by(commentHour) %>%\n",
    " summarise(MB_PC = sum(device == \"Mobile Phone\")/sum(device == \"PC\"), PC_MB= sum(device == \"PC\")/sum(device == \"Mobile Phone\"))\n",
    "head(df2)"
   ]
  },
  {
   "cell_type": "code",
   "execution_count": 34,
   "metadata": {},
   "outputs": [
    {
     "data": {
      "image/png": "[encoded data removed]",
      "text/plain": [
       "plot without title"
      ]
     },
     "metadata": {},
     "output_type": "display_data"
    },
    {
     "data": {
      "image/png": "[encoded data removed]",
      "text/plain": [
       "plot without title"
      ]
     },
     "metadata": {},
     "output_type": "display_data"
    }
   ],
   "source": [
    "library(ggplot2)\n",
    "barplot(df2$MB_PC, xlab='comment Hour', ylab = \"count(Mobile phone reviews)/count(PC reviews)\", names.arg = df2$commentHour)\n",
    "barplot(df2$PC_MB, xlab='comment Hour', ylab = \"count(PC reviews)/count(Mobile phone reviews)\", names.arg = df2$commentHour)\n",
    "# table(df2$cyl, mtcars$gear, dnn=c(\"Cylinders\", \"Gears\"))\n",
    "# barplot(df2, ylab=\"Frequency\", xlab=\"Gears\", main=\"Side-By-Side Bar Chart\", col=c(\"PC_prec\", \"MB_prec\" ), beside=TRUE, width=.3)"
   ]
  },
  {
   "cell_type": "code",
   "execution_count": 35,
   "metadata": {},
   "outputs": [
    {
     "data": {
      "image/png": "[encoded data removed]",
      "text/plain": [
       "plot without title"
      ]
     },
     "metadata": {},
     "output_type": "display_data"
    }
   ],
   "source": [
    "ggplot(df, aes(df$commentHour, ..count..)) + geom_bar(aes(fill = device), position = \"dodge\") "
   ]
  },
  {
   "cell_type": "code",
   "execution_count": 36,
   "metadata": {},
   "outputs": [],
   "source": [
    "library(stringi)\n",
    "library(stringr)\n",
    "wordCount <- function(x) {  \n",
    "    word <- gsub(\"\\r?\\n|\\r\", \" \", x)\n",
    "    word <- stri_stats_latex(word)[1]\n",
    "    wordCount <- as.numeric(str_extract_all(word, \"[0-9]+\"))\n",
    "    return(wordCount)\n",
    "}\n",
    "df$commentLen <- sapply(df$commentContent, wordCount)"
   ]
  },
  {
   "cell_type": "code",
   "execution_count": 37,
   "metadata": {},
   "outputs": [
    {
     "data": {
      "text/html": [
       "<table>\n",
       "<caption>A tibble: 6 × 14</caption>\n",
       "<thead>\n",
       "\t<tr><th scope=col>membershipLevel</th><th scope=col>commentContent</th><th scope=col>commentTime</th><th scope=col>source</th><th scope=col>productName</th><th scope=col>imageCount</th><th scope=col>containVideo</th><th scope=col>usefulVoteCount</th><th scope=col>device</th><th scope=col>sentiScore</th><th scope=col>actualFlag</th><th scope=col>productCate</th><th scope=col>commentHour</th><th scope=col>commentLen</th></tr>\n",
       "\t<tr><th scope=col>&lt;fct&gt;</th><th scope=col>&lt;chr&gt;</th><th scope=col>&lt;dttm&gt;</th><th scope=col>&lt;fct&gt;</th><th scope=col>&lt;chr&gt;</th><th scope=col>&lt;int&gt;</th><th scope=col>&lt;lgl&gt;</th><th scope=col>&lt;int&gt;</th><th scope=col>&lt;fct&gt;</th><th scope=col>&lt;dbl&gt;</th><th scope=col>&lt;int&gt;</th><th scope=col>&lt;fct&gt;</th><th scope=col>&lt;fct&gt;</th><th scope=col>&lt;dbl&gt;</th></tr>\n",
       "</thead>\n",
       "<tbody>\n",
       "\t<tr><td><span style=white-space:pre-wrap>Plus    </span></td><td><span style=white-space:pre-wrap>活着  可口可乐具体土豪贴脸                                                        </span></td><td>2019-08-11 11:14:00</td><td>iPhone </td><td><span style=white-space:pre-wrap>余华作品：活着                                                                                      </span></td><td>1</td><td>FALSE</td><td>0</td><td>Mobile Phone</td><td>0.9326953</td><td>1</td><td><span style=white-space:pre-wrap>Books &amp; CDs     </span></td><td>11</td><td>12</td></tr>\n",
       "\t<tr><td>3-Silver</td><td>容量很大，携带方便，小巧玲珑，很好用。                                            </td><td>2019-09-20 08:57:00</td><td>Android</td><td>壹号公路 20000毫安 镜面大容量充电宝 数显移动电源 双USB输出 适用于苹果/安卓/小米/华为通用            </td><td>0</td><td>FALSE</td><td>0</td><td>Mobile Phone</td><td>0.9999991</td><td>1</td><td>Digital Product </td><td>8 </td><td>15</td></tr>\n",
       "\t<tr><td>4-Gold  </td><td>垫子还可以，大小颜色都喜欢，唯一不足的放下去与车地板会移动，垫子背面没有防滑倒刺。</td><td>2019-08-30 10:59:00</td><td>iPhone </td><td>车丽友 全包围丝圈汽车脚垫 大众新途观L科鲁泽荣威i5I6宝来雷凌缤智XRV英朗福睿斯科沃兹缤越哈弗M6F7H4定制</td><td>0</td><td>FALSE</td><td>0</td><td>Mobile Phone</td><td>0.9878570</td><td>1</td><td>Others          </td><td>10</td><td>37</td></tr>\n",
       "\t<tr><td>4-Gold  </td><td>这个延时的已经买好多次了，比普通的确实能延时好久，对象很喜欢呢。你们说该怎么办？  </td><td>2019-04-24 07:05:00</td><td>Android</td><td>杜蕾斯 避孕套 安全套 持久12只 延时持久型 套套 男用 成人用品 原装进口 Durex                          </td><td>0</td><td>FALSE</td><td>0</td><td>Mobile Phone</td><td>0.9993948</td><td>1</td><td>Medical supplies</td><td>7 </td><td>36</td></tr>\n",
       "\t<tr><td>2-Bronze</td><td>一般吧，就那样，一分钱一分货                                                      </td><td>2019-06-16 13:47:00</td><td>iPhone </td><td>梵地亚（Vantiiear）万向轮拉杆箱耐磨抗摔24英寸旅行箱男女行李箱 蓝色                                  </td><td>0</td><td>FALSE</td><td>0</td><td>Mobile Phone</td><td>0.6783716</td><td>1</td><td>Others          </td><td>13</td><td>12</td></tr>\n",
       "\t<tr><td><span style=white-space:pre-wrap>Plus    </span></td><td><span style=white-space:pre-wrap>准确度很好，速度快&amp;hellip;                                                        </span></td><td>2019-07-31 14:19:00</td><td>Android</td><td><span style=white-space:pre-wrap>米特尔（MITIR）探针式厨房食品温度计油温计婴儿奶温计水温计电子温度计 TP600 （白色）                  </span></td><td>1</td><td>FALSE</td><td>0</td><td>Mobile Phone</td><td>0.9999242</td><td>1</td><td>Medical supplies</td><td>14</td><td>14</td></tr>\n",
       "</tbody>\n",
       "</table>\n"
      ],
      "text/latex": [
       "A tibble: 6 × 14\n",
       "\\begin{tabular}{r|llllllllllllll}\n",
       " membershipLevel & commentContent & commentTime & source & productName & imageCount & containVideo & usefulVoteCount & device & sentiScore & actualFlag & productCate & commentHour & commentLen\\\\\n",
       " <fct> & <chr> & <dttm> & <fct> & <chr> & <int> & <lgl> & <int> & <fct> & <dbl> & <int> & <fct> & <fct> & <dbl>\\\\\n",
       "\\hline\n",
       "\t Plus     & 活着  可口可乐具体土豪贴脸                                                         & 2019-08-11 11:14:00 & iPhone  & 余华作品：活着                                                                                       & 1 & FALSE & 0 & Mobile Phone & 0.9326953 & 1 & Books \\& CDs      & 11 & 12\\\\\n",
       "\t 3-Silver & 容量很大，携带方便，小巧玲珑，很好用。                                             & 2019-09-20 08:57:00 & Android & 壹号公路 20000毫安 镜面大容量充电宝 数显移动电源 双USB输出 适用于苹果/安卓/小米/华为通用             & 0 & FALSE & 0 & Mobile Phone & 0.9999991 & 1 & Digital Product  & 8  & 15\\\\\n",
       "\t 4-Gold   & 垫子还可以，大小颜色都喜欢，唯一不足的放下去与车地板会移动，垫子背面没有防滑倒刺。 & 2019-08-30 10:59:00 & iPhone  & 车丽友 全包围丝圈汽车脚垫 大众新途观L科鲁泽荣威i5I6宝来雷凌缤智XRV英朗福睿斯科沃兹缤越哈弗M6F7H4定制 & 0 & FALSE & 0 & Mobile Phone & 0.9878570 & 1 & Others           & 10 & 37\\\\\n",
       "\t 4-Gold   & 这个延时的已经买好多次了，比普通的确实能延时好久，对象很喜欢呢。你们说该怎么办？   & 2019-04-24 07:05:00 & Android & 杜蕾斯 避孕套 安全套 持久12只 延时持久型 套套 男用 成人用品 原装进口 Durex                           & 0 & FALSE & 0 & Mobile Phone & 0.9993948 & 1 & Medical supplies & 7  & 36\\\\\n",
       "\t 2-Bronze & 一般吧，就那样，一分钱一分货                                                       & 2019-06-16 13:47:00 & iPhone  & 梵地亚（Vantiiear）万向轮拉杆箱耐磨抗摔24英寸旅行箱男女行李箱 蓝色                                   & 0 & FALSE & 0 & Mobile Phone & 0.6783716 & 1 & Others           & 13 & 12\\\\\n",
       "\t Plus     & 准确度很好，速度快\\&hellip;                                                         & 2019-07-31 14:19:00 & Android & 米特尔（MITIR）探针式厨房食品温度计油温计婴儿奶温计水温计电子温度计 TP600 （白色）                   & 1 & FALSE & 0 & Mobile Phone & 0.9999242 & 1 & Medical supplies & 14 & 14\\\\\n",
       "\\end{tabular}\n"
      ],
      "text/markdown": [
       "\n",
       "A tibble: 6 × 14\n",
       "\n",
       "| membershipLevel &lt;fct&gt; | commentContent &lt;chr&gt; | commentTime &lt;dttm&gt; | source &lt;fct&gt; | productName &lt;chr&gt; | imageCount &lt;int&gt; | containVideo &lt;lgl&gt; | usefulVoteCount &lt;int&gt; | device &lt;fct&gt; | sentiScore &lt;dbl&gt; | actualFlag &lt;int&gt; | productCate &lt;fct&gt; | commentHour &lt;fct&gt; | commentLen &lt;dbl&gt; |\n",
       "|---|---|---|---|---|---|---|---|---|---|---|---|---|---|\n",
       "| Plus     | 活着  可口可乐具体土豪贴脸                                                         | 2019-08-11 11:14:00 | iPhone  | 余华作品：活着                                                                                       | 1 | FALSE | 0 | Mobile Phone | 0.9326953 | 1 | Books &amp; CDs      | 11 | 12 |\n",
       "| 3-Silver | 容量很大，携带方便，小巧玲珑，很好用。                                             | 2019-09-20 08:57:00 | Android | 壹号公路 20000毫安 镜面大容量充电宝 数显移动电源 双USB输出 适用于苹果/安卓/小米/华为通用             | 0 | FALSE | 0 | Mobile Phone | 0.9999991 | 1 | Digital Product  | 8  | 15 |\n",
       "| 4-Gold   | 垫子还可以，大小颜色都喜欢，唯一不足的放下去与车地板会移动，垫子背面没有防滑倒刺。 | 2019-08-30 10:59:00 | iPhone  | 车丽友 全包围丝圈汽车脚垫 大众新途观L科鲁泽荣威i5I6宝来雷凌缤智XRV英朗福睿斯科沃兹缤越哈弗M6F7H4定制 | 0 | FALSE | 0 | Mobile Phone | 0.9878570 | 1 | Others           | 10 | 37 |\n",
       "| 4-Gold   | 这个延时的已经买好多次了，比普通的确实能延时好久，对象很喜欢呢。你们说该怎么办？   | 2019-04-24 07:05:00 | Android | 杜蕾斯 避孕套 安全套 持久12只 延时持久型 套套 男用 成人用品 原装进口 Durex                           | 0 | FALSE | 0 | Mobile Phone | 0.9993948 | 1 | Medical supplies | 7  | 36 |\n",
       "| 2-Bronze | 一般吧，就那样，一分钱一分货                                                       | 2019-06-16 13:47:00 | iPhone  | 梵地亚（Vantiiear）万向轮拉杆箱耐磨抗摔24英寸旅行箱男女行李箱 蓝色                                   | 0 | FALSE | 0 | Mobile Phone | 0.6783716 | 1 | Others           | 13 | 12 |\n",
       "| Plus     | 准确度很好，速度快&amp;hellip;                                                         | 2019-07-31 14:19:00 | Android | 米特尔（MITIR）探针式厨房食品温度计油温计婴儿奶温计水温计电子温度计 TP600 （白色）                   | 1 | FALSE | 0 | Mobile Phone | 0.9999242 | 1 | Medical supplies | 14 | 14 |\n",
       "\n"
      ],
      "text/plain": [
       "  membershipLevel\n",
       "1 Plus           \n",
       "2 3-Silver       \n",
       "3 4-Gold         \n",
       "4 4-Gold         \n",
       "5 2-Bronze       \n",
       "6 Plus           \n",
       "  commentContent                                                                    \n",
       "1 活着  可口可乐具体土豪贴脸                                                        \n",
       "2 容量很大，携带方便，小巧玲珑，很好用。                                            \n",
       "3 垫子还可以，大小颜色都喜欢，唯一不足的放下去与车地板会移动，垫子背面没有防滑倒刺。\n",
       "4 这个延时的已经买好多次了，比普通的确实能延时好久，对象很喜欢呢。你们说该怎么办？  \n",
       "5 一般吧，就那样，一分钱一分货                                                      \n",
       "6 准确度很好，速度快&hellip;                                                        \n",
       "  commentTime         source \n",
       "1 2019-08-11 11:14:00 iPhone \n",
       "2 2019-09-20 08:57:00 Android\n",
       "3 2019-08-30 10:59:00 iPhone \n",
       "4 2019-04-24 07:05:00 Android\n",
       "5 2019-06-16 13:47:00 iPhone \n",
       "6 2019-07-31 14:19:00 Android\n",
       "  productName                                                                                         \n",
       "1 余华作品：活着                                                                                      \n",
       "2 壹号公路 20000毫安 镜面大容量充电宝 数显移动电源 双USB输出 适用于苹果/安卓/小米/华为通用            \n",
       "3 车丽友 全包围丝圈汽车脚垫 大众新途观L科鲁泽荣威i5I6宝来雷凌缤智XRV英朗福睿斯科沃兹缤越哈弗M6F7H4定制\n",
       "4 杜蕾斯 避孕套 安全套 持久12只 延时持久型 套套 男用 成人用品 原装进口 Durex                          \n",
       "5 梵地亚（Vantiiear）万向轮拉杆箱耐磨抗摔24英寸旅行箱男女行李箱 蓝色                                  \n",
       "6 米特尔（MITIR）探针式厨房食品温度计油温计婴儿奶温计水温计电子温度计 TP600 （白色）                  \n",
       "  imageCount containVideo usefulVoteCount device       sentiScore actualFlag\n",
       "1 1          FALSE        0               Mobile Phone 0.9326953  1         \n",
       "2 0          FALSE        0               Mobile Phone 0.9999991  1         \n",
       "3 0          FALSE        0               Mobile Phone 0.9878570  1         \n",
       "4 0          FALSE        0               Mobile Phone 0.9993948  1         \n",
       "5 0          FALSE        0               Mobile Phone 0.6783716  1         \n",
       "6 1          FALSE        0               Mobile Phone 0.9999242  1         \n",
       "  productCate      commentHour commentLen\n",
       "1 Books & CDs      11          12        \n",
       "2 Digital Product  8           15        \n",
       "3 Others           10          37        \n",
       "4 Medical supplies 7           36        \n",
       "5 Others           13          12        \n",
       "6 Medical supplies 14          14        "
      ]
     },
     "metadata": {},
     "output_type": "display_data"
    }
   ],
   "source": [
    "tail(df)\n",
    "df$commentHour <- as.integer(df$commentHour)"
   ]
  },
  {
   "cell_type": "code",
   "execution_count": 38,
   "metadata": {},
   "outputs": [
    {
     "name": "stderr",
     "output_type": "stream",
     "text": [
      "Warning message:\n",
      "\"Ignoring unknown parameters: title\"`stat_bin()` using `bins = 30`. Pick better value with `binwidth`.\n",
      "Warning message:\n",
      "\"Ignoring unknown parameters: title\"`stat_bin()` using `bins = 30`. Pick better value with `binwidth`.\n"
     ]
    },
    {
     "data": {
      "image/png": "[encoded data removed]",
      "text/plain": [
       "plot without title"
      ]
     },
     "metadata": {},
     "output_type": "display_data"
    },
    {
     "data": {
      "image/png": "[encoded data removed]",
      "text/plain": [
       "plot without title"
      ]
     },
     "metadata": {},
     "output_type": "display_data"
    }
   ],
   "source": [
    "ggplot()+geom_histogram(data=df,aes(sentiScore,..count..,fill=device),color='white', title = \"distribution of sentiment score\")\n",
    "ggplot()+geom_histogram(data=df,aes(commentLen,..count..,fill=device),color='white', title = \"distribution of comment length\")"
   ]
  },
  {
   "cell_type": "code",
   "execution_count": 40,
   "metadata": {},
   "outputs": [
    {
     "data": {
      "text/html": [
       "<table>\n",
       "<caption>A tibble: 2 × 3</caption>\n",
       "<thead>\n",
       "\t<tr><th scope=col>device</th><th scope=col>mean_commentLength</th><th scope=col>count</th></tr>\n",
       "\t<tr><th scope=col>&lt;fct&gt;</th><th scope=col>&lt;dbl&gt;</th><th scope=col>&lt;int&gt;</th></tr>\n",
       "</thead>\n",
       "<tbody>\n",
       "\t<tr><td>Mobile Phone</td><td>25.77098</td><td>109295</td></tr>\n",
       "\t<tr><td>PC          </td><td>32.49955</td><td>  5577</td></tr>\n",
       "</tbody>\n",
       "</table>\n"
      ],
      "text/latex": [
       "A tibble: 2 × 3\n",
       "\\begin{tabular}{r|lll}\n",
       " device & mean\\_commentLength & count\\\\\n",
       " <fct> & <dbl> & <int>\\\\\n",
       "\\hline\n",
       "\t Mobile Phone & 25.77098 & 109295\\\\\n",
       "\t PC           & 32.49955 &   5577\\\\\n",
       "\\end{tabular}\n"
      ],
      "text/markdown": [
       "\n",
       "A tibble: 2 × 3\n",
       "\n",
       "| device &lt;fct&gt; | mean_commentLength &lt;dbl&gt; | count &lt;int&gt; |\n",
       "|---|---|---|\n",
       "| Mobile Phone | 25.77098 | 109295 |\n",
       "| PC           | 32.49955 |   5577 |\n",
       "\n"
      ],
      "text/plain": [
       "  device       mean_commentLength count \n",
       "1 Mobile Phone 25.77098           109295\n",
       "2 PC           32.49955             5577"
      ]
     },
     "metadata": {},
     "output_type": "display_data"
    },
    {
     "data": {
      "image/png": "[encoded data removed]",
      "text/plain": [
       "plot without title"
      ]
     },
     "metadata": {},
     "output_type": "display_data"
    }
   ],
   "source": [
    "mutate(df) %>%\n",
    " group_by(device) %>%\n",
    " summarize(mean_commentLength = mean(commentLen, na.rm = TRUE), count = n())\n",
    "ggplot(df, aes(factor(device), commentLen)) + geom_boxplot() + coord_cartesian(ylim = c(0, 100))"
   ]
  },
  {
   "cell_type": "code",
   "execution_count": 21,
   "metadata": {},
   "outputs": [
    {
     "data": {
      "text/html": [
       "<table>\n",
       "<caption>A tibble: 2 × 3</caption>\n",
       "<thead>\n",
       "\t<tr><th scope=col>device</th><th scope=col>usefulVoteCount</th><th scope=col>count</th></tr>\n",
       "\t<tr><th scope=col>&lt;fct&gt;</th><th scope=col>&lt;dbl&gt;</th><th scope=col>&lt;int&gt;</th></tr>\n",
       "</thead>\n",
       "<tbody>\n",
       "\t<tr><td>Mobile Phone</td><td>0.1316163</td><td>109295</td></tr>\n",
       "\t<tr><td>PC          </td><td>0.2992648</td><td>  5577</td></tr>\n",
       "</tbody>\n",
       "</table>\n"
      ],
      "text/latex": [
       "A tibble: 2 × 3\n",
       "\\begin{tabular}{r|lll}\n",
       " device & usefulVoteCount & count\\\\\n",
       " <fct> & <dbl> & <int>\\\\\n",
       "\\hline\n",
       "\t Mobile Phone & 0.1316163 & 109295\\\\\n",
       "\t PC           & 0.2992648 &   5577\\\\\n",
       "\\end{tabular}\n"
      ],
      "text/markdown": [
       "\n",
       "A tibble: 2 × 3\n",
       "\n",
       "| device &lt;fct&gt; | usefulVoteCount &lt;dbl&gt; | count &lt;int&gt; |\n",
       "|---|---|---|\n",
       "| Mobile Phone | 0.1316163 | 109295 |\n",
       "| PC           | 0.2992648 |   5577 |\n",
       "\n"
      ],
      "text/plain": [
       "  device       usefulVoteCount count \n",
       "1 Mobile Phone 0.1316163       109295\n",
       "2 PC           0.2992648         5577"
      ]
     },
     "metadata": {},
     "output_type": "display_data"
    }
   ],
   "source": [
    "mutate(df) %>%\n",
    " group_by(device) %>%\n",
    " summarize(usefulVoteCount = mean(usefulVoteCount, na.rm = TRUE), count = n())"
   ]
  },
  {
   "cell_type": "code",
   "execution_count": 41,
   "metadata": {},
   "outputs": [
    {
     "data": {
      "text/html": [
       "<table>\n",
       "<caption>A tibble: 6 × 14</caption>\n",
       "<thead>\n",
       "\t<tr><th scope=col>membershipLevel</th><th scope=col>commentContent</th><th scope=col>commentTime</th><th scope=col>source</th><th scope=col>productName</th><th scope=col>imageCount</th><th scope=col>containVideo</th><th scope=col>usefulVoteCount</th><th scope=col>device</th><th scope=col>sentiScore</th><th scope=col>actualFlag</th><th scope=col>productCate</th><th scope=col>commentHour</th><th scope=col>commentLen</th></tr>\n",
       "\t<tr><th scope=col>&lt;fct&gt;</th><th scope=col>&lt;chr&gt;</th><th scope=col>&lt;dttm&gt;</th><th scope=col>&lt;fct&gt;</th><th scope=col>&lt;chr&gt;</th><th scope=col>&lt;int&gt;</th><th scope=col>&lt;lgl&gt;</th><th scope=col>&lt;int&gt;</th><th scope=col>&lt;fct&gt;</th><th scope=col>&lt;dbl&gt;</th><th scope=col>&lt;int&gt;</th><th scope=col>&lt;fct&gt;</th><th scope=col>&lt;int&gt;</th><th scope=col>&lt;dbl&gt;</th></tr>\n",
       "</thead>\n",
       "<tbody>\n",
       "\t<tr><td>Plus    </td><td>这下够穿了，真的挺实惠的，颜色也很喜欢，看看能穿住了吧  </td><td>2019-05-08 08:45:00</td><td>Android</td><td>俞兆林10双袜子男短袜秋季65%纯棉船袜夏季隐形浅口潮袜运动篮球棉袜男 10双装Beer男短袜 均码                   </td><td>3</td><td>FALSE</td><td>0</td><td>Mobile Phone</td><td>0.9971100</td><td> 1</td><td>Clothes          </td><td> 9</td><td>24</td></tr>\n",
       "\t<tr><td>4-Gold  </td><td>老品牌值得信赖好用，物流相当快，好评，下次还买。        </td><td>2019-06-13 17:50:00</td><td>Android</td><td>维达(Vinda) 抽纸 超韧3层130抽软抽*24包纸巾(小规格) 整箱销售（新旧产品随机发货）                           </td><td>0</td><td> TRUE</td><td>0</td><td>Mobile Phone</td><td>1.0000000</td><td> 1</td><td>Daily necessities</td><td>18</td><td>20</td></tr>\n",
       "\t<tr><td>Plus    </td><td>一直在用  还会继续回购  什么时候有赠品                  </td><td>2019-09-01 07:11:00</td><td>Android</td><td>云南白药 牙膏 180g （留兰香型）新老包装随机发货                                                           </td><td>0</td><td>FALSE</td><td>0</td><td>Mobile Phone</td><td>0.9945464</td><td> 1</td><td>Daily necessities</td><td> 8</td><td>17</td></tr>\n",
       "\t<tr><td>Plus    </td><td>快用完了 但效果不知道怎么样 因为是室外游泳              </td><td>2019-06-19 13:17:00</td><td>iPhone </td><td>曼秀雷敦新碧进口双重保湿防晒露防晒霜乳男女 SPF50+ 80g 长效持久 隔离紫外线 耐水耐汗小金帽 学生党           </td><td>0</td><td> TRUE</td><td>0</td><td>Mobile Phone</td><td>0.8612527</td><td> 1</td><td>Cosmetics        </td><td>14</td><td>20</td></tr>\n",
       "\t<tr><td>3-Silver</td><td>第一次用，气泡就把小零件吹起来了！                      </td><td>2019-09-24 20:20:00</td><td>Android</td><td>南极人（NANJIREN）全自动足浴盆电动高深桶加热洗脚盆 自助按摩脚泡脚机器足疗盆 （秒杀活动）十组合式自助数码屏</td><td>1</td><td>FALSE</td><td>0</td><td>Mobile Phone</td><td>0.6981536</td><td>-1</td><td>Home Appliance   </td><td>21</td><td>15</td></tr>\n",
       "\t<tr><td><span style=white-space:pre-wrap>Plus    </span></td><td>质量非常好的椰子粉，大品牌，味道很不错。下回再来继续购买</td><td>2019-08-16 02:46:00</td><td>iPhone </td><td><span style=white-space:pre-wrap>海南特产 南国 营养早餐速溶饮料 咖啡伴侣 纯椰子粉320g/袋                                                   </span></td><td>0</td><td>FALSE</td><td>1</td><td>Mobile Phone</td><td>0.9999970</td><td> 1</td><td><span style=white-space:pre-wrap>Food &amp; Drinks    </span></td><td> 3</td><td>25</td></tr>\n",
       "</tbody>\n",
       "</table>\n"
      ],
      "text/latex": [
       "A tibble: 6 × 14\n",
       "\\begin{tabular}{r|llllllllllllll}\n",
       " membershipLevel & commentContent & commentTime & source & productName & imageCount & containVideo & usefulVoteCount & device & sentiScore & actualFlag & productCate & commentHour & commentLen\\\\\n",
       " <fct> & <chr> & <dttm> & <fct> & <chr> & <int> & <lgl> & <int> & <fct> & <dbl> & <int> & <fct> & <int> & <dbl>\\\\\n",
       "\\hline\n",
       "\t Plus     & 这下够穿了，真的挺实惠的，颜色也很喜欢，看看能穿住了吧   & 2019-05-08 08:45:00 & Android & 俞兆林10双袜子男短袜秋季65\\%纯棉船袜夏季隐形浅口潮袜运动篮球棉袜男 10双装Beer男短袜 均码                    & 3 & FALSE & 0 & Mobile Phone & 0.9971100 &  1 & Clothes           &  9 & 24\\\\\n",
       "\t 4-Gold   & 老品牌值得信赖好用，物流相当快，好评，下次还买。         & 2019-06-13 17:50:00 & Android & 维达(Vinda) 抽纸 超韧3层130抽软抽*24包纸巾(小规格) 整箱销售（新旧产品随机发货）                            & 0 &  TRUE & 0 & Mobile Phone & 1.0000000 &  1 & Daily necessities & 18 & 20\\\\\n",
       "\t Plus     & 一直在用  还会继续回购  什么时候有赠品                   & 2019-09-01 07:11:00 & Android & 云南白药 牙膏 180g （留兰香型）新老包装随机发货                                                            & 0 & FALSE & 0 & Mobile Phone & 0.9945464 &  1 & Daily necessities &  8 & 17\\\\\n",
       "\t Plus     & 快用完了 但效果不知道怎么样 因为是室外游泳               & 2019-06-19 13:17:00 & iPhone  & 曼秀雷敦新碧进口双重保湿防晒露防晒霜乳男女 SPF50+ 80g 长效持久 隔离紫外线 耐水耐汗小金帽 学生党            & 0 &  TRUE & 0 & Mobile Phone & 0.8612527 &  1 & Cosmetics         & 14 & 20\\\\\n",
       "\t 3-Silver & 第一次用，气泡就把小零件吹起来了！                       & 2019-09-24 20:20:00 & Android & 南极人（NANJIREN）全自动足浴盆电动高深桶加热洗脚盆 自助按摩脚泡脚机器足疗盆 （秒杀活动）十组合式自助数码屏 & 1 & FALSE & 0 & Mobile Phone & 0.6981536 & -1 & Home Appliance    & 21 & 15\\\\\n",
       "\t Plus     & 质量非常好的椰子粉，大品牌，味道很不错。下回再来继续购买 & 2019-08-16 02:46:00 & iPhone  & 海南特产 南国 营养早餐速溶饮料 咖啡伴侣 纯椰子粉320g/袋                                                    & 0 & FALSE & 1 & Mobile Phone & 0.9999970 &  1 & Food \\& Drinks     &  3 & 25\\\\\n",
       "\\end{tabular}\n"
      ],
      "text/markdown": [
       "\n",
       "A tibble: 6 × 14\n",
       "\n",
       "| membershipLevel &lt;fct&gt; | commentContent &lt;chr&gt; | commentTime &lt;dttm&gt; | source &lt;fct&gt; | productName &lt;chr&gt; | imageCount &lt;int&gt; | containVideo &lt;lgl&gt; | usefulVoteCount &lt;int&gt; | device &lt;fct&gt; | sentiScore &lt;dbl&gt; | actualFlag &lt;int&gt; | productCate &lt;fct&gt; | commentHour &lt;int&gt; | commentLen &lt;dbl&gt; |\n",
       "|---|---|---|---|---|---|---|---|---|---|---|---|---|---|\n",
       "| Plus     | 这下够穿了，真的挺实惠的，颜色也很喜欢，看看能穿住了吧   | 2019-05-08 08:45:00 | Android | 俞兆林10双袜子男短袜秋季65%纯棉船袜夏季隐形浅口潮袜运动篮球棉袜男 10双装Beer男短袜 均码                    | 3 | FALSE | 0 | Mobile Phone | 0.9971100 |  1 | Clothes           |  9 | 24 |\n",
       "| 4-Gold   | 老品牌值得信赖好用，物流相当快，好评，下次还买。         | 2019-06-13 17:50:00 | Android | 维达(Vinda) 抽纸 超韧3层130抽软抽*24包纸巾(小规格) 整箱销售（新旧产品随机发货）                            | 0 |  TRUE | 0 | Mobile Phone | 1.0000000 |  1 | Daily necessities | 18 | 20 |\n",
       "| Plus     | 一直在用  还会继续回购  什么时候有赠品                   | 2019-09-01 07:11:00 | Android | 云南白药 牙膏 180g （留兰香型）新老包装随机发货                                                            | 0 | FALSE | 0 | Mobile Phone | 0.9945464 |  1 | Daily necessities |  8 | 17 |\n",
       "| Plus     | 快用完了 但效果不知道怎么样 因为是室外游泳               | 2019-06-19 13:17:00 | iPhone  | 曼秀雷敦新碧进口双重保湿防晒露防晒霜乳男女 SPF50+ 80g 长效持久 隔离紫外线 耐水耐汗小金帽 学生党            | 0 |  TRUE | 0 | Mobile Phone | 0.8612527 |  1 | Cosmetics         | 14 | 20 |\n",
       "| 3-Silver | 第一次用，气泡就把小零件吹起来了！                       | 2019-09-24 20:20:00 | Android | 南极人（NANJIREN）全自动足浴盆电动高深桶加热洗脚盆 自助按摩脚泡脚机器足疗盆 （秒杀活动）十组合式自助数码屏 | 1 | FALSE | 0 | Mobile Phone | 0.6981536 | -1 | Home Appliance    | 21 | 15 |\n",
       "| Plus     | 质量非常好的椰子粉，大品牌，味道很不错。下回再来继续购买 | 2019-08-16 02:46:00 | iPhone  | 海南特产 南国 营养早餐速溶饮料 咖啡伴侣 纯椰子粉320g/袋                                                    | 0 | FALSE | 1 | Mobile Phone | 0.9999970 |  1 | Food &amp; Drinks     |  3 | 25 |\n",
       "\n"
      ],
      "text/plain": [
       "  membershipLevel commentContent                                          \n",
       "1 Plus            这下够穿了，真的挺实惠的，颜色也很喜欢，看看能穿住了吧  \n",
       "2 4-Gold          老品牌值得信赖好用，物流相当快，好评，下次还买。        \n",
       "3 Plus            一直在用  还会继续回购  什么时候有赠品                  \n",
       "4 Plus            快用完了 但效果不知道怎么样 因为是室外游泳              \n",
       "5 3-Silver        第一次用，气泡就把小零件吹起来了！                      \n",
       "6 Plus            质量非常好的椰子粉，大品牌，味道很不错。下回再来继续购买\n",
       "  commentTime         source \n",
       "1 2019-05-08 08:45:00 Android\n",
       "2 2019-06-13 17:50:00 Android\n",
       "3 2019-09-01 07:11:00 Android\n",
       "4 2019-06-19 13:17:00 iPhone \n",
       "5 2019-09-24 20:20:00 Android\n",
       "6 2019-08-16 02:46:00 iPhone \n",
       "  productName                                                                                               \n",
       "1 俞兆林10双袜子男短袜秋季65%纯棉船袜夏季隐形浅口潮袜运动篮球棉袜男 10双装Beer男短袜 均码                   \n",
       "2 维达(Vinda) 抽纸 超韧3层130抽软抽*24包纸巾(小规格) 整箱销售（新旧产品随机发货）                           \n",
       "3 云南白药 牙膏 180g （留兰香型）新老包装随机发货                                                           \n",
       "4 曼秀雷敦新碧进口双重保湿防晒露防晒霜乳男女 SPF50+ 80g 长效持久 隔离紫外线 耐水耐汗小金帽 学生党           \n",
       "5 南极人（NANJIREN）全自动足浴盆电动高深桶加热洗脚盆 自助按摩脚泡脚机器足疗盆 （秒杀活动）十组合式自助数码屏\n",
       "6 海南特产 南国 营养早餐速溶饮料 咖啡伴侣 纯椰子粉320g/袋                                                   \n",
       "  imageCount containVideo usefulVoteCount device       sentiScore actualFlag\n",
       "1 3          FALSE        0               Mobile Phone 0.9971100   1        \n",
       "2 0           TRUE        0               Mobile Phone 1.0000000   1        \n",
       "3 0          FALSE        0               Mobile Phone 0.9945464   1        \n",
       "4 0           TRUE        0               Mobile Phone 0.8612527   1        \n",
       "5 1          FALSE        0               Mobile Phone 0.6981536  -1        \n",
       "6 0          FALSE        1               Mobile Phone 0.9999970   1        \n",
       "  productCate       commentHour commentLen\n",
       "1 Clothes            9          24        \n",
       "2 Daily necessities 18          20        \n",
       "3 Daily necessities  8          17        \n",
       "4 Cosmetics         14          20        \n",
       "5 Home Appliance    21          15        \n",
       "6 Food & Drinks      3          25        "
      ]
     },
     "metadata": {},
     "output_type": "display_data"
    }
   ],
   "source": [
    "head(df)"
   ]
  },
  {
   "cell_type": "code",
   "execution_count": 44,
   "metadata": {},
   "outputs": [
    {
     "data": {
      "image/png": "[encoded data removed]",
      "text/plain": [
       "plot without title"
      ]
     },
     "metadata": {},
     "output_type": "display_data"
    }
   ],
   "source": [
    "library(\"DataExplorer\")\n",
    "plot_correlation(df[c(6,7,8,9,10,14)], maxcat = 20L, title= 'correlation matrix')"
   ]
  },
  {
   "cell_type": "code",
   "execution_count": 45,
   "metadata": {},
   "outputs": [
    {
     "data": {
      "text/html": [
       "<table>\n",
       "<caption>A tibble: 6 × 14</caption>\n",
       "<thead>\n",
       "\t<tr><th scope=col>membershipLevel</th><th scope=col>commentContent</th><th scope=col>commentTime</th><th scope=col>source</th><th scope=col>productName</th><th scope=col>imageCount</th><th scope=col>containVideo</th><th scope=col>usefulVoteCount</th><th scope=col>device</th><th scope=col>sentiScore</th><th scope=col>actualFlag</th><th scope=col>productCate</th><th scope=col>commentHour</th><th scope=col>commentLen</th></tr>\n",
       "\t<tr><th scope=col>&lt;fct&gt;</th><th scope=col>&lt;chr&gt;</th><th scope=col>&lt;dttm&gt;</th><th scope=col>&lt;fct&gt;</th><th scope=col>&lt;chr&gt;</th><th scope=col>&lt;int&gt;</th><th scope=col>&lt;lgl&gt;</th><th scope=col>&lt;int&gt;</th><th scope=col>&lt;fct&gt;</th><th scope=col>&lt;dbl&gt;</th><th scope=col>&lt;int&gt;</th><th scope=col>&lt;fct&gt;</th><th scope=col>&lt;int&gt;</th><th scope=col>&lt;dbl&gt;</th></tr>\n",
       "</thead>\n",
       "<tbody>\n",
       "\t<tr><td>Plus    </td><td>这下够穿了，真的挺实惠的，颜色也很喜欢，看看能穿住了吧  </td><td>2019-05-08 08:45:00</td><td>Android</td><td>俞兆林10双袜子男短袜秋季65%纯棉船袜夏季隐形浅口潮袜运动篮球棉袜男 10双装Beer男短袜 均码                   </td><td>3</td><td>FALSE</td><td>0</td><td>Mobile Phone</td><td>0.9971100</td><td> 1</td><td>Clothes          </td><td> 9</td><td>24</td></tr>\n",
       "\t<tr><td>4-Gold  </td><td>老品牌值得信赖好用，物流相当快，好评，下次还买。        </td><td>2019-06-13 17:50:00</td><td>Android</td><td>维达(Vinda) 抽纸 超韧3层130抽软抽*24包纸巾(小规格) 整箱销售（新旧产品随机发货）                           </td><td>0</td><td> TRUE</td><td>0</td><td>Mobile Phone</td><td>1.0000000</td><td> 1</td><td>Daily necessities</td><td>18</td><td>20</td></tr>\n",
       "\t<tr><td>Plus    </td><td>一直在用  还会继续回购  什么时候有赠品                  </td><td>2019-09-01 07:11:00</td><td>Android</td><td>云南白药 牙膏 180g （留兰香型）新老包装随机发货                                                           </td><td>0</td><td>FALSE</td><td>0</td><td>Mobile Phone</td><td>0.9945464</td><td> 1</td><td>Daily necessities</td><td> 8</td><td>17</td></tr>\n",
       "\t<tr><td>Plus    </td><td>快用完了 但效果不知道怎么样 因为是室外游泳              </td><td>2019-06-19 13:17:00</td><td>iPhone </td><td>曼秀雷敦新碧进口双重保湿防晒露防晒霜乳男女 SPF50+ 80g 长效持久 隔离紫外线 耐水耐汗小金帽 学生党           </td><td>0</td><td> TRUE</td><td>0</td><td>Mobile Phone</td><td>0.8612527</td><td> 1</td><td>Cosmetics        </td><td>14</td><td>20</td></tr>\n",
       "\t<tr><td>3-Silver</td><td>第一次用，气泡就把小零件吹起来了！                      </td><td>2019-09-24 20:20:00</td><td>Android</td><td>南极人（NANJIREN）全自动足浴盆电动高深桶加热洗脚盆 自助按摩脚泡脚机器足疗盆 （秒杀活动）十组合式自助数码屏</td><td>1</td><td>FALSE</td><td>0</td><td>Mobile Phone</td><td>0.6981536</td><td>-1</td><td>Home Appliance   </td><td>21</td><td>15</td></tr>\n",
       "\t<tr><td><span style=white-space:pre-wrap>Plus    </span></td><td>质量非常好的椰子粉，大品牌，味道很不错。下回再来继续购买</td><td>2019-08-16 02:46:00</td><td>iPhone </td><td><span style=white-space:pre-wrap>海南特产 南国 营养早餐速溶饮料 咖啡伴侣 纯椰子粉320g/袋                                                   </span></td><td>0</td><td>FALSE</td><td>1</td><td>Mobile Phone</td><td>0.9999970</td><td> 1</td><td><span style=white-space:pre-wrap>Food &amp; Drinks    </span></td><td> 3</td><td>25</td></tr>\n",
       "</tbody>\n",
       "</table>\n"
      ],
      "text/latex": [
       "A tibble: 6 × 14\n",
       "\\begin{tabular}{r|llllllllllllll}\n",
       " membershipLevel & commentContent & commentTime & source & productName & imageCount & containVideo & usefulVoteCount & device & sentiScore & actualFlag & productCate & commentHour & commentLen\\\\\n",
       " <fct> & <chr> & <dttm> & <fct> & <chr> & <int> & <lgl> & <int> & <fct> & <dbl> & <int> & <fct> & <int> & <dbl>\\\\\n",
       "\\hline\n",
       "\t Plus     & 这下够穿了，真的挺实惠的，颜色也很喜欢，看看能穿住了吧   & 2019-05-08 08:45:00 & Android & 俞兆林10双袜子男短袜秋季65\\%纯棉船袜夏季隐形浅口潮袜运动篮球棉袜男 10双装Beer男短袜 均码                    & 3 & FALSE & 0 & Mobile Phone & 0.9971100 &  1 & Clothes           &  9 & 24\\\\\n",
       "\t 4-Gold   & 老品牌值得信赖好用，物流相当快，好评，下次还买。         & 2019-06-13 17:50:00 & Android & 维达(Vinda) 抽纸 超韧3层130抽软抽*24包纸巾(小规格) 整箱销售（新旧产品随机发货）                            & 0 &  TRUE & 0 & Mobile Phone & 1.0000000 &  1 & Daily necessities & 18 & 20\\\\\n",
       "\t Plus     & 一直在用  还会继续回购  什么时候有赠品                   & 2019-09-01 07:11:00 & Android & 云南白药 牙膏 180g （留兰香型）新老包装随机发货                                                            & 0 & FALSE & 0 & Mobile Phone & 0.9945464 &  1 & Daily necessities &  8 & 17\\\\\n",
       "\t Plus     & 快用完了 但效果不知道怎么样 因为是室外游泳               & 2019-06-19 13:17:00 & iPhone  & 曼秀雷敦新碧进口双重保湿防晒露防晒霜乳男女 SPF50+ 80g 长效持久 隔离紫外线 耐水耐汗小金帽 学生党            & 0 &  TRUE & 0 & Mobile Phone & 0.8612527 &  1 & Cosmetics         & 14 & 20\\\\\n",
       "\t 3-Silver & 第一次用，气泡就把小零件吹起来了！                       & 2019-09-24 20:20:00 & Android & 南极人（NANJIREN）全自动足浴盆电动高深桶加热洗脚盆 自助按摩脚泡脚机器足疗盆 （秒杀活动）十组合式自助数码屏 & 1 & FALSE & 0 & Mobile Phone & 0.6981536 & -1 & Home Appliance    & 21 & 15\\\\\n",
       "\t Plus     & 质量非常好的椰子粉，大品牌，味道很不错。下回再来继续购买 & 2019-08-16 02:46:00 & iPhone  & 海南特产 南国 营养早餐速溶饮料 咖啡伴侣 纯椰子粉320g/袋                                                    & 0 & FALSE & 1 & Mobile Phone & 0.9999970 &  1 & Food \\& Drinks     &  3 & 25\\\\\n",
       "\\end{tabular}\n"
      ],
      "text/markdown": [
       "\n",
       "A tibble: 6 × 14\n",
       "\n",
       "| membershipLevel &lt;fct&gt; | commentContent &lt;chr&gt; | commentTime &lt;dttm&gt; | source &lt;fct&gt; | productName &lt;chr&gt; | imageCount &lt;int&gt; | containVideo &lt;lgl&gt; | usefulVoteCount &lt;int&gt; | device &lt;fct&gt; | sentiScore &lt;dbl&gt; | actualFlag &lt;int&gt; | productCate &lt;fct&gt; | commentHour &lt;int&gt; | commentLen &lt;dbl&gt; |\n",
       "|---|---|---|---|---|---|---|---|---|---|---|---|---|---|\n",
       "| Plus     | 这下够穿了，真的挺实惠的，颜色也很喜欢，看看能穿住了吧   | 2019-05-08 08:45:00 | Android | 俞兆林10双袜子男短袜秋季65%纯棉船袜夏季隐形浅口潮袜运动篮球棉袜男 10双装Beer男短袜 均码                    | 3 | FALSE | 0 | Mobile Phone | 0.9971100 |  1 | Clothes           |  9 | 24 |\n",
       "| 4-Gold   | 老品牌值得信赖好用，物流相当快，好评，下次还买。         | 2019-06-13 17:50:00 | Android | 维达(Vinda) 抽纸 超韧3层130抽软抽*24包纸巾(小规格) 整箱销售（新旧产品随机发货）                            | 0 |  TRUE | 0 | Mobile Phone | 1.0000000 |  1 | Daily necessities | 18 | 20 |\n",
       "| Plus     | 一直在用  还会继续回购  什么时候有赠品                   | 2019-09-01 07:11:00 | Android | 云南白药 牙膏 180g （留兰香型）新老包装随机发货                                                            | 0 | FALSE | 0 | Mobile Phone | 0.9945464 |  1 | Daily necessities |  8 | 17 |\n",
       "| Plus     | 快用完了 但效果不知道怎么样 因为是室外游泳               | 2019-06-19 13:17:00 | iPhone  | 曼秀雷敦新碧进口双重保湿防晒露防晒霜乳男女 SPF50+ 80g 长效持久 隔离紫外线 耐水耐汗小金帽 学生党            | 0 |  TRUE | 0 | Mobile Phone | 0.8612527 |  1 | Cosmetics         | 14 | 20 |\n",
       "| 3-Silver | 第一次用，气泡就把小零件吹起来了！                       | 2019-09-24 20:20:00 | Android | 南极人（NANJIREN）全自动足浴盆电动高深桶加热洗脚盆 自助按摩脚泡脚机器足疗盆 （秒杀活动）十组合式自助数码屏 | 1 | FALSE | 0 | Mobile Phone | 0.6981536 | -1 | Home Appliance    | 21 | 15 |\n",
       "| Plus     | 质量非常好的椰子粉，大品牌，味道很不错。下回再来继续购买 | 2019-08-16 02:46:00 | iPhone  | 海南特产 南国 营养早餐速溶饮料 咖啡伴侣 纯椰子粉320g/袋                                                    | 0 | FALSE | 1 | Mobile Phone | 0.9999970 |  1 | Food &amp; Drinks     |  3 | 25 |\n",
       "\n"
      ],
      "text/plain": [
       "  membershipLevel commentContent                                          \n",
       "1 Plus            这下够穿了，真的挺实惠的，颜色也很喜欢，看看能穿住了吧  \n",
       "2 4-Gold          老品牌值得信赖好用，物流相当快，好评，下次还买。        \n",
       "3 Plus            一直在用  还会继续回购  什么时候有赠品                  \n",
       "4 Plus            快用完了 但效果不知道怎么样 因为是室外游泳              \n",
       "5 3-Silver        第一次用，气泡就把小零件吹起来了！                      \n",
       "6 Plus            质量非常好的椰子粉，大品牌，味道很不错。下回再来继续购买\n",
       "  commentTime         source \n",
       "1 2019-05-08 08:45:00 Android\n",
       "2 2019-06-13 17:50:00 Android\n",
       "3 2019-09-01 07:11:00 Android\n",
       "4 2019-06-19 13:17:00 iPhone \n",
       "5 2019-09-24 20:20:00 Android\n",
       "6 2019-08-16 02:46:00 iPhone \n",
       "  productName                                                                                               \n",
       "1 俞兆林10双袜子男短袜秋季65%纯棉船袜夏季隐形浅口潮袜运动篮球棉袜男 10双装Beer男短袜 均码                   \n",
       "2 维达(Vinda) 抽纸 超韧3层130抽软抽*24包纸巾(小规格) 整箱销售（新旧产品随机发货）                           \n",
       "3 云南白药 牙膏 180g （留兰香型）新老包装随机发货                                                           \n",
       "4 曼秀雷敦新碧进口双重保湿防晒露防晒霜乳男女 SPF50+ 80g 长效持久 隔离紫外线 耐水耐汗小金帽 学生党           \n",
       "5 南极人（NANJIREN）全自动足浴盆电动高深桶加热洗脚盆 自助按摩脚泡脚机器足疗盆 （秒杀活动）十组合式自助数码屏\n",
       "6 海南特产 南国 营养早餐速溶饮料 咖啡伴侣 纯椰子粉320g/袋                                                   \n",
       "  imageCount containVideo usefulVoteCount device       sentiScore actualFlag\n",
       "1 3          FALSE        0               Mobile Phone 0.9971100   1        \n",
       "2 0           TRUE        0               Mobile Phone 1.0000000   1        \n",
       "3 0          FALSE        0               Mobile Phone 0.9945464   1        \n",
       "4 0           TRUE        0               Mobile Phone 0.8612527   1        \n",
       "5 1          FALSE        0               Mobile Phone 0.6981536  -1        \n",
       "6 0          FALSE        1               Mobile Phone 0.9999970   1        \n",
       "  productCate       commentHour commentLen\n",
       "1 Clothes            9          24        \n",
       "2 Daily necessities 18          20        \n",
       "3 Daily necessities  8          17        \n",
       "4 Cosmetics         14          20        \n",
       "5 Home Appliance    21          15        \n",
       "6 Food & Drinks      3          25        "
      ]
     },
     "metadata": {},
     "output_type": "display_data"
    },
    {
     "data": {
      "text/html": [
       "<table>\n",
       "<caption>A tibble: 1 × 9</caption>\n",
       "<thead>\n",
       "\t<tr><th scope=col>rows</th><th scope=col>columns</th><th scope=col>discrete_columns</th><th scope=col>continuous_columns</th><th scope=col>all_missing_columns</th><th scope=col>total_missing_values</th><th scope=col>complete_rows</th><th scope=col>total_observations</th><th scope=col>memory_usage</th></tr>\n",
       "\t<tr><th scope=col>&lt;int&gt;</th><th scope=col>&lt;int&gt;</th><th scope=col>&lt;int&gt;</th><th scope=col>&lt;int&gt;</th><th scope=col>&lt;int&gt;</th><th scope=col>&lt;int&gt;</th><th scope=col>&lt;int&gt;</th><th scope=col>&lt;int&gt;</th><th scope=col>&lt;dbl&gt;</th></tr>\n",
       "</thead>\n",
       "<tbody>\n",
       "\t<tr><td>114872</td><td>14</td><td>8</td><td>6</td><td>0</td><td>1158</td><td>114293</td><td>1608208</td><td>25661368</td></tr>\n",
       "</tbody>\n",
       "</table>\n"
      ],
      "text/latex": [
       "A tibble: 1 × 9\n",
       "\\begin{tabular}{r|lllllllll}\n",
       " rows & columns & discrete\\_columns & continuous\\_columns & all\\_missing\\_columns & total\\_missing\\_values & complete\\_rows & total\\_observations & memory\\_usage\\\\\n",
       " <int> & <int> & <int> & <int> & <int> & <int> & <int> & <int> & <dbl>\\\\\n",
       "\\hline\n",
       "\t 114872 & 14 & 8 & 6 & 0 & 1158 & 114293 & 1608208 & 25661368\\\\\n",
       "\\end{tabular}\n"
      ],
      "text/markdown": [
       "\n",
       "A tibble: 1 × 9\n",
       "\n",
       "| rows &lt;int&gt; | columns &lt;int&gt; | discrete_columns &lt;int&gt; | continuous_columns &lt;int&gt; | all_missing_columns &lt;int&gt; | total_missing_values &lt;int&gt; | complete_rows &lt;int&gt; | total_observations &lt;int&gt; | memory_usage &lt;dbl&gt; |\n",
       "|---|---|---|---|---|---|---|---|---|\n",
       "| 114872 | 14 | 8 | 6 | 0 | 1158 | 114293 | 1608208 | 25661368 |\n",
       "\n"
      ],
      "text/plain": [
       "  rows   columns discrete_columns continuous_columns all_missing_columns\n",
       "1 114872 14      8                6                  0                  \n",
       "  total_missing_values complete_rows total_observations memory_usage\n",
       "1 1158                 114293        1608208            25661368    "
      ]
     },
     "metadata": {},
     "output_type": "display_data"
    },
    {
     "data": {
      "image/png": "[encoded data removed]",
      "text/plain": [
       "plot without title"
      ]
     },
     "metadata": {},
     "output_type": "display_data"
    },
    {
     "name": "stderr",
     "output_type": "stream",
     "text": [
      "3 columns ignored with more than 50 categories.\n",
      "commentContent: 107944 categories\n",
      "commentTime: 85533 categories\n",
      "productName: 248 categories\n",
      "\n"
     ]
    },
    {
     "data": {
      "image/png": "[encoded data removed]",
      "text/plain": [
       "plot without title"
      ]
     },
     "metadata": {},
     "output_type": "display_data"
    },
    {
     "data": {
      "image/png": "[encoded data removed]",
      "text/plain": [
       "plot without title"
      ]
     },
     "metadata": {},
     "output_type": "display_data"
    }
   ],
   "source": [
    "#exploratory data analysis using DataExplorer\n",
    "head(df)\n",
    "introduce(df)\n",
    "plot_intro(df)\n",
    "plot_missing(df)\n",
    "plot_bar(df, binary_as_factor = TRUE)"
   ]
  },
  {
   "cell_type": "code",
   "execution_count": 51,
   "metadata": {},
   "outputs": [
    {
     "data": {
      "image/png": "[encoded data removed]",
      "text/plain": [
       "plot without title"
      ]
     },
     "metadata": {},
     "output_type": "display_data"
    }
   ],
   "source": [
    "plot_histogram(df)"
   ]
  },
  {
   "cell_type": "code",
   "execution_count": 47,
   "metadata": {
    "scrolled": true
   },
   "outputs": [
    {
     "data": {
      "image/png": "[encoded data removed]",
      "text/plain": [
       "Plot with title \"Histogram of subset(df, device == \"Mobile Phone\")$commentLen\""
      ]
     },
     "metadata": {},
     "output_type": "display_data"
    },
    {
     "data": {
      "image/png": "[encoded data removed]",
      "text/plain": [
       "Plot with title \"Histogram of subset(df, device == \"Mobile Phone\")$sentiScore\""
      ]
     },
     "metadata": {},
     "output_type": "display_data"
    },
    {
     "data": {
      "image/png": "[encoded data removed]",
      "text/plain": [
       "Plot with title \"Histogram of subset(df, device == \"Mobile Phone\")$usefulVoteCount\""
      ]
     },
     "metadata": {},
     "output_type": "display_data"
    },
    {
     "data": {
      "image/png": "[encoded data removed]",
      "text/plain": [
       "Plot with title \"Histogram of subset(df, device == \"Mobile Phone\")$commentHour\""
      ]
     },
     "metadata": {},
     "output_type": "display_data"
    },
    {
     "data": {
      "image/png": "[encoded data removed]",
      "text/plain": [
       "Plot with title \"Histogram of subset(df, device == \"Mobile Phone\")$imageCount\""
      ]
     },
     "metadata": {},
     "output_type": "display_data"
    }
   ],
   "source": [
    "par(mfrow = c(2, 1), mar = c(4, 4, 2, 1))\n",
    "hist(subset(df, device == \"PC\")$commentLen, col = \"green\", breaks = 30, freq=FALSE)\n",
    "hist(subset(df, device == \"Mobile Phone\")$commentLen, col = \"blue\", breaks = 30, freq=FALSE)\n",
    "\n",
    "par(mfrow = c(2, 1), mar = c(4, 4, 2, 1))\n",
    "hist(subset(df, device == \"PC\")$sentiScore, col = \"green\", breaks = 30, freq=FALSE)\n",
    "hist(subset(df, device == \"Mobile Phone\")$sentiScore, col = \"blue\", breaks = 30, freq=FALSE)\n",
    "\n",
    "par(mfrow = c(2, 1), mar = c(4, 4, 2, 1))\n",
    "hist(subset(df, device == \"PC\")$usefulVoteCount, col = \"green\", breaks = 100, freq=FALSE)\n",
    "hist(subset(df, device == \"Mobile Phone\")$usefulVoteCount, col = \"blue\", breaks = 100, freq=FALSE)\n",
    "\n",
    "par(mfrow = c(2, 1), mar = c(4, 4, 2, 1))\n",
    "hist(subset(df, device == \"PC\")$commentHour, col = \"green\", breaks = 24, freq=FALSE)\n",
    "hist(subset(df, device == \"Mobile Phone\")$commentHour, col = \"blue\", breaks = 24, freq=FALSE)\n",
    "\n",
    "par(mfrow = c(2, 1), mar = c(4, 4, 2, 1))\n",
    "hist(subset(df, device == \"PC\")$imageCount, col = \"green\", breaks = 10, freq=FALSE)\n",
    "hist(subset(df, device == \"Mobile Phone\")$imageCount, col = \"blue\", breaks = 10, freq=FALSE)"
   ]
  },
  {
   "cell_type": "code",
   "execution_count": 52,
   "metadata": {},
   "outputs": [
    {
     "name": "stderr",
     "output_type": "stream",
     "text": [
      "Adding missing grouping variables: `productCate`\n"
     ]
    },
    {
     "data": {
      "text/html": [
       "<table>\n",
       "<caption>A tibble: 14 × 5</caption>\n",
       "<thead>\n",
       "\t<tr><th scope=col>productCate</th><th scope=col>imageCount</th><th scope=col>usefulVoteCount</th><th scope=col>commentLen</th><th scope=col>sentiScore</th></tr>\n",
       "\t<tr><th scope=col>&lt;fct&gt;</th><th scope=col>&lt;dbl&gt;</th><th scope=col>&lt;dbl&gt;</th><th scope=col>&lt;dbl&gt;</th><th scope=col>&lt;dbl&gt;</th></tr>\n",
       "</thead>\n",
       "<tbody>\n",
       "\t<tr><td>Accessories           </td><td>0.4757694</td><td>0.09828260</td><td>19.02653</td><td>0.8980643</td></tr>\n",
       "\t<tr><td><span style=white-space:pre-wrap>Books &amp; CDs           </span></td><td>0.3163135</td><td>0.02757212</td><td>22.07940</td><td>0.7792069</td></tr>\n",
       "\t<tr><td>Clothes               </td><td>0.3368653</td><td>0.15908756</td><td>23.36218</td><td>0.9291672</td></tr>\n",
       "\t<tr><td>Cosmetics             </td><td>0.8718879</td><td>0.10338005</td><td>29.55565</td><td>0.9344713</td></tr>\n",
       "\t<tr><td>Daily necessities     </td><td>0.6638923</td><td>0.01542228</td><td>25.69461</td><td>0.9211970</td></tr>\n",
       "\t<tr><td>Digital Product       </td><td>0.7578074</td><td>0.37028638</td><td>31.96605</td><td>0.8443382</td></tr>\n",
       "\t<tr><td><span style=white-space:pre-wrap>Food &amp; Drinks         </span></td><td>0.8344941</td><td>0.06943347</td><td>27.00352</td><td>0.9224178</td></tr>\n",
       "\t<tr><td>Furniture / Furnishing</td><td>0.4419744</td><td>0.06851920</td><td>21.70289</td><td>0.8607350</td></tr>\n",
       "\t<tr><td>Home Appliance        </td><td>0.8223517</td><td>0.11674030</td><td>28.74509</td><td>0.8878582</td></tr>\n",
       "\t<tr><td>Industrial supplies   </td><td>1.0719008</td><td>0.25289256</td><td>26.82397</td><td>0.9054842</td></tr>\n",
       "\t<tr><td><span style=white-space:pre-wrap>Maternity &amp; Baby      </span></td><td>0.6755387</td><td>0.04119138</td><td>27.47465</td><td>0.9152090</td></tr>\n",
       "\t<tr><td>Medical supplies      </td><td>0.9985913</td><td>0.33145502</td><td>33.64319</td><td>0.9043085</td></tr>\n",
       "\t<tr><td>Others                </td><td>0.4840866</td><td>0.06407808</td><td>21.03607</td><td>0.8723489</td></tr>\n",
       "\t<tr><td><span style=white-space:pre-wrap>Outdoor &amp; Sports      </span></td><td>0.9960578</td><td>0.17201051</td><td>24.52562</td><td>0.8873996</td></tr>\n",
       "</tbody>\n",
       "</table>\n"
      ],
      "text/latex": [
       "A tibble: 14 × 5\n",
       "\\begin{tabular}{r|lllll}\n",
       " productCate & imageCount & usefulVoteCount & commentLen & sentiScore\\\\\n",
       " <fct> & <dbl> & <dbl> & <dbl> & <dbl>\\\\\n",
       "\\hline\n",
       "\t Accessories            & 0.4757694 & 0.09828260 & 19.02653 & 0.8980643\\\\\n",
       "\t Books \\& CDs            & 0.3163135 & 0.02757212 & 22.07940 & 0.7792069\\\\\n",
       "\t Clothes                & 0.3368653 & 0.15908756 & 23.36218 & 0.9291672\\\\\n",
       "\t Cosmetics              & 0.8718879 & 0.10338005 & 29.55565 & 0.9344713\\\\\n",
       "\t Daily necessities      & 0.6638923 & 0.01542228 & 25.69461 & 0.9211970\\\\\n",
       "\t Digital Product        & 0.7578074 & 0.37028638 & 31.96605 & 0.8443382\\\\\n",
       "\t Food \\& Drinks          & 0.8344941 & 0.06943347 & 27.00352 & 0.9224178\\\\\n",
       "\t Furniture / Furnishing & 0.4419744 & 0.06851920 & 21.70289 & 0.8607350\\\\\n",
       "\t Home Appliance         & 0.8223517 & 0.11674030 & 28.74509 & 0.8878582\\\\\n",
       "\t Industrial supplies    & 1.0719008 & 0.25289256 & 26.82397 & 0.9054842\\\\\n",
       "\t Maternity \\& Baby       & 0.6755387 & 0.04119138 & 27.47465 & 0.9152090\\\\\n",
       "\t Medical supplies       & 0.9985913 & 0.33145502 & 33.64319 & 0.9043085\\\\\n",
       "\t Others                 & 0.4840866 & 0.06407808 & 21.03607 & 0.8723489\\\\\n",
       "\t Outdoor \\& Sports       & 0.9960578 & 0.17201051 & 24.52562 & 0.8873996\\\\\n",
       "\\end{tabular}\n"
      ],
      "text/markdown": [
       "\n",
       "A tibble: 14 × 5\n",
       "\n",
       "| productCate &lt;fct&gt; | imageCount &lt;dbl&gt; | usefulVoteCount &lt;dbl&gt; | commentLen &lt;dbl&gt; | sentiScore &lt;dbl&gt; |\n",
       "|---|---|---|---|---|\n",
       "| Accessories            | 0.4757694 | 0.09828260 | 19.02653 | 0.8980643 |\n",
       "| Books &amp; CDs            | 0.3163135 | 0.02757212 | 22.07940 | 0.7792069 |\n",
       "| Clothes                | 0.3368653 | 0.15908756 | 23.36218 | 0.9291672 |\n",
       "| Cosmetics              | 0.8718879 | 0.10338005 | 29.55565 | 0.9344713 |\n",
       "| Daily necessities      | 0.6638923 | 0.01542228 | 25.69461 | 0.9211970 |\n",
       "| Digital Product        | 0.7578074 | 0.37028638 | 31.96605 | 0.8443382 |\n",
       "| Food &amp; Drinks          | 0.8344941 | 0.06943347 | 27.00352 | 0.9224178 |\n",
       "| Furniture / Furnishing | 0.4419744 | 0.06851920 | 21.70289 | 0.8607350 |\n",
       "| Home Appliance         | 0.8223517 | 0.11674030 | 28.74509 | 0.8878582 |\n",
       "| Industrial supplies    | 1.0719008 | 0.25289256 | 26.82397 | 0.9054842 |\n",
       "| Maternity &amp; Baby       | 0.6755387 | 0.04119138 | 27.47465 | 0.9152090 |\n",
       "| Medical supplies       | 0.9985913 | 0.33145502 | 33.64319 | 0.9043085 |\n",
       "| Others                 | 0.4840866 | 0.06407808 | 21.03607 | 0.8723489 |\n",
       "| Outdoor &amp; Sports       | 0.9960578 | 0.17201051 | 24.52562 | 0.8873996 |\n",
       "\n"
      ],
      "text/plain": [
       "   productCate            imageCount usefulVoteCount commentLen sentiScore\n",
       "1  Accessories            0.4757694  0.09828260      19.02653   0.8980643 \n",
       "2  Books & CDs            0.3163135  0.02757212      22.07940   0.7792069 \n",
       "3  Clothes                0.3368653  0.15908756      23.36218   0.9291672 \n",
       "4  Cosmetics              0.8718879  0.10338005      29.55565   0.9344713 \n",
       "5  Daily necessities      0.6638923  0.01542228      25.69461   0.9211970 \n",
       "6  Digital Product        0.7578074  0.37028638      31.96605   0.8443382 \n",
       "7  Food & Drinks          0.8344941  0.06943347      27.00352   0.9224178 \n",
       "8  Furniture / Furnishing 0.4419744  0.06851920      21.70289   0.8607350 \n",
       "9  Home Appliance         0.8223517  0.11674030      28.74509   0.8878582 \n",
       "10 Industrial supplies    1.0719008  0.25289256      26.82397   0.9054842 \n",
       "11 Maternity & Baby       0.6755387  0.04119138      27.47465   0.9152090 \n",
       "12 Medical supplies       0.9985913  0.33145502      33.64319   0.9043085 \n",
       "13 Others                 0.4840866  0.06407808      21.03607   0.8723489 \n",
       "14 Outdoor & Sports       0.9960578  0.17201051      24.52562   0.8873996 "
      ]
     },
     "metadata": {},
     "output_type": "display_data"
    }
   ],
   "source": [
    "df_cov <- c('imageCount', 'usefulVoteCount', 'commentLen', 'sentiScore')\n",
    "df %>%\n",
    "  group_by(productCate) %>%\n",
    "  select(one_of(df_cov)) %>%\n",
    "  summarise_all(funs(mean(., na.rm = T)))"
   ]
  },
  {
   "cell_type": "code",
   "execution_count": 53,
   "metadata": {},
   "outputs": [
    {
     "data": {
      "text/html": [
       "<table>\n",
       "<caption>A tibble: 2 × 5</caption>\n",
       "<thead>\n",
       "\t<tr><th scope=col>device</th><th scope=col>imageCount</th><th scope=col>usefulVoteCount</th><th scope=col>commentLen</th><th scope=col>sentiScore</th></tr>\n",
       "\t<tr><th scope=col>&lt;fct&gt;</th><th scope=col>&lt;dbl&gt;</th><th scope=col>&lt;dbl&gt;</th><th scope=col>&lt;dbl&gt;</th><th scope=col>&lt;dbl&gt;</th></tr>\n",
       "</thead>\n",
       "<tbody>\n",
       "\t<tr><td>Mobile Phone</td><td>0.7115605</td><td>0.1316163</td><td>25.77098</td><td>0.8893337</td></tr>\n",
       "\t<tr><td>PC          </td><td>0.2820513</td><td>0.2992648</td><td>32.49955</td><td>0.8651192</td></tr>\n",
       "</tbody>\n",
       "</table>\n"
      ],
      "text/latex": [
       "A tibble: 2 × 5\n",
       "\\begin{tabular}{r|lllll}\n",
       " device & imageCount & usefulVoteCount & commentLen & sentiScore\\\\\n",
       " <fct> & <dbl> & <dbl> & <dbl> & <dbl>\\\\\n",
       "\\hline\n",
       "\t Mobile Phone & 0.7115605 & 0.1316163 & 25.77098 & 0.8893337\\\\\n",
       "\t PC           & 0.2820513 & 0.2992648 & 32.49955 & 0.8651192\\\\\n",
       "\\end{tabular}\n"
      ],
      "text/markdown": [
       "\n",
       "A tibble: 2 × 5\n",
       "\n",
       "| device &lt;fct&gt; | imageCount &lt;dbl&gt; | usefulVoteCount &lt;dbl&gt; | commentLen &lt;dbl&gt; | sentiScore &lt;dbl&gt; |\n",
       "|---|---|---|---|---|\n",
       "| Mobile Phone | 0.7115605 | 0.1316163 | 25.77098 | 0.8893337 |\n",
       "| PC           | 0.2820513 | 0.2992648 | 32.49955 | 0.8651192 |\n",
       "\n"
      ],
      "text/plain": [
       "  device       imageCount usefulVoteCount commentLen sentiScore\n",
       "1 Mobile Phone 0.7115605  0.1316163       25.77098   0.8893337 \n",
       "2 PC           0.2820513  0.2992648       32.49955   0.8651192 "
      ]
     },
     "metadata": {},
     "output_type": "display_data"
    },
    {
     "data": {
      "text/plain": [
       "\n",
       "\tWelch Two Sample t-test\n",
       "\n",
       "data:  imageCount by device\n",
       "t = 31.604, df = 6611.8, p-value < 2.2e-16\n",
       "alternative hypothesis: true difference in means is not equal to 0\n",
       "95 percent confidence interval:\n",
       " 0.4028681 0.4561503\n",
       "sample estimates:\n",
       "mean in group Mobile Phone           mean in group PC \n",
       "                 0.7115605                  0.2820513 \n"
      ]
     },
     "metadata": {},
     "output_type": "display_data"
    },
    {
     "data": {
      "text/plain": [
       "\n",
       "\tWelch Two Sample t-test\n",
       "\n",
       "data:  usefulVoteCount by device\n",
       "t = -2.2801, df = 5638, p-value = 0.02264\n",
       "alternative hypothesis: true difference in means is not equal to 0\n",
       "95 percent confidence interval:\n",
       " -0.31178668 -0.02351046\n",
       "sample estimates:\n",
       "mean in group Mobile Phone           mean in group PC \n",
       "                 0.1316163                  0.2992648 \n"
      ]
     },
     "metadata": {},
     "output_type": "display_data"
    },
    {
     "data": {
      "text/plain": [
       "\n",
       "\tWelch Two Sample t-test\n",
       "\n",
       "data:  commentLen by device\n",
       "t = -11.25, df = 5796, p-value < 2.2e-16\n",
       "alternative hypothesis: true difference in means is not equal to 0\n",
       "95 percent confidence interval:\n",
       " -7.901101 -5.556048\n",
       "sample estimates:\n",
       "mean in group Mobile Phone           mean in group PC \n",
       "                  25.77098                   32.49955 \n"
      ]
     },
     "metadata": {},
     "output_type": "display_data"
    },
    {
     "data": {
      "text/plain": [
       "\n",
       "\tWelch Two Sample t-test\n",
       "\n",
       "data:  sentiScore by device\n",
       "t = 6.2553, df = 6052.3, p-value = 4.238e-10\n",
       "alternative hypothesis: true difference in means is not equal to 0\n",
       "95 percent confidence interval:\n",
       " 0.01662595 0.03180311\n",
       "sample estimates:\n",
       "mean in group Mobile Phone           mean in group PC \n",
       "                 0.8893337                  0.8651192 \n"
      ]
     },
     "metadata": {},
     "output_type": "display_data"
    }
   ],
   "source": [
    "#propensity score matching\n",
    "df_cov <- c('imageCount', 'usefulVoteCount', 'commentLen', 'sentiScore','device')\n",
    "df %>%\n",
    "  group_by(device) %>%\n",
    "  select(one_of(df_cov)) %>%\n",
    "  summarise_all(funs(mean(., na.rm = T)))\n",
    "\n",
    "#t-test\n",
    "with(df, t.test(imageCount ~ device))\n",
    "with(df, t.test(usefulVoteCount ~ device))\n",
    "with(df, t.test(commentLen ~ device))\n",
    "with(df, t.test(sentiScore ~ device))"
   ]
  },
  {
   "cell_type": "code",
   "execution_count": 54,
   "metadata": {},
   "outputs": [
    {
     "name": "stdout",
     "output_type": "stream",
     "text": [
      " Factor w/ 2 levels \"0\",\"1\": 1 1 1 1 1 1 1 1 1 1 ...\n"
     ]
    }
   ],
   "source": [
    "df$treat <- recode(df$device, \"PC\"=\"1\", \"Mobile Phone\" = \"0\")\n",
    "str(df$treat)"
   ]
  },
  {
   "cell_type": "code",
   "execution_count": 55,
   "metadata": {},
   "outputs": [
    {
     "data": {
      "text/html": [
       "<table>\n",
       "<caption>A tibble: 1 × 15</caption>\n",
       "<thead>\n",
       "\t<tr><th scope=col>membershipLevel</th><th scope=col>commentContent</th><th scope=col>commentTime</th><th scope=col>source</th><th scope=col>productName</th><th scope=col>imageCount</th><th scope=col>containVideo</th><th scope=col>usefulVoteCount</th><th scope=col>device</th><th scope=col>sentiScore</th><th scope=col>actualFlag</th><th scope=col>productCate</th><th scope=col>commentHour</th><th scope=col>commentLen</th><th scope=col>treat</th></tr>\n",
       "\t<tr><th scope=col>&lt;fct&gt;</th><th scope=col>&lt;chr&gt;</th><th scope=col>&lt;dttm&gt;</th><th scope=col>&lt;fct&gt;</th><th scope=col>&lt;chr&gt;</th><th scope=col>&lt;int&gt;</th><th scope=col>&lt;lgl&gt;</th><th scope=col>&lt;int&gt;</th><th scope=col>&lt;fct&gt;</th><th scope=col>&lt;dbl&gt;</th><th scope=col>&lt;int&gt;</th><th scope=col>&lt;fct&gt;</th><th scope=col>&lt;int&gt;</th><th scope=col>&lt;dbl&gt;</th><th scope=col>&lt;fct&gt;</th></tr>\n",
       "</thead>\n",
       "<tbody>\n",
       "\t<tr><td>Plus</td><td>这下够穿了，真的挺实惠的，颜色也很喜欢，看看能穿住了吧</td><td>2019-05-08 08:45:00</td><td>Android</td><td>俞兆林10双袜子男短袜秋季65%纯棉船袜夏季隐形浅口潮袜运动篮球棉袜男 10双装Beer男短袜 均码</td><td>3</td><td>FALSE</td><td>0</td><td>Mobile Phone</td><td>0.99711</td><td>1</td><td>Clothes</td><td>9</td><td>24</td><td>0</td></tr>\n",
       "</tbody>\n",
       "</table>\n"
      ],
      "text/latex": [
       "A tibble: 1 × 15\n",
       "\\begin{tabular}{r|lllllllllllllll}\n",
       " membershipLevel & commentContent & commentTime & source & productName & imageCount & containVideo & usefulVoteCount & device & sentiScore & actualFlag & productCate & commentHour & commentLen & treat\\\\\n",
       " <fct> & <chr> & <dttm> & <fct> & <chr> & <int> & <lgl> & <int> & <fct> & <dbl> & <int> & <fct> & <int> & <dbl> & <fct>\\\\\n",
       "\\hline\n",
       "\t Plus & 这下够穿了，真的挺实惠的，颜色也很喜欢，看看能穿住了吧 & 2019-05-08 08:45:00 & Android & 俞兆林10双袜子男短袜秋季65\\%纯棉船袜夏季隐形浅口潮袜运动篮球棉袜男 10双装Beer男短袜 均码 & 3 & FALSE & 0 & Mobile Phone & 0.99711 & 1 & Clothes & 9 & 24 & 0\\\\\n",
       "\\end{tabular}\n"
      ],
      "text/markdown": [
       "\n",
       "A tibble: 1 × 15\n",
       "\n",
       "| membershipLevel &lt;fct&gt; | commentContent &lt;chr&gt; | commentTime &lt;dttm&gt; | source &lt;fct&gt; | productName &lt;chr&gt; | imageCount &lt;int&gt; | containVideo &lt;lgl&gt; | usefulVoteCount &lt;int&gt; | device &lt;fct&gt; | sentiScore &lt;dbl&gt; | actualFlag &lt;int&gt; | productCate &lt;fct&gt; | commentHour &lt;int&gt; | commentLen &lt;dbl&gt; | treat &lt;fct&gt; |\n",
       "|---|---|---|---|---|---|---|---|---|---|---|---|---|---|---|\n",
       "| Plus | 这下够穿了，真的挺实惠的，颜色也很喜欢，看看能穿住了吧 | 2019-05-08 08:45:00 | Android | 俞兆林10双袜子男短袜秋季65%纯棉船袜夏季隐形浅口潮袜运动篮球棉袜男 10双装Beer男短袜 均码 | 3 | FALSE | 0 | Mobile Phone | 0.99711 | 1 | Clothes | 9 | 24 | 0 |\n",
       "\n"
      ],
      "text/plain": [
       "  membershipLevel commentContent                                        \n",
       "1 Plus            这下够穿了，真的挺实惠的，颜色也很喜欢，看看能穿住了吧\n",
       "  commentTime         source \n",
       "1 2019-05-08 08:45:00 Android\n",
       "  productName                                                                            \n",
       "1 俞兆林10双袜子男短袜秋季65%纯棉船袜夏季隐形浅口潮袜运动篮球棉袜男 10双装Beer男短袜 均码\n",
       "  imageCount containVideo usefulVoteCount device       sentiScore actualFlag\n",
       "1 3          FALSE        0               Mobile Phone 0.99711    1         \n",
       "  productCate commentHour commentLen treat\n",
       "1 Clothes     9           24         0    "
      ]
     },
     "metadata": {},
     "output_type": "display_data"
    }
   ],
   "source": [
    "head(df,1)"
   ]
  },
  {
   "cell_type": "code",
   "execution_count": 66,
   "metadata": {},
   "outputs": [
    {
     "ename": "ERROR",
     "evalue": "Error in write_csv(df, file = \"D:/JD crawler/reviews_pre_match.csv\"): 参数没有用(file = \"D:/JD crawler/reviews_pre_match.csv\")\n",
     "output_type": "error",
     "traceback": [
      "Error in write_csv(df, file = \"D:/JD crawler/reviews_pre_match.csv\"): 参数没有用(file = \"D:/JD crawler/reviews_pre_match.csv\")\nTraceback:\n"
     ]
    }
   ],
   "source": [
    "write.csv(df, file =\"D:/JD crawler/reviews_pre_match.csv\")"
   ]
  },
  {
   "cell_type": "code",
   "execution_count": 28,
   "metadata": {},
   "outputs": [
    {
     "name": "stdout",
     "output_type": "stream",
     "text": [
      "package 'MatchIt' successfully unpacked and MD5 sums checked\n",
      "\n",
      "The downloaded binary packages are in\n",
      "\tC:\\Users\\hanwen\\AppData\\Local\\Temp\\Rtmp02Fwvx\\downloaded_packages\n"
     ]
    }
   ],
   "source": [
    "#install.packages(\"MatchIt\")"
   ]
  },
  {
   "cell_type": "code",
   "execution_count": 57,
   "metadata": {
    "scrolled": false
   },
   "outputs": [
    {
     "data": {
      "text/plain": [
       "\n",
       "Call:\n",
       "matchit(formula = treat ~ usefulVoteCount + imageCount + membershipLevel + \n",
       "    commentLen + productCate, data = df3, method = \"nearest\", \n",
       "    ratio = 1)\n",
       "\n",
       "Summary of balance for all data:\n",
       "                                  Means Treated Means Control SD Control\n",
       "distance                                 0.0847        0.0465     0.0375\n",
       "usefulVoteCount                          0.3011        0.1321     1.8087\n",
       "imageCount                               0.2828        0.7131     1.2872\n",
       "membershipLevel1-Normal                  0.0181        0.0857     0.2800\n",
       "membershipLevel2-Bronze                  0.0353        0.0789     0.2696\n",
       "membershipLevel3-Silver                  0.0689        0.1166     0.3210\n",
       "membershipLevel4-Gold                    0.0923        0.1120     0.3154\n",
       "membershipLevel5-Diamond                 0.1576        0.0930     0.2905\n",
       "membershipLevelEnterprise                0.0241        0.0026     0.0509\n",
       "membershipLevelPlus                      0.6007        0.5050     0.5000\n",
       "membershipLevelPlus(trial)               0.0031        0.0060     0.0775\n",
       "commentLen                              32.5880       25.7839    27.4132\n",
       "productCateBooks & CDs                   0.0803        0.0319     0.1758\n",
       "productCateClothes                       0.0270        0.0611     0.2395\n",
       "productCateCosmetics                     0.0230        0.0546     0.2272\n",
       "productCateDaily necessities             0.0722        0.0714     0.2576\n",
       "productCateDigital Product               0.1603        0.1338     0.3404\n",
       "productCateFood & Drinks                 0.1033        0.1228     0.3282\n",
       "productCateFurniture / Furnishing        0.1361        0.1188     0.3236\n",
       "productCateHome Appliance                0.0932        0.0878     0.2830\n",
       "productCateIndustrial supplies           0.0485        0.0309     0.1731\n",
       "productCateMaternity & Baby              0.0235        0.0423     0.2013\n",
       "productCateMedical supplies              0.0362        0.0438     0.2048\n",
       "productCateOthers                        0.1066        0.0812     0.2732\n",
       "productCateOutdoor & Sports              0.0519        0.0673     0.2506\n",
       "                                  Mean Diff eQQ Med eQQ Mean  eQQ Max\n",
       "distance                             0.0382  0.0281   0.0381   0.3564\n",
       "usefulVoteCount                      0.1690  0.0000   0.1323 125.0000\n",
       "imageCount                          -0.4303  0.0000   0.4312   2.0000\n",
       "membershipLevel1-Normal             -0.0676  0.0000   0.0677   1.0000\n",
       "membershipLevel2-Bronze             -0.0436  0.0000   0.0438   1.0000\n",
       "membershipLevel3-Silver             -0.0477  0.0000   0.0478   1.0000\n",
       "membershipLevel4-Gold               -0.0197  0.0000   0.0197   1.0000\n",
       "membershipLevel5-Diamond             0.0646  0.0000   0.0644   1.0000\n",
       "membershipLevelEnterprise            0.0215  0.0000   0.0213   1.0000\n",
       "membershipLevelPlus                  0.0957  0.0000   0.0957   1.0000\n",
       "membershipLevelPlus(trial)          -0.0030  0.0000   0.0031   1.0000\n",
       "commentLen                           6.8041  1.0000   8.1400 104.0000\n",
       "productCateBooks & CDs               0.0484  0.0000   0.0483   1.0000\n",
       "productCateClothes                  -0.0341  0.0000   0.0342   1.0000\n",
       "productCateCosmetics                -0.0316  0.0000   0.0317   1.0000\n",
       "productCateDaily necessities         0.0007  0.0000   0.0007   1.0000\n",
       "productCateDigital Product           0.0265  0.0000   0.0264   1.0000\n",
       "productCateFood & Drinks            -0.0195  0.0000   0.0195   1.0000\n",
       "productCateFurniture / Furnishing    0.0172  0.0000   0.0172   1.0000\n",
       "productCateHome Appliance            0.0054  0.0000   0.0052   1.0000\n",
       "productCateIndustrial supplies       0.0176  0.0000   0.0176   1.0000\n",
       "productCateMaternity & Baby         -0.0188  0.0000   0.0188   1.0000\n",
       "productCateMedical supplies         -0.0077  0.0000   0.0078   1.0000\n",
       "productCateOthers                    0.0253  0.0000   0.0253   1.0000\n",
       "productCateOutdoor & Sports         -0.0154  0.0000   0.0154   1.0000\n",
       "\n",
       "\n",
       "Summary of balance for matched data:\n",
       "                                  Means Treated Means Control SD Control\n",
       "distance                                 0.0847        0.0844     0.0717\n",
       "usefulVoteCount                          0.3011        0.1847     4.4003\n",
       "imageCount                               0.2828        0.2457     0.8739\n",
       "membershipLevel1-Normal                  0.0181        0.0204     0.1415\n",
       "membershipLevel2-Bronze                  0.0353        0.0385     0.1925\n",
       "membershipLevel3-Silver                  0.0689        0.0698     0.2549\n",
       "membershipLevel4-Gold                    0.0923        0.0916     0.2884\n",
       "membershipLevel5-Diamond                 0.1576        0.1572     0.3640\n",
       "membershipLevelEnterprise                0.0241        0.0259     0.1588\n",
       "membershipLevelPlus                      0.6007        0.5940     0.4911\n",
       "membershipLevelPlus(trial)               0.0031        0.0025     0.0503\n",
       "commentLen                              32.5880       30.6410    42.1248\n",
       "productCateBooks & CDs                   0.0803        0.0769     0.2664\n",
       "productCateClothes                       0.0270        0.0262     0.1598\n",
       "productCateCosmetics                     0.0230        0.0217     0.1458\n",
       "productCateDaily necessities             0.0722        0.0693     0.2540\n",
       "productCateDigital Product               0.1603        0.1596     0.3662\n",
       "productCateFood & Drinks                 0.1033        0.0984     0.2979\n",
       "productCateFurniture / Furnishing        0.1361        0.1368     0.3436\n",
       "productCateHome Appliance                0.0932        0.0955     0.2940\n",
       "productCateIndustrial supplies           0.0485        0.0508     0.2197\n",
       "productCateMaternity & Baby              0.0235        0.0253     0.1571\n",
       "productCateMedical supplies              0.0362        0.0351     0.1841\n",
       "productCateOthers                        0.1066        0.1105     0.3136\n",
       "productCateOutdoor & Sports              0.0519        0.0543     0.2266\n",
       "                                  Mean Diff eQQ Med eQQ Mean eQQ Max\n",
       "distance                             0.0003       0   0.0003  0.3413\n",
       "usefulVoteCount                      0.1163       0   0.1196 95.0000\n",
       "imageCount                           0.0371       0   0.0371  1.0000\n",
       "membershipLevel1-Normal             -0.0024       0   0.0024  1.0000\n",
       "membershipLevel2-Bronze             -0.0033       0   0.0033  1.0000\n",
       "membershipLevel3-Silver             -0.0009       0   0.0009  1.0000\n",
       "membershipLevel4-Gold                0.0007       0   0.0007  1.0000\n",
       "membershipLevel5-Diamond             0.0004       0   0.0004  1.0000\n",
       "membershipLevelEnterprise           -0.0018       0   0.0018  1.0000\n",
       "membershipLevelPlus                  0.0067       0   0.0067  1.0000\n",
       "membershipLevelPlus(trial)           0.0005       0   0.0005  1.0000\n",
       "commentLen                           1.9470       0   2.0042 16.0000\n",
       "productCateBooks & CDs               0.0034       0   0.0034  1.0000\n",
       "productCateClothes                   0.0007       0   0.0007  1.0000\n",
       "productCateCosmetics                 0.0013       0   0.0013  1.0000\n",
       "productCateDaily necessities         0.0029       0   0.0029  1.0000\n",
       "productCateDigital Product           0.0007       0   0.0007  1.0000\n",
       "productCateFood & Drinks             0.0049       0   0.0049  1.0000\n",
       "productCateFurniture / Furnishing   -0.0007       0   0.0007  1.0000\n",
       "productCateHome Appliance           -0.0024       0   0.0024  1.0000\n",
       "productCateIndustrial supplies      -0.0024       0   0.0024  1.0000\n",
       "productCateMaternity & Baby         -0.0018       0   0.0018  1.0000\n",
       "productCateMedical supplies          0.0011       0   0.0011  1.0000\n",
       "productCateOthers                   -0.0040       0   0.0040  1.0000\n",
       "productCateOutdoor & Sports         -0.0024       0   0.0024  1.0000\n",
       "\n",
       "Percent Balance Improvement:\n",
       "                                  Mean Diff. eQQ Med  eQQ Mean eQQ Max\n",
       "distance                             99.2177     100   99.1602  4.2155\n",
       "usefulVoteCount                      31.1439       0    9.5759 24.0000\n",
       "imageCount                           91.3808       0   91.3974 50.0000\n",
       "membershipLevel1-Normal              96.5227       0   96.5241  0.0000\n",
       "membershipLevel2-Bronze              92.5373       0   92.5620  0.0000\n",
       "membershipLevel3-Silver              98.1035       0   98.1061  0.0000\n",
       "membershipLevel4-Gold                96.3331       0   96.3303  0.0000\n",
       "membershipLevel5-Diamond             99.4395       0   99.4382  0.0000\n",
       "membershipLevelEnterprise            91.5733       0   91.5254  0.0000\n",
       "membershipLevelPlus                  93.0024       0   93.0057  0.0000\n",
       "membershipLevelPlus(trial)           81.7481       0   82.3529  0.0000\n",
       "commentLen                           71.3852     100   75.3790 84.6154\n",
       "productCateBooks & CDs               92.8977       0   92.8839  0.0000\n",
       "productCateClothes                   97.8805       0   97.8836  0.0000\n",
       "productCateCosmetics                 95.9941       0   96.0000  0.0000\n",
       "productCateDaily necessities       -289.0431       0 -300.0000  0.0000\n",
       "productCateDigital Product           97.2740       0   97.2603  0.0000\n",
       "productCateFood & Drinks             74.9285       0   75.0000  0.0000\n",
       "productCateFurniture / Furnishing    95.8032       0   95.7895  0.0000\n",
       "productCateHome Appliance            56.4698       0   55.1724  0.0000\n",
       "productCateIndustrial supplies       86.6198       0   86.5979  0.0000\n",
       "productCateMaternity & Baby          90.3804       0   90.3846  0.0000\n",
       "productCateMedical supplies          85.8287       0   86.0465  0.0000\n",
       "productCateOthers                    84.2793       0   84.2857  0.0000\n",
       "productCateOutdoor & Sports          84.7187       0   84.7059  0.0000\n",
       "\n",
       "Sample sizes:\n",
       "          Control Treated\n",
       "All        108766    5527\n",
       "Matched      5527    5527\n",
       "Unmatched  103239       0\n",
       "Discarded       0       0\n"
      ]
     },
     "metadata": {},
     "output_type": "display_data"
    },
    {
     "name": "stdout",
     "output_type": "stream",
     "text": [
      "[1] \"To identify the units, use first mouse button; to stop, use second.\"\n"
     ]
    },
    {
     "data": {
      "text/html": [],
      "text/latex": [],
      "text/markdown": [],
      "text/plain": [
       "integer(0)"
      ]
     },
     "metadata": {},
     "output_type": "display_data"
    },
    {
     "data": {
      "image/png": "[encoded data removed]",
      "text/plain": [
       "Plot with title \"Distribution of Propensity Scores\""
      ]
     },
     "metadata": {},
     "output_type": "display_data"
    },
    {
     "data": {
      "image/png": "[encoded data removed]",
      "text/plain": [
       "Plot with title \"Matched Control\""
      ]
     },
     "metadata": {},
     "output_type": "display_data"
    }
   ],
   "source": [
    "library(MatchIt)\n",
    "df3 <- na.omit(df)\n",
    "pcm.out = matchit(treat ~ usefulVoteCount + imageCount + membershipLevel + commentLen + productCate, data = df3, method = \"nearest\",ratio = 1)\n",
    "summary(pcm.out)\n",
    "plot(pcm.out, type = \"jitter\")\n",
    "plot(pcm.out, type = \"hist\")"
   ]
  },
  {
   "cell_type": "code",
   "execution_count": 67,
   "metadata": {},
   "outputs": [
    {
     "ename": "ERROR",
     "evalue": "Error in write.table(pcm.data, file = \"D:/JD crawler/propensity score matching/pcm_output.csv\", : 参数没有用(locale = locale(encoding = stringi::stri_enc_get()))\n",
     "output_type": "error",
     "traceback": [
      "Error in write.table(pcm.data, file = \"D:/JD crawler/propensity score matching/pcm_output.csv\", : 参数没有用(locale = locale(encoding = stringi::stri_enc_get()))\nTraceback:\n",
      "1. write.csv(pcm.data, file = \"D:/JD crawler/propensity score matching/pcm_output.csv\", \n .     locale = locale(encoding = stringi::stri_enc_get()))",
      "2. eval.parent(Call)",
      "3. eval(expr, p)",
      "4. eval(expr, p)"
     ]
    }
   ],
   "source": [
    "pcm.data <- match.data(pcm.out)\n",
    "# write.csv(pcm.data, file =\"D:/JD crawler/propensity score matching/pcm_output.csv\")"
   ]
  },
  {
   "cell_type": "code",
   "execution_count": 42,
   "metadata": {},
   "outputs": [
    {
     "name": "stderr",
     "output_type": "stream",
     "text": [
      "The following objects are masked from pcm.data (pos = 3):\n",
      "\n",
      "    actualFlag, commentContent, commentHour, commentLen, commentTime,\n",
      "    containVideo, device, distance, imageCount, membershipLevel,\n",
      "    predictScore, productName, source, treat, usefulVoteCount, weights\n",
      "\n",
      "The following objects are masked from pcm.data (pos = 4):\n",
      "\n",
      "    actualFlag, commentContent, commentHour, commentLen, commentTime,\n",
      "    containVideo, device, distance, imageCount, membershipLevel,\n",
      "    predictScore, productName, source, treat, usefulVoteCount, weights\n",
      "\n",
      "The following objects are masked from df (pos = 5):\n",
      "\n",
      "    actualFlag, commentContent, commentHour, commentLen, commentTime,\n",
      "    containVideo, device, imageCount, membershipLevel, predictScore,\n",
      "    productName, source, treat, usefulVoteCount\n",
      "\n",
      "The following objects are masked from df (pos = 11):\n",
      "\n",
      "    actualFlag, commentContent, commentHour, commentTime, containVideo,\n",
      "    device, imageCount, membershipLevel, predictScore, productName,\n",
      "    source, usefulVoteCount\n",
      "\n",
      "Adding missing grouping variables: `treat`\n"
     ]
    },
    {
     "data": {
      "text/html": [
       "<table>\n",
       "<caption>A tibble: 2 × 4</caption>\n",
       "<thead>\n",
       "\t<tr><th scope=col>treat</th><th scope=col>usefulVoteCount</th><th scope=col>imageCount</th><th scope=col>commentLen</th></tr>\n",
       "\t<tr><th scope=col>&lt;fct&gt;</th><th scope=col>&lt;dbl&gt;</th><th scope=col>&lt;dbl&gt;</th><th scope=col>&lt;dbl&gt;</th></tr>\n",
       "</thead>\n",
       "<tbody>\n",
       "\t<tr><td>0</td><td>0.2218202</td><td>0.2601773</td><td>32.22779</td></tr>\n",
       "\t<tr><td>1</td><td>0.3010675</td><td>0.2827936</td><td>32.58802</td></tr>\n",
       "</tbody>\n",
       "</table>\n"
      ],
      "text/latex": [
       "A tibble: 2 × 4\n",
       "\\begin{tabular}{r|llll}\n",
       " treat & usefulVoteCount & imageCount & commentLen\\\\\n",
       " <fct> & <dbl> & <dbl> & <dbl>\\\\\n",
       "\\hline\n",
       "\t 0 & 0.2218202 & 0.2601773 & 32.22779\\\\\n",
       "\t 1 & 0.3010675 & 0.2827936 & 32.58802\\\\\n",
       "\\end{tabular}\n"
      ],
      "text/markdown": [
       "\n",
       "A tibble: 2 × 4\n",
       "\n",
       "| treat &lt;fct&gt; | usefulVoteCount &lt;dbl&gt; | imageCount &lt;dbl&gt; | commentLen &lt;dbl&gt; |\n",
       "|---|---|---|---|\n",
       "| 0 | 0.2218202 | 0.2601773 | 32.22779 |\n",
       "| 1 | 0.3010675 | 0.2827936 | 32.58802 |\n",
       "\n"
      ],
      "text/plain": [
       "  treat usefulVoteCount imageCount commentLen\n",
       "1 0     0.2218202       0.2601773  32.22779  \n",
       "2 1     0.3010675       0.2827936  32.58802  "
      ]
     },
     "metadata": {},
     "output_type": "display_data"
    }
   ],
   "source": [
    "attach(pcm.data)\n",
    "ecls_cov <- c('usefulVoteCount' , 'imageCount', 'commentLen')\n",
    "pcm.data %>%\n",
    "  group_by(treat) %>%\n",
    "  select(one_of(ecls_cov)) %>%\n",
    "  summarise_all(funs(mean))\n"
   ]
  },
  {
   "cell_type": "code",
   "execution_count": 44,
   "metadata": {},
   "outputs": [
    {
     "data": {
      "text/plain": [
       "[[1]]\n",
       "\n",
       "\tWelch Two Sample t-test\n",
       "\n",
       "data:  pcm.data[, v] by pcm.data[, \"treat\"]\n",
       "t = -0.79948, df = 10910, p-value = 0.424\n",
       "alternative hypothesis: true difference in means is not equal to 0\n",
       "95 percent confidence interval:\n",
       " -0.2735466  0.1150519\n",
       "sample estimates:\n",
       "mean in group 0 mean in group 1 \n",
       "      0.2218202       0.3010675 \n",
       "\n",
       "\n",
       "[[2]]\n",
       "\n",
       "\tWelch Two Sample t-test\n",
       "\n",
       "data:  pcm.data[, v] by pcm.data[, \"treat\"]\n",
       "t = -1.2708, df = 10971, p-value = 0.2038\n",
       "alternative hypothesis: true difference in means is not equal to 0\n",
       "95 percent confidence interval:\n",
       " -0.05750000  0.01226751\n",
       "sample estimates:\n",
       "mean in group 0 mean in group 1 \n",
       "      0.2601773       0.2827936 \n",
       "\n",
       "\n",
       "[[3]]\n",
       "\n",
       "\tWelch Two Sample t-test\n",
       "\n",
       "data:  pcm.data[, v] by pcm.data[, \"treat\"]\n",
       "t = -0.42803, df = 11051, p-value = 0.6686\n",
       "alternative hypothesis: true difference in means is not equal to 0\n",
       "95 percent confidence interval:\n",
       " -2.009920  1.289457\n",
       "sample estimates:\n",
       "mean in group 0 mean in group 1 \n",
       "       32.22779        32.58802 \n",
       "\n"
      ]
     },
     "metadata": {},
     "output_type": "display_data"
    }
   ],
   "source": [
    "lapply(ecls_cov, function(v) {\n",
    "    t.test(pcm.data[, v] ~ pcm.data[, 'treat'])\n",
    "})"
   ]
  }
 ],
 "metadata": {
  "kernelspec": {
   "display_name": "R",
   "language": "R",
   "name": "ir"
  },
  "language_info": {
   "codemirror_mode": "r",
   "file_extension": ".r",
   "mimetype": "text/x-r-source",
   "name": "R",
   "pygments_lexer": "r",
   "version": "3.5.1"
  }
 },
 "nbformat": 4,
 "nbformat_minor": 2
}
